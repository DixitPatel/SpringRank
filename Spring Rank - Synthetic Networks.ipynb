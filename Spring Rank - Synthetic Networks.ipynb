{
 "cells": [
  {
   "cell_type": "code",
   "execution_count": 82,
   "metadata": {
    "collapsed": false
   },
   "outputs": [],
   "source": [
    "import sys\n",
    "import os\n",
    "spr_path = \"/Users/Dixit/Documents/Studies/CU_Boulder/sem3/Independent_study/code/SpringRank/python\"\n",
    "sys.path.append(os.path.abspath(spr_path))\n",
    "import SpringRank_tools as SR\n",
    "import csv\n",
    "import matplotlib.pyplot as plt\n",
    "%matplotlib inline\n",
    "from sklearn import metrics\n",
    "import time\n",
    "import pandas as pd\n",
    "import networkx as nx\n",
    "import numpy as np\n",
    "import SpringRank_tools as sr\n",
    "import tools as tl"
   ]
  },
  {
   "cell_type": "code",
   "execution_count": 83,
   "metadata": {
    "collapsed": true
   },
   "outputs": [],
   "source": [
    "input_data_dir = '/Users/Dixit/Documents/Studies/CU_Boulder/sem3/Independent_study/github/SpringRank/data/input/'\n",
    "output_data_dir = '/Users/Dixit/Documents/Studies/CU_Boulder/sem3/Independent_study/github/SpringRank/data/output/'"
   ]
  },
  {
   "cell_type": "code",
   "execution_count": 84,
   "metadata": {
    "collapsed": true
   },
   "outputs": [],
   "source": [
    "def graphProp(A,description):\n",
    "    n=(A.shape[0])\n",
    "    e=(A.sum())\n",
    "    print(description)\n",
    "    print(' no. of nodes= {0}, no. of edges= {1}'.format(n,e))"
   ]
  },
  {
   "cell_type": "code",
   "execution_count": null,
   "metadata": {
    "collapsed": false
   },
   "outputs": [],
   "source": []
  },
  {
   "cell_type": "code",
   "execution_count": 85,
   "metadata": {
    "collapsed": false
   },
   "outputs": [],
   "source": [
    "# SR \n",
    "def run(A,alpha,l0,l1):\n",
    "    '''\n",
    "    Extracts SpringRank\n",
    "    '''\n",
    "    rank=sr.SpringRank(A,alpha=alpha,l0=l0,l1=l1)\n",
    "    rank=tl.shift_rank(rank)   # (optional) shifts so that the min is in zero and the others are positive\n",
    "    \n",
    "    unordered_tuples=[(i,rank[i]) for i in range(A.shape[0])]\n",
    "    return rank,unordered_tuples\n",
    "\n",
    "def save(sorted_tuples,alpha,l0,l1,G,file):\n",
    "    '''\n",
    "    Prints results\n",
    "    '''\n",
    "    print('SpringRank scores:')\n",
    "    outfile=output_data_dir+'/'+file+'_SpringRank_'+'a'+str(alpha)+'_l0_'+str(l0)+'_l1_'+str(l1)+'.dat'\n",
    "    outf=open(outfile,'w')\n",
    "\n",
    "    for i in range(G.number_of_nodes()):\n",
    "        outf.write(\"{} {}\\n\".format(sorted_tuples[i][0],sorted_tuples[i][1]))\n",
    "    print('Results saved in:', outfile)\n",
    "    outf.close()\n",
    "    \n",
    "def getEqn39(rank,A,start,end,step):\n",
    "    x = np.arange(start,end,step)\n",
    "    y=[]\n",
    "    for xi in x:\n",
    "        y.append(tl.eqs39(xi,rank,A))\n",
    "    return x,y\n",
    "\n",
    "def eqn39SimplePlot(rank,A,save):\n",
    "    x,y = getEqn39(rank,A,0.1,20,1)\n",
    "    plt.plot(x,y)\n",
    "    plt.title('Eqn 39 :'+save)\n",
    "    if save:\n",
    "        plt.savefig(output_data_dir+save+'.svg')\n",
    "\n",
    "   \n"
   ]
  },
  {
   "cell_type": "code",
   "execution_count": 86,
   "metadata": {
    "collapsed": false
   },
   "outputs": [],
   "source": [
    "def prediction(beta,Adj,scores):\n",
    "    preds={}\n",
    "    size=Adj.shape[0]\n",
    "    for i in range(0,size):\n",
    "        for j in range(0,size):\n",
    "            if(Adj[(i,j)]>0 or Adj[(j,i)]>0):\n",
    "                preds[(i,j)] = 1/(1+np.exp(-beta*2*(scores[i]-scores[j])))\n",
    "            else: preds[(i,j)] = 0\n",
    "    return preds\n",
    "\n",
    "def getAccuracy(preds,Adj,num_edges):\n",
    "    total=0\n",
    "    size = Adj.shape[0]\n",
    "    for i in range(0,size):\n",
    "        for j in range(0,size):\n",
    "            if(i!=j and (Adj[(i,j)]>0 or Adj[(j,i)]>0)):\n",
    "                total += abs(Adj[(i,j)]-((Adj[(i,j)]+Adj[j,i])*preds[(i,j)]))\n",
    "    total = 1-((total)/(2*num_edges))\n",
    "    return total\n",
    "\n",
    " \n"
   ]
  },
  {
   "cell_type": "markdown",
   "metadata": {},
   "source": [
    "# Create Synthetic network"
   ]
  },
  {
   "cell_type": "code",
   "execution_count": 87,
   "metadata": {
    "collapsed": false
   },
   "outputs": [],
   "source": [
    "def _expectedEqn(beta,c,si,sj):\n",
    "    return c*np.exp(-beta*0.5*(si-sj-1)*(si-sj-1))\n",
    "\n",
    "def _getC(beta,num_nodes,scores):\n",
    "    c = 20*num_nodes\n",
    "    total = 0;\n",
    "    for i in range(0,num_nodes):\n",
    "        for j in range(0,num_nodes):\n",
    "            total+=np.exp(-beta*0.5*(scores[i]-scores[j]-1)*(scores[i]-scores[j]-1))\n",
    "    return c*1.0/(total)\n",
    "\n",
    "def _createNetwork(scores,beta,c,num_nodes):\n",
    "    A = np.zeros((num_nodes,num_nodes),dtype=np.int)\n",
    "    for i in range(0,num_nodes):\n",
    "        for j in range(0,num_nodes):\n",
    "            if(i!=j):\n",
    "                mean = _expectedEqn(beta,c,scores[i],scores[j])\n",
    "                weight = np.random.poisson(mean)\n",
    "                A[i,j] = weight\n",
    "    return A\n",
    "\n",
    "# generate a 100 node network from normal distribution with given beta \n",
    "def generateNetwork(beta):\n",
    "    number_of_nodes=100\n",
    "    mu, sigma = 0.5,1 # mean and standard deviation\n",
    "    #np.random.seed(int(time.time()))\n",
    "    scores = np.random.normal(mu, sigma, number_of_nodes+1)\n",
    "    c=_getC(beta,number_of_nodes,scores)\n",
    "    A = _createNetwork(scores,beta,c,number_of_nodes)\n",
    "    A = np.matrix(A,copy=False)\n",
    "    return A,scores\n",
    "\n",
    "def _getEdgeList(A):\n",
    "    edge_list = []\n",
    "    shape,_=A.shape\n",
    "    for i in range(0,shape):\n",
    "        for j in range(0,shape):\n",
    "            edge_list.append((i,j))\n",
    "    return edge_list\n",
    "        \n",
    "    \n",
    "#Split given adjacency into train (80%) and test (20%)\n",
    "#remove interaction, regardless of weight \n",
    "def getTrainingandTestSet(A_orig):\n",
    "    A_train = A_orig.copy()\n",
    "    A_test  = np.zeros((A_orig.shape),dtype=np.int)\n",
    "    edge_list = _getEdgeList(A_orig)\n",
    "    np.random.shuffle(edge_list)\n",
    "    choice_idx = np.random.choice(len(edge_list), int(len(edge_list)*0.2), replace=False)\n",
    "    for i in choice_idx:\n",
    "        (k,l) = edge_list[i]\n",
    "        A_test[(k,l)] = A_orig[(k,l)]\n",
    "        A_train[(k,l)] = 0\n",
    "    A_train = np.matrix(A_train,copy=False)\n",
    "    A_test = np.matrix(A_test,copy=False)    \n",
    "    return A_train,A_test\n",
    "\n",
    "\n",
    "    "
   ]
  },
  {
   "cell_type": "code",
   "execution_count": 88,
   "metadata": {
    "collapsed": true
   },
   "outputs": [],
   "source": [
    "# Find beta and ranks for given adjacency ; should be np.matrix type\n",
    "def trainBetaAndRanks(A,alpha,l0,l1):\n",
    "    ranks,tuples = run(A,alpha,l0,l1)\n",
    "    temp=tl.get_optimal_temperature(ranks,A)\n",
    "    beta = 1/temp\n",
    "    print(\"Optimal Beta: \"+str(beta))\n",
    "    return beta,ranks\n",
    "\n",
    "def getPredictionsAndAccuracy(beta,A,ranks):\n",
    "    preds = prediction(beta,A,ranks)\n",
    "    acc = getAccuracy(preds,A,A.sum())\n",
    "    print(\"Accuracy : \"+str(acc))\n",
    "    return preds,acc\n",
    "\n"
   ]
  },
  {
   "cell_type": "markdown",
   "metadata": {},
   "source": [
    "# Create networks 1,2,3 ; Create training and test sets ; Run experiments"
   ]
  },
  {
   "cell_type": "code",
   "execution_count": 89,
   "metadata": {
    "collapsed": true
   },
   "outputs": [],
   "source": [
    "def experimentBeta(beta):\n",
    "    A1,scores1 = generateNetwork(beta=beta) # Adjacency Network A\n",
    "    A2,scores2 = generateNetwork(beta=beta) # Adjacency Network B\n",
    "    A3,scores3 = generateNetwork(beta=beta) # Adjacency Network C\n",
    "    A1_train,A1_test = getTrainingandTestSet(A1)\n",
    "    A3_train,A3_test = getTrainingandTestSet(A3)\n",
    "    A13 = np.add(A1,A3)\n",
    "    A13_train,A13_test = getTrainingandTestSet(A13)\n",
    "    graphProp(A1,\"Network A\")\n",
    "    graphProp(A1_train,\"NetworkA Training\")\n",
    "    graphProp(A1_test,\"NetworkA Test\")\n",
    "    graphProp(A2,\"Network B\")\n",
    "    graphProp(A3,\"NetworkC\")\n",
    "    graphProp(A13,\"Network A+C\")\n",
    "    \n",
    "    # =================== Experiment 1  (A --> B) ===================\n",
    "    A1_beta_train,A1_ranks_train,A1_preds_train,A1_acc_train = trainingExperiment(A1_train,0,0,1)\n",
    "    A1_preds_test,A1_acc_test = getPredictionsAndAccuracy(A1_beta_train,A1_test,A1_ranks_train)\n",
    "    A12_preds,A12_acc = getPredictionsAndAccuracy(A1_beta_train,A2,A1_ranks_train)\n",
    "    \n",
    "    # =================== Experiment 2 (C --> B) ===================\n",
    "    A3_beta_train,A3_ranks_train,A3_preds_train,A3_acc_train = trainingExperiment(A3_train,0,0,1)\n",
    "    A3_preds_test,A3_acc_test = getPredictionsAndAccuracy(A3_beta_train,A3_test,A3_ranks_train)\n",
    "    A32_preds,A32_acc = getPredictionsAndAccuracy(A3_beta_train,A2,A3_ranks_train)\n",
    "\n",
    "    # =================== Experiment 3 (A+C --> B) ===================\n",
    "    A13_beta_train,A13_ranks_train,A13_preds_train,A13_acc_train = trainingExperiment(A13_train,0,0,1)\n",
    "    A13_preds_test,A13_acc_test = getPredictionsAndAccuracy(A13_beta_train,A13_test,A13_ranks_train)\n",
    "    A132_preds,A132_acc = getPredictionsAndAccuracy(A13_beta_train,A2,A13_ranks_train)\n",
    "\n",
    "    experiment_names = [\"Experiment 1 (A-->B)\",\"Experiment 2 (C-->B)\",\"Experiment 3 (A+C-->B)\"]\n",
    "    experiments = [[A1_acc_train,A1_acc_test,A12_acc],[A3_acc_train,A3_acc_test,A32_acc],[A13_acc_train,A13_acc_test,A132_acc]]\n",
    "    data = np.array([\n",
    "        ['','Training data (80%)','Test data (20%)','Network B (100%)'],\n",
    "        [experiment_names[0],A1_acc_train,A1_acc_test,A12_acc],\n",
    "        [experiment_names[1],A3_acc_train,A3_acc_test,A32_acc],\n",
    "        [experiment_names[2],A13_acc_train,A13_acc_test,A132_acc]])\n",
    "    dataframe  = pd.DataFrame(data=data[1:,1:],\n",
    "                         index=data[1:,0],\n",
    "                         columns=data[0,1:])\n",
    "    return dataframe\n"
   ]
  },
  {
   "cell_type": "markdown",
   "metadata": {
    "collapsed": false
   },
   "source": [
    "# Run experiment and Results"
   ]
  },
  {
   "cell_type": "code",
   "execution_count": 90,
   "metadata": {
    "collapsed": false,
    "scrolled": true
   },
   "outputs": [
    {
     "name": "stdout",
     "output_type": "stream",
     "text": [
      "Network A\n",
      " no. of nodes= 100, no. of edges= 2010\n",
      "NetworkA Training\n",
      " no. of nodes= 100, no. of edges= 1609\n",
      "NetworkA Test\n",
      " no. of nodes= 100, no. of edges= 401\n",
      "Network B\n",
      " no. of nodes= 100, no. of edges= 1945\n",
      "NetworkC\n",
      " no. of nodes= 100, no. of edges= 1998\n",
      "Network A+C\n",
      " no. of nodes= 100, no. of edges= 4008\n",
      "Optimal Beta: 0.8346770478808474\n",
      "Accuracy : 0.642798161205\n",
      "Accuracy : 0.571079092621\n",
      "Accuracy : 0.543114209046\n",
      "Optimal Beta: 0.8308165715437807\n",
      "Accuracy : 0.639192549883\n",
      "Accuracy : 0.586462409281\n",
      "Accuracy : 0.54622890729\n",
      "Optimal Beta: 1.0753593551670053\n",
      "Accuracy : 0.644925473168\n",
      "Accuracy : 0.555412252365\n",
      "Accuracy : 0.549808759879\n",
      "Network A\n",
      " no. of nodes= 100, no. of edges= 2000\n",
      "NetworkA Training\n",
      " no. of nodes= 100, no. of edges= 1621\n",
      "NetworkA Test\n",
      " no. of nodes= 100, no. of edges= 379\n",
      "Network B\n",
      " no. of nodes= 100, no. of edges= 1930\n",
      "NetworkC\n",
      " no. of nodes= 100, no. of edges= 1992\n",
      "Network A+C\n",
      " no. of nodes= 100, no. of edges= 3992\n",
      "Optimal Beta: 0.6856866752694567\n",
      "Accuracy : 0.666284453442\n",
      "Accuracy : 0.619964457266\n",
      "Accuracy : 0.531134099689\n",
      "Optimal Beta: 0.6556481758970563\n",
      "Accuracy : 0.661521973724\n",
      "Accuracy : 0.619193868688\n",
      "Accuracy : 0.52523492359\n",
      "Optimal Beta: 0.9645117715958824\n",
      "Accuracy : 0.649600933851\n",
      "Accuracy : 0.567190371921\n",
      "Accuracy : 0.528370153921\n",
      "Network A\n",
      " no. of nodes= 100, no. of edges= 2004\n",
      "NetworkA Training\n",
      " no. of nodes= 100, no. of edges= 1642\n",
      "NetworkA Test\n",
      " no. of nodes= 100, no. of edges= 362\n",
      "Network B\n",
      " no. of nodes= 100, no. of edges= 1926\n",
      "NetworkC\n",
      " no. of nodes= 100, no. of edges= 1907\n",
      "Network A+C\n",
      " no. of nodes= 100, no. of edges= 3911\n",
      "Optimal Beta: 0.47329261167932296\n",
      "Accuracy : 0.653553551976\n",
      "Accuracy : 0.613849527839\n",
      "Accuracy : 0.520881434671\n",
      "Optimal Beta: 0.46728804692579157\n",
      "Accuracy : 0.653520886797\n",
      "Accuracy : 0.620613202785\n",
      "Accuracy : 0.520971026466\n",
      "Optimal Beta: 0.867198325606421\n",
      "Accuracy : 0.656982337577\n",
      "Accuracy : 0.598999782782\n",
      "Accuracy : 0.516612373739\n",
      "Network A\n",
      " no. of nodes= 100, no. of edges= 1990\n",
      "NetworkA Training\n",
      " no. of nodes= 100, no. of edges= 1583\n",
      "NetworkA Test\n",
      " no. of nodes= 100, no. of edges= 407\n",
      "Network B\n",
      " no. of nodes= 100, no. of edges= 2038\n",
      "NetworkC\n",
      " no. of nodes= 100, no. of edges= 2003\n",
      "Network A+C\n",
      " no. of nodes= 100, no. of edges= 3993\n",
      "Optimal Beta: 0.4054302599253492\n",
      "Accuracy : 0.647072250069\n",
      "Accuracy : 0.628661086923\n",
      "Accuracy : 0.508939631558\n",
      "Optimal Beta: 0.3880524134053646\n",
      "Accuracy : 0.642845950055\n",
      "Accuracy : 0.610186770604\n",
      "Accuracy : 0.524395075377\n",
      "Optimal Beta: 0.8625841975335161\n",
      "Accuracy : 0.658179257635\n",
      "Accuracy : 0.590518050584\n",
      "Accuracy : 0.508168213463\n",
      "Network A\n",
      " no. of nodes= 100, no. of edges= 1993\n",
      "NetworkA Training\n",
      " no. of nodes= 100, no. of edges= 1610\n",
      "NetworkA Test\n",
      " no. of nodes= 100, no. of edges= 383\n",
      "Network B\n",
      " no. of nodes= 100, no. of edges= 1965\n",
      "NetworkC\n",
      " no. of nodes= 100, no. of edges= 2034\n",
      "Network A+C\n",
      " no. of nodes= 100, no. of edges= 4027\n",
      "Optimal Beta: 0.3230494092601811\n",
      "Accuracy : 0.622011638192\n",
      "Accuracy : 0.607096340687\n",
      "Accuracy : 0.515286223831\n",
      "Optimal Beta: 0.34676326207277947\n",
      "Accuracy : 0.627707229278\n",
      "Accuracy : 0.610531132287\n",
      "Accuracy : 0.512173816427\n",
      "Optimal Beta: 0.8359485986867657\n",
      "Accuracy : 0.661093938265\n",
      "Accuracy : 0.593848060222\n",
      "Accuracy : 0.504102701659\n"
     ]
    }
   ],
   "source": [
    "# Run experiments with beta values\n",
    "beta_exp = [0.5,1,1.5,2,2.5]\n",
    "df = {}\n",
    "for i in beta_exp:\n",
    "    df[\"beta=\"+str(i)] = experimentBeta(i)"
   ]
  },
  {
   "cell_type": "code",
   "execution_count": 91,
   "metadata": {
    "collapsed": false,
    "scrolled": false
   },
   "outputs": [
    {
     "data": {
      "text/html": [
       "<div>\n",
       "<style>\n",
       "    .dataframe thead tr:only-child th {\n",
       "        text-align: right;\n",
       "    }\n",
       "\n",
       "    .dataframe thead th {\n",
       "        text-align: left;\n",
       "    }\n",
       "\n",
       "    .dataframe tbody tr th {\n",
       "        vertical-align: top;\n",
       "    }\n",
       "</style>\n",
       "<table border=\"1\" class=\"dataframe\">\n",
       "  <thead>\n",
       "    <tr style=\"text-align: right;\">\n",
       "      <th></th>\n",
       "      <th></th>\n",
       "      <th>Training data (80%)</th>\n",
       "      <th>Test data (20%)</th>\n",
       "      <th>Network B (100%)</th>\n",
       "    </tr>\n",
       "  </thead>\n",
       "  <tbody>\n",
       "    <tr>\n",
       "      <th rowspan=\"3\" valign=\"top\">beta=0.5</th>\n",
       "      <th>Experiment 1 (A--&gt;B)</th>\n",
       "      <td>0.642798161205</td>\n",
       "      <td>0.571079092621</td>\n",
       "      <td>0.543114209046</td>\n",
       "    </tr>\n",
       "    <tr>\n",
       "      <th>Experiment 2 (C--&gt;B)</th>\n",
       "      <td>0.639192549883</td>\n",
       "      <td>0.586462409281</td>\n",
       "      <td>0.54622890729</td>\n",
       "    </tr>\n",
       "    <tr>\n",
       "      <th>Experiment 3 (A+C--&gt;B)</th>\n",
       "      <td>0.644925473168</td>\n",
       "      <td>0.555412252365</td>\n",
       "      <td>0.549808759879</td>\n",
       "    </tr>\n",
       "    <tr>\n",
       "      <th rowspan=\"3\" valign=\"top\">beta=1</th>\n",
       "      <th>Experiment 1 (A--&gt;B)</th>\n",
       "      <td>0.666284453442</td>\n",
       "      <td>0.619964457266</td>\n",
       "      <td>0.531134099689</td>\n",
       "    </tr>\n",
       "    <tr>\n",
       "      <th>Experiment 2 (C--&gt;B)</th>\n",
       "      <td>0.661521973724</td>\n",
       "      <td>0.619193868688</td>\n",
       "      <td>0.52523492359</td>\n",
       "    </tr>\n",
       "    <tr>\n",
       "      <th>Experiment 3 (A+C--&gt;B)</th>\n",
       "      <td>0.649600933851</td>\n",
       "      <td>0.567190371921</td>\n",
       "      <td>0.528370153921</td>\n",
       "    </tr>\n",
       "    <tr>\n",
       "      <th rowspan=\"3\" valign=\"top\">beta=1.5</th>\n",
       "      <th>Experiment 1 (A--&gt;B)</th>\n",
       "      <td>0.653553551976</td>\n",
       "      <td>0.613849527839</td>\n",
       "      <td>0.520881434671</td>\n",
       "    </tr>\n",
       "    <tr>\n",
       "      <th>Experiment 2 (C--&gt;B)</th>\n",
       "      <td>0.653520886797</td>\n",
       "      <td>0.620613202785</td>\n",
       "      <td>0.520971026466</td>\n",
       "    </tr>\n",
       "    <tr>\n",
       "      <th>Experiment 3 (A+C--&gt;B)</th>\n",
       "      <td>0.656982337577</td>\n",
       "      <td>0.598999782782</td>\n",
       "      <td>0.516612373739</td>\n",
       "    </tr>\n",
       "    <tr>\n",
       "      <th rowspan=\"3\" valign=\"top\">beta=2</th>\n",
       "      <th>Experiment 1 (A--&gt;B)</th>\n",
       "      <td>0.647072250069</td>\n",
       "      <td>0.628661086923</td>\n",
       "      <td>0.508939631558</td>\n",
       "    </tr>\n",
       "    <tr>\n",
       "      <th>Experiment 2 (C--&gt;B)</th>\n",
       "      <td>0.642845950055</td>\n",
       "      <td>0.610186770604</td>\n",
       "      <td>0.524395075377</td>\n",
       "    </tr>\n",
       "    <tr>\n",
       "      <th>Experiment 3 (A+C--&gt;B)</th>\n",
       "      <td>0.658179257635</td>\n",
       "      <td>0.590518050584</td>\n",
       "      <td>0.508168213463</td>\n",
       "    </tr>\n",
       "    <tr>\n",
       "      <th rowspan=\"3\" valign=\"top\">beta=2.5</th>\n",
       "      <th>Experiment 1 (A--&gt;B)</th>\n",
       "      <td>0.622011638192</td>\n",
       "      <td>0.607096340687</td>\n",
       "      <td>0.515286223831</td>\n",
       "    </tr>\n",
       "    <tr>\n",
       "      <th>Experiment 2 (C--&gt;B)</th>\n",
       "      <td>0.627707229278</td>\n",
       "      <td>0.610531132287</td>\n",
       "      <td>0.512173816427</td>\n",
       "    </tr>\n",
       "    <tr>\n",
       "      <th>Experiment 3 (A+C--&gt;B)</th>\n",
       "      <td>0.661093938265</td>\n",
       "      <td>0.593848060222</td>\n",
       "      <td>0.504102701659</td>\n",
       "    </tr>\n",
       "  </tbody>\n",
       "</table>\n",
       "</div>"
      ],
      "text/plain": [
       "                                Training data (80%) Test data (20%)  \\\n",
       "beta=0.5 Experiment 1 (A-->B)        0.642798161205  0.571079092621   \n",
       "         Experiment 2 (C-->B)        0.639192549883  0.586462409281   \n",
       "         Experiment 3 (A+C-->B)      0.644925473168  0.555412252365   \n",
       "beta=1   Experiment 1 (A-->B)        0.666284453442  0.619964457266   \n",
       "         Experiment 2 (C-->B)        0.661521973724  0.619193868688   \n",
       "         Experiment 3 (A+C-->B)      0.649600933851  0.567190371921   \n",
       "beta=1.5 Experiment 1 (A-->B)        0.653553551976  0.613849527839   \n",
       "         Experiment 2 (C-->B)        0.653520886797  0.620613202785   \n",
       "         Experiment 3 (A+C-->B)      0.656982337577  0.598999782782   \n",
       "beta=2   Experiment 1 (A-->B)        0.647072250069  0.628661086923   \n",
       "         Experiment 2 (C-->B)        0.642845950055  0.610186770604   \n",
       "         Experiment 3 (A+C-->B)      0.658179257635  0.590518050584   \n",
       "beta=2.5 Experiment 1 (A-->B)        0.622011638192  0.607096340687   \n",
       "         Experiment 2 (C-->B)        0.627707229278  0.610531132287   \n",
       "         Experiment 3 (A+C-->B)      0.661093938265  0.593848060222   \n",
       "\n",
       "                                Network B (100%)  \n",
       "beta=0.5 Experiment 1 (A-->B)     0.543114209046  \n",
       "         Experiment 2 (C-->B)      0.54622890729  \n",
       "         Experiment 3 (A+C-->B)   0.549808759879  \n",
       "beta=1   Experiment 1 (A-->B)     0.531134099689  \n",
       "         Experiment 2 (C-->B)      0.52523492359  \n",
       "         Experiment 3 (A+C-->B)   0.528370153921  \n",
       "beta=1.5 Experiment 1 (A-->B)     0.520881434671  \n",
       "         Experiment 2 (C-->B)     0.520971026466  \n",
       "         Experiment 3 (A+C-->B)   0.516612373739  \n",
       "beta=2   Experiment 1 (A-->B)     0.508939631558  \n",
       "         Experiment 2 (C-->B)     0.524395075377  \n",
       "         Experiment 3 (A+C-->B)   0.508168213463  \n",
       "beta=2.5 Experiment 1 (A-->B)     0.515286223831  \n",
       "         Experiment 2 (C-->B)     0.512173816427  \n",
       "         Experiment 3 (A+C-->B)   0.504102701659  "
      ]
     },
     "execution_count": 91,
     "metadata": {},
     "output_type": "execute_result"
    }
   ],
   "source": [
    "pd.concat(df)"
   ]
  },
  {
   "cell_type": "markdown",
   "metadata": {},
   "source": [
    "# Same as above but done step by step"
   ]
  },
  {
   "cell_type": "code",
   "execution_count": 92,
   "metadata": {
    "collapsed": false
   },
   "outputs": [],
   "source": [
    "A1,scores1 = generateNetwork(beta=1) # Adjacency Network A\n",
    "A2,scores2 = generateNetwork(beta=1) # Adjacency Network B\n",
    "A3,scores3 = generateNetwork(beta=1) # Adjacency Network C\n",
    "A1_train,A1_test = getTrainingandTestSet(A1)\n",
    "A3_train,A3_test = getTrainingandTestSet(A3)\n"
   ]
  },
  {
   "cell_type": "code",
   "execution_count": 93,
   "metadata": {
    "collapsed": false
   },
   "outputs": [
    {
     "name": "stdout",
     "output_type": "stream",
     "text": [
      "Network A\n",
      " no. of nodes= 100, no. of edges= 1934\n",
      "NetworkA Training\n",
      " no. of nodes= 100, no. of edges= 1559\n",
      "NetworkA Test\n",
      " no. of nodes= 100, no. of edges= 375\n",
      "Network B\n",
      " no. of nodes= 100, no. of edges= 2005\n",
      "NetworkC\n",
      " no. of nodes= 100, no. of edges= 1899\n",
      "Network A+C\n",
      " no. of nodes= 100, no. of edges= 3953\n"
     ]
    }
   ],
   "source": [
    "graphProp(A1,\"Network A\")\n",
    "graphProp(A1_train,\"NetworkA Training\")\n",
    "graphProp(A1_test,\"NetworkA Test\")\n",
    "graphProp(A2,\"Network B\")\n",
    "graphProp(A3,\"NetworkC\")\n",
    "graphProp(A13,\"Network A+C\")\n",
    "\n",
    "\n"
   ]
  },
  {
   "cell_type": "code",
   "execution_count": 95,
   "metadata": {
    "collapsed": true
   },
   "outputs": [],
   "source": [
    "# Helper function\n",
    "def trainingExperiment(A,alpha,l0,l1):\n",
    "    beta,ranks = trainBetaAndRanks(A,alpha,l0,l1)\n",
    "    preds,acc =  getPredictionsAndAccuracy(beta,A,ranks)\n",
    "    return beta,ranks,preds,acc\n"
   ]
  },
  {
   "cell_type": "markdown",
   "metadata": {},
   "source": [
    "# =================== Experiment 1  (A --> B) ===================\n"
   ]
  },
  {
   "cell_type": "markdown",
   "metadata": {},
   "source": [
    "## Learn A_80%"
   ]
  },
  {
   "cell_type": "code",
   "execution_count": 102,
   "metadata": {
    "collapsed": false
   },
   "outputs": [
    {
     "name": "stdout",
     "output_type": "stream",
     "text": [
      "Optimal Beta: 0.5806825704042873\n",
      "Accuracy : 0.650598180165\n"
     ]
    }
   ],
   "source": [
    "A1_beta_train,A1_ranks_train,A1_preds_train,A1_acc_train = trainingExperiment(A1_train,0,0,1)"
   ]
  },
  {
   "cell_type": "markdown",
   "metadata": {},
   "source": [
    "## Predict A_20% using A_80% parameters\n"
   ]
  },
  {
   "cell_type": "code",
   "execution_count": 97,
   "metadata": {
    "collapsed": false
   },
   "outputs": [
    {
     "name": "stdout",
     "output_type": "stream",
     "text": [
      "Accuracy : 0.607578013814\n"
     ]
    }
   ],
   "source": [
    "A1_preds_test,A1_acc_test = getPredictionsAndAccuracy(A1_beta_train,A1_test,A1_ranks_train)\n"
   ]
  },
  {
   "cell_type": "markdown",
   "metadata": {},
   "source": [
    "## Predict B_100% using A_80%"
   ]
  },
  {
   "cell_type": "code",
   "execution_count": 98,
   "metadata": {
    "collapsed": false
   },
   "outputs": [
    {
     "name": "stdout",
     "output_type": "stream",
     "text": [
      "Accuracy : 0.565225059181\n"
     ]
    }
   ],
   "source": [
    "A12_preds,A12_acc = getPredictionsAndAccuracy(A1_beta_train,A2,A1_ranks_train)\n"
   ]
  },
  {
   "cell_type": "markdown",
   "metadata": {},
   "source": [
    "# =================== Experiment 2 (C --> B) ==================="
   ]
  },
  {
   "cell_type": "markdown",
   "metadata": {},
   "source": [
    "## Learn C_80%"
   ]
  },
  {
   "cell_type": "code",
   "execution_count": 99,
   "metadata": {
    "collapsed": false,
    "scrolled": true
   },
   "outputs": [
    {
     "name": "stdout",
     "output_type": "stream",
     "text": [
      "Optimal Beta: 0.5804397833656891\n",
      "Accuracy : 0.661925649906\n"
     ]
    }
   ],
   "source": [
    "A3_beta_train,A3_ranks_train,A3_preds_train,A3_acc_train = trainingExperiment(A3_train,0,0,1)"
   ]
  },
  {
   "cell_type": "markdown",
   "metadata": {},
   "source": [
    "## Predict C_20% using C_80% parameters\n"
   ]
  },
  {
   "cell_type": "code",
   "execution_count": 100,
   "metadata": {
    "collapsed": false
   },
   "outputs": [
    {
     "name": "stdout",
     "output_type": "stream",
     "text": [
      "Accuracy : 0.62495057311\n"
     ]
    }
   ],
   "source": [
    "A3_preds_test,A3_acc_test = getPredictionsAndAccuracy(A3_beta_train,A3_test,A3_ranks_train)\n"
   ]
  },
  {
   "cell_type": "markdown",
   "metadata": {},
   "source": [
    "## Predict B_100% using C_80%"
   ]
  },
  {
   "cell_type": "code",
   "execution_count": 104,
   "metadata": {
    "collapsed": false
   },
   "outputs": [
    {
     "name": "stdout",
     "output_type": "stream",
     "text": [
      "Accuracy : 0.515975461812\n"
     ]
    }
   ],
   "source": [
    "A32_preds,A32_acc = getPredictionsAndAccuracy(A3_beta_train,A2,A3_ranks_train)\n"
   ]
  },
  {
   "cell_type": "markdown",
   "metadata": {},
   "source": [
    "# =================== Experiment 3 (A+C --> B) ==================="
   ]
  },
  {
   "cell_type": "markdown",
   "metadata": {},
   "source": [
    "## Learn A_C_80%"
   ]
  },
  {
   "cell_type": "code",
   "execution_count": 105,
   "metadata": {
    "collapsed": false,
    "scrolled": true
   },
   "outputs": [
    {
     "name": "stdout",
     "output_type": "stream",
     "text": [
      "Optimal Beta: 0.9487078859705351\n",
      "Accuracy : 0.655807623539\n"
     ]
    }
   ],
   "source": [
    "A13_beta_train,A13_ranks_train,A13_preds_train,A13_acc_train = trainingExperiment(A13_train,0,0,1)"
   ]
  },
  {
   "cell_type": "markdown",
   "metadata": {},
   "source": [
    "## Predict A_C_20% using A_C_80% parameters\n"
   ]
  },
  {
   "cell_type": "code",
   "execution_count": 107,
   "metadata": {
    "collapsed": false
   },
   "outputs": [
    {
     "name": "stdout",
     "output_type": "stream",
     "text": [
      "Accuracy : 0.559290888441\n"
     ]
    }
   ],
   "source": [
    "A13_preds_test,A13_acc_test = getPredictionsAndAccuracy(A13_beta_train,A13_test,A13_ranks_train)\n"
   ]
  },
  {
   "cell_type": "markdown",
   "metadata": {},
   "source": [
    "## Predict B_100% using A_C_80%"
   ]
  },
  {
   "cell_type": "code",
   "execution_count": 108,
   "metadata": {
    "collapsed": false
   },
   "outputs": [
    {
     "name": "stdout",
     "output_type": "stream",
     "text": [
      "Accuracy : 0.546357060927\n"
     ]
    }
   ],
   "source": [
    "A132_preds,A132_acc = getPredictionsAndAccuracy(A13_beta_train,A2,A13_ranks_train)\n"
   ]
  },
  {
   "cell_type": "code",
   "execution_count": 109,
   "metadata": {
    "collapsed": false
   },
   "outputs": [],
   "source": [
    "experiment_names = [\"Experiment 1 (A-->B)\",\"Experiment 2 (C-->B)\",\"Experiment 3 (A+C-->B)\"]\n",
    "experiments = [[A1_acc_train,A1_acc_test,A12_acc],[A3_acc_train,A3_acc_test,A32_acc],[A13_acc_train,A13_acc_test,A132_acc]]"
   ]
  },
  {
   "cell_type": "code",
   "execution_count": 110,
   "metadata": {
    "collapsed": false
   },
   "outputs": [
    {
     "name": "stdout",
     "output_type": "stream",
     "text": [
      "                       Training data (80%) Test data (20%) Network B (100%)\n",
      "Experiment 1 (A-->B)        0.650598180165  0.607578013814   0.565225059181\n",
      "Experiment 2 (C-->B)        0.661925649906   0.62495057311   0.515975461812\n",
      "Experiment 3 (A+C-->B)      0.655807623539  0.559290888441   0.546357060927\n"
     ]
    }
   ],
   "source": [
    "data = np.array([\n",
    "        ['','Training data (80%)','Test data (20%)','Network B (100%)'],\n",
    "        [experiment_names[0],A1_acc_train,A1_acc_test,A12_acc],\n",
    "        [experiment_names[1],A3_acc_train,A3_acc_test,A32_acc],\n",
    "        [experiment_names[2],A13_acc_train,A13_acc_test,A132_acc]])\n",
    "dataframe  = pd.DataFrame(data=data[1:,1:],\n",
    "                         index=data[1:,0],\n",
    "                         columns=data[0,1:])\n",
    "print(dataframe)"
   ]
  },
  {
   "cell_type": "markdown",
   "metadata": {},
   "source": [
    "# Trying a small graph. Things we discussed during the meeting. Nothing interesting beyond this"
   ]
  },
  {
   "cell_type": "code",
   "execution_count": 195,
   "metadata": {
    "collapsed": false
   },
   "outputs": [
    {
     "data": {
      "text/plain": [
       "0"
      ]
     },
     "execution_count": 195,
     "metadata": {},
     "output_type": "execute_result"
    }
   ],
   "source": [
    "#create  a toy graph\n",
    "G_small = nx.MultiDiGraph()\n",
    "G_small.add_edge(0,1)\n",
    "G_small.add_edge(0,1)\n",
    "G_small.add_edge(1,0)"
   ]
  },
  {
   "cell_type": "code",
   "execution_count": 196,
   "metadata": {
    "collapsed": false
   },
   "outputs": [
    {
     "data": {
      "text/plain": [
       "OutMultiEdgeView([(0, 1, 0), (0, 1, 1), (1, 0, 0)])"
      ]
     },
     "execution_count": 196,
     "metadata": {},
     "output_type": "execute_result"
    }
   ],
   "source": [
    "G_small.edges"
   ]
  },
  {
   "cell_type": "code",
   "execution_count": 197,
   "metadata": {
    "collapsed": false
   },
   "outputs": [
    {
     "name": "stdout",
     "output_type": "stream",
     "text": [
      "Optimal Beta: 1.9235933878519509\n",
      "Accuracy : 0.476211459833\n"
     ]
    }
   ],
   "source": [
    "# learn ranks and get optimal temperature \n",
    "A1_small = nx.to_numpy_matrix(G_small,nodelist=list(G_small.nodes))\n",
    "A1_beta_small,A1_ranks_small = trainBetaAndRanks(A1_small,0,0,1)\n",
    "A1_preds_small,A1_acc_small = getPredictionsAndAccuracy(A1_beta_small,A1_small,A1_ranks_small)"
   ]
  },
  {
   "cell_type": "code",
   "execution_count": 199,
   "metadata": {
    "collapsed": false
   },
   "outputs": [
    {
     "data": {
      "text/plain": [
       "6.0"
      ]
     },
     "execution_count": 199,
     "metadata": {},
     "output_type": "execute_result"
    }
   ],
   "source": [
    "(A1_small+A1_small).sum()"
   ]
  },
  {
   "cell_type": "code",
   "execution_count": 552,
   "metadata": {
    "collapsed": false
   },
   "outputs": [
    {
     "data": {
      "text/plain": [
       "{(0, 0): 0,\n",
       " (0, 1): 0.92856093675019202,\n",
       " (1, 0): 0.071439063249808032,\n",
       " (1, 1): 0}"
      ]
     },
     "execution_count": 552,
     "metadata": {},
     "output_type": "execute_result"
    }
   ],
   "source": [
    "A1_preds_small"
   ]
  },
  {
   "cell_type": "code",
   "execution_count": 553,
   "metadata": {
    "collapsed": true
   },
   "outputs": [],
   "source": [
    "beta_a = np.log(2)*3/4"
   ]
  },
  {
   "cell_type": "code",
   "execution_count": 554,
   "metadata": {
    "collapsed": false
   },
   "outputs": [
    {
     "data": {
      "text/plain": [
       "0.66666666666666663"
      ]
     },
     "execution_count": 554,
     "metadata": {},
     "output_type": "execute_result"
    }
   ],
   "source": [
    "1/(1+np.exp(-4/3*beta_a))"
   ]
  },
  {
   "cell_type": "code",
   "execution_count": 555,
   "metadata": {
    "collapsed": false
   },
   "outputs": [
    {
     "data": {
      "text/plain": [
       "array([ 0.66666667,  0.        ])"
      ]
     },
     "execution_count": 555,
     "metadata": {},
     "output_type": "execute_result"
    }
   ],
   "source": [
    "rank1_small"
   ]
  },
  {
   "cell_type": "code",
   "execution_count": 265,
   "metadata": {
    "collapsed": false
   },
   "outputs": [
    {
     "data": {
      "text/plain": [
       "OutMultiEdgeView([(0, 1, 0), (0, 1, 1), (1, 0, 0)])"
      ]
     },
     "execution_count": 265,
     "metadata": {},
     "output_type": "execute_result"
    }
   ],
   "source": [
    "G_small.edges"
   ]
  },
  {
   "cell_type": "code",
   "execution_count": 266,
   "metadata": {
    "collapsed": false
   },
   "outputs": [
    {
     "data": {
      "text/plain": [
       "0.51986038541995894"
      ]
     },
     "execution_count": 266,
     "metadata": {},
     "output_type": "execute_result"
    }
   ],
   "source": [
    "beta_a"
   ]
  }
 ],
 "metadata": {
  "kernelspec": {
   "display_name": "Python 3",
   "language": "python",
   "name": "python3"
  },
  "language_info": {
   "codemirror_mode": {
    "name": "ipython",
    "version": 3
   },
   "file_extension": ".py",
   "mimetype": "text/x-python",
   "name": "python",
   "nbconvert_exporter": "python",
   "pygments_lexer": "ipython3",
   "version": "3.5.2"
  }
 },
 "nbformat": 4,
 "nbformat_minor": 0
}
