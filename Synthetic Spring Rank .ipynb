{
 "cells": [
  {
   "cell_type": "code",
   "execution_count": 1,
   "metadata": {
    "collapsed": false
   },
   "outputs": [],
   "source": [
    "import sys\n",
    "import os\n",
    "spr_path = \"/Users/Dixit/Documents/Studies/CU_Boulder/sem3/Independent_study/code/SpringRank/python\"\n",
    "sys.path.append(os.path.abspath(spr_path))\n",
    "import SpringRank_tools as SR\n",
    "import csv\n",
    "import matplotlib.pyplot as plt\n",
    "%matplotlib inline\n",
    "from sklearn import metrics\n"
   ]
  },
  {
   "cell_type": "code",
   "execution_count": 2,
   "metadata": {
    "collapsed": true
   },
   "outputs": [],
   "source": [
    "import networkx as nx\n",
    "import numpy as np\n",
    "import SpringRank_tools as sr\n",
    "import tools as tl"
   ]
  },
  {
   "cell_type": "code",
   "execution_count": 3,
   "metadata": {
    "collapsed": true
   },
   "outputs": [],
   "source": [
    "input_data_dir = '/Users/Dixit/Documents/Studies/CU_Boulder/sem3/Independent_study/github/SpringRank/data/input/'\n",
    "output_data_dir = '/Users/Dixit/Documents/Studies/CU_Boulder/sem3/Independent_study/github/SpringRank/data/output/'"
   ]
  },
  {
   "cell_type": "code",
   "execution_count": 4,
   "metadata": {
    "collapsed": true
   },
   "outputs": [],
   "source": [
    "def getGraph(indj):\n",
    "    G = tl.build_graph_from_adjacency(indj)\n",
    "    return G;\n",
    "\n",
    "def graphProp(G):\n",
    "    n=len(G.nodes)\n",
    "    e=len(G.edges)\n",
    "    print('no. of nodes= {0}, no. of edges= {1}'.format(n,e))"
   ]
  },
  {
   "cell_type": "code",
   "execution_count": 14,
   "metadata": {
    "collapsed": false
   },
   "outputs": [],
   "source": [
    "def formatChessFile(source,destination):\n",
    "    with open(source,'r') as chess, open(destination, 'w') as out:\n",
    "        chess = csv.reader(chess, delimiter=' ')\n",
    "        writer = csv.writer(out, delimiter=' ')\n",
    "        for row in chess:\n",
    "            if '%' not in row:\n",
    "                line=[]\n",
    "                result = row[2].split('\\t')\n",
    "                if(result[0] == '1'):\n",
    "                    line = [row[0],row[1],1]\n",
    "                elif(result[0] == '-1'):\n",
    "                    line = [row[1],row[0],1]\n",
    "                if line:\n",
    "                    writer.writerow(line)\n",
    "\n",
    "def getChessGraphData(to_format):\n",
    "    source = input_data_dir+'new_chess.data'\n",
    "    destination = input_data_dir+'new_chess.data'\n",
    "    if to_format: formatChessFile(source,destination)\n",
    "    return getGraph(destination)"
   ]
  },
  {
   "cell_type": "code",
   "execution_count": 6,
   "metadata": {
    "collapsed": false
   },
   "outputs": [],
   "source": [
    "def run(G,alpha,l0,l1):\n",
    "    nodes=list(G.nodes())\t\t\t#  determines the order of the entries of matrix A\n",
    "    A=nx.to_numpy_matrix(G,nodelist=nodes)\n",
    "    '''\n",
    "    Extracts SpringRank\n",
    "    '''\n",
    "    rank=sr.SpringRank(A,alpha=alpha,l0=l0,l1=l1)\n",
    "    rank=tl.shift_rank(rank)   # (optional) shifts so that the min is in zero and the others are positive\n",
    "    '''\n",
    "    Order results so that the first node is the highest-ranked one\n",
    "    '''\n",
    "    sorted_tuples=[(nodes[i],rank[i]) for i in range(G.number_of_nodes())]\n",
    "    #ordered_x= sorted(rank, key=lambda tup: int(tup[0]),reverse=False)\n",
    "    return rank,sorted_tuples\n",
    "\n",
    "def save(sorted_tuples,alpha,l0,l1,G,file):\n",
    "    '''\n",
    "    Prints results\n",
    "    '''\n",
    "    print('SpringRank scores:')\n",
    "    outfile=output_data_dir+'/'+file+'_SpringRank_'+'a'+str(alpha)+'_l0_'+str(l0)+'_l1_'+str(l1)+'.dat'\n",
    "    outf=open(outfile,'w')\n",
    "\n",
    "    for i in range(G.number_of_nodes()):\n",
    "        outf.write(\"{} {}\\n\".format(sorted_tuples[i][0],sorted_tuples[i][1]))\n",
    "        # print nodes[i],rank[i]\n",
    "        #print(X[i][0],X[i][1])\n",
    "    print('Results saved in:', outfile)\n",
    "    outf.close()\n",
    "    \n"
   ]
  },
  {
   "cell_type": "code",
   "execution_count": 7,
   "metadata": {
    "collapsed": false
   },
   "outputs": [],
   "source": [
    "def getEqn39(rank,A,start,end,step):\n",
    "    x = np.arange(start,end,step)\n",
    "    y=[]\n",
    "    for xi in x:\n",
    "        y.append(tl.eqs39(xi,rank,A))\n",
    "    return x,y\n",
    "\n",
    "def eqn39SimplePlot(rank,A,save):\n",
    "    x,y = getEqn39(rank,A,0.1,20,0.1);\n",
    "    plt.plot(x,y)\n",
    "    plt.title('Eqn 39 :'+save)\n",
    "    if save:\n",
    "        plt.savefig(output_data_dir+save+'.svg')\n",
    "\n",
    "def prediction(beta,_scores):\n",
    "    preds = {}\n",
    "    for i in range(len(_scores)):\n",
    "        for j in range(len(_scores)):\n",
    "            preds[(i,j)] = 1/(1+np.exp(-2*beta*(_scores[i]-_scores[j])))\n",
    "    return preds\n",
    "\n",
    "def getAccuracy(preds,Adj,num_edges):\n",
    "    loss=0;\n",
    "    size,_ = Adj.shape\n",
    "    for i in range(size):\n",
    "        for j in range(size):\n",
    "            loss+=Adj[(i,j)]-((Adj[(i,j)]+Adj[(j,i)])*preds[(i,j)])\n",
    "    print(loss)\n",
    "    loss=1-(loss*1.0/(2.0*num_edges))\n",
    "    return loss"
   ]
  },
  {
   "cell_type": "code",
   "execution_count": 8,
   "metadata": {
    "collapsed": false
   },
   "outputs": [],
   "source": [
    "def getGroundTruth(preds,G):\n",
    "    y_true = []\n",
    "    y_target = []\n",
    "    for i in range(len(G.nodes)):\n",
    "        for j in range(len(G.nodes)):\n",
    "            if(G.has_edge(str(i),str(j)) or G.has_edge(i,j)):\n",
    "                y_true.append(1)\n",
    "            else: y_true.append(0)\n",
    "            y_target.append(preds[(i,j)])\n",
    "    return y_true,y_target\n",
    "                    \n",
    "def plotROC(fpr,tpr,roc_auc,title):\n",
    "    plt.figure()\n",
    "    lw = 2\n",
    "    plt.plot(fpr, tpr, color='darkorange',\n",
    "             lw=lw, label='ROC curve (area = %0.2f)' % roc_auc)\n",
    "    plt.plot([0, 1], [0, 1], color='navy', lw=lw, linestyle='--')\n",
    "    plt.xlim([0.0, 1.0])\n",
    "    plt.ylim([0.0, 1.05])\n",
    "    plt.xlabel('False Positive Rate')\n",
    "    plt.ylabel('True Positive Rate')\n",
    "    plt.title('Receiver operating characteristic : '+title)\n",
    "    plt.legend(loc=\"lower right\")\n",
    "    plt.show()"
   ]
  },
  {
   "cell_type": "code",
   "execution_count": 36,
   "metadata": {
    "collapsed": true
   },
   "outputs": [],
   "source": [
    "# generative model \n",
    "def getC(beta,scores,n):\n",
    "    c=10*n\n",
    "    den = 0;\n",
    "    for i in range(len(scores)):\n",
    "        for j in range(len(scores)):\n",
    "            den+=np.exp(-beta*0.5*(scores[i]-scores[j]-1)*(scores[i]-scores[j]-1))\n",
    "    c = c/den\n",
    "    return c\n",
    "\n",
    "def eqn(si,sj,beta,c):\n",
    "    return c*np.exp(-beta*0.5*(si-sj-1)*(si-sj-1))\n",
    "\n",
    "def poisson(mean):\n",
    "    return np.random.poisson(lam=mean,size=1)\n",
    "\n",
    "def createNetwork(scores,beta,c):\n",
    "    G = nx.DiGraph()\n",
    "    for i in range(len(scores)):\n",
    "        for j in range(len(scores)):\n",
    "            if i!=j:\n",
    "                mean = eqn(scores[i],scores[j],beta,c)\n",
    "                w = poisson(mean)\n",
    "                #print(weight)\n",
    "                if(G.has_edge(i,j)):\n",
    "                    w+=G.edges[(i,j)]['weight'][0]                    \n",
    "                G.add_edge(i,j,weight=w)\n",
    "    return G\n",
    "\n",
    "def generateNetwork():\n",
    "    beta=1\n",
    "    number_of_nodes=100\n",
    "    mu, sigma = 0.5, 0.1 # mean and standard deviation\n",
    "    scores = np.random.normal(mu, sigma, number_of_nodes)\n",
    "    c=getC(beta,scores,number_of_nodes)\n",
    "\n",
    "    G = createNetwork(scores,beta,c)\n",
    "    A = nx.to_numpy_matrix(G,nodelist=list(G.nodes))\n",
    "    return G,A,scores\n",
    "\n",
    "def getTrainingandTestSet(G):\n",
    "    removed_edges = []\n",
    "    edges_to_remove = list(G.edges)\n",
    "    choice_idx = np.random.choice(G.number_of_edges(), int((G.number_of_edges())*0.2), replace=False)\n",
    "    for i in range(len(choice_idx)):\n",
    "        a,b=edges_to_remove[choice_idx[i]]\n",
    "        G.remove_edge(a,b)\n",
    "        removed_edges.append((a,b))\n",
    "    return G,removed_edges\n",
    "\n"
   ]
  },
  {
   "cell_type": "code",
   "execution_count": 25,
   "metadata": {
    "collapsed": false
   },
   "outputs": [],
   "source": [
    "G_1,A_1,scores1 = generateNetwork()\n",
    "G_2,A_2,scores2 = generateNetwork()\n"
   ]
  },
  {
   "cell_type": "code",
   "execution_count": 26,
   "metadata": {
    "collapsed": false
   },
   "outputs": [
    {
     "name": "stdout",
     "output_type": "stream",
     "text": [
      "no. of nodes= 100, no. of edges= 9900\n",
      "no. of nodes= 100, no. of edges= 9900\n"
     ]
    }
   ],
   "source": [
    "graphProp(G_1)\n",
    "graphProp(G_2)"
   ]
  },
  {
   "cell_type": "markdown",
   "metadata": {},
   "source": [
    "# Test 1"
   ]
  },
  {
   "cell_type": "code",
   "execution_count": 34,
   "metadata": {
    "collapsed": false
   },
   "outputs": [],
   "source": [
    "G_1_copy = G_1.copy()"
   ]
  },
  {
   "cell_type": "code",
   "execution_count": 37,
   "metadata": {
    "collapsed": false
   },
   "outputs": [],
   "source": [
    "G_1_train,edges1_test = getTrainingandTestSet(G_1_copy)"
   ]
  },
  {
   "cell_type": "code",
   "execution_count": 38,
   "metadata": {
    "collapsed": false
   },
   "outputs": [
    {
     "name": "stdout",
     "output_type": "stream",
     "text": [
      "no. of nodes= 100, no. of edges= 9900\n",
      "no. of nodes= 100, no. of edges= 7920\n"
     ]
    }
   ],
   "source": [
    "graphProp(G_1)\n",
    "graphProp(G_1_train)\n"
   ]
  },
  {
   "cell_type": "code",
   "execution_count": 40,
   "metadata": {
    "collapsed": false
   },
   "outputs": [
    {
     "name": "stdout",
     "output_type": "stream",
     "text": [
      "Beta value for Synthetic network 1\n",
      "-2.99760216649e-15\n"
     ]
    }
   ],
   "source": [
    "alpha=0.\n",
    "l0=0.\n",
    "l1=1.    \n",
    "rank1_train,tuples1_train = run(G_1_train,alpha,l0,l1)\n",
    "A_1_train = nx.to_numpy_matrix(G_1_train,nodelist=list(G_1_train.nodes))\n",
    "beta1_train=tl.get_optimal_temperature(rank1_train,A_1_train)\n",
    "print('Beta value for Synthetic network 1'.format(beta1_train))\n",
    "preds1_train = prediction(beta1_train,rank1_train)\n",
    "sigma1_train = getAccuracy(preds1_train,A_1_train,G_1_train.number_of_edges())"
   ]
  },
  {
   "cell_type": "code",
   "execution_count": null,
   "metadata": {
    "collapsed": true
   },
   "outputs": [],
   "source": []
  }
 ],
 "metadata": {
  "kernelspec": {
   "display_name": "Python 3",
   "language": "python",
   "name": "python3"
  },
  "language_info": {
   "codemirror_mode": {
    "name": "ipython",
    "version": 3
   },
   "file_extension": ".py",
   "mimetype": "text/x-python",
   "name": "python",
   "nbconvert_exporter": "python",
   "pygments_lexer": "ipython3",
   "version": "3.5.2"
  }
 },
 "nbformat": 4,
 "nbformat_minor": 0
}
