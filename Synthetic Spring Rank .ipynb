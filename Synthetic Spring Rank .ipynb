{
 "cells": [
  {
   "cell_type": "code",
   "execution_count": 1,
   "metadata": {
    "collapsed": false
   },
   "outputs": [],
   "source": [
    "import sys\n",
    "import os\n",
    "spr_path = \"/Users/Dixit/Documents/Studies/CU_Boulder/sem3/Independent_study/code/SpringRank/python\"\n",
    "sys.path.append(os.path.abspath(spr_path))\n",
    "import SpringRank_tools as SR\n",
    "import csv\n",
    "import matplotlib.pyplot as plt\n",
    "%matplotlib inline\n",
    "from sklearn import metrics\n"
   ]
  },
  {
   "cell_type": "code",
   "execution_count": 2,
   "metadata": {
    "collapsed": true
   },
   "outputs": [],
   "source": [
    "import networkx as nx\n",
    "import numpy as np\n",
    "import SpringRank_tools as sr\n",
    "import tools as tl"
   ]
  },
  {
   "cell_type": "code",
   "execution_count": 3,
   "metadata": {
    "collapsed": true
   },
   "outputs": [],
   "source": [
    "input_data_dir = '/Users/Dixit/Documents/Studies/CU_Boulder/sem3/Independent_study/github/SpringRank/data/input/'\n",
    "output_data_dir = '/Users/Dixit/Documents/Studies/CU_Boulder/sem3/Independent_study/github/SpringRank/data/output/'"
   ]
  },
  {
   "cell_type": "code",
   "execution_count": 4,
   "metadata": {
    "collapsed": true
   },
   "outputs": [],
   "source": [
    "def getGraph(indj):\n",
    "    G = tl.build_graph_from_adjacency(indj)\n",
    "    return G;\n",
    "\n",
    "def graphProp(G):\n",
    "    n=len(G.nodes)\n",
    "    e=len(G.edges)\n",
    "    print('no. of nodes= {0}, no. of edges= {1}'.format(n,e))"
   ]
  },
  {
   "cell_type": "code",
   "execution_count": 14,
   "metadata": {
    "collapsed": false
   },
   "outputs": [],
   "source": [
    "def formatChessFile(source,destination):\n",
    "    with open(source,'r') as chess, open(destination, 'w') as out:\n",
    "        chess = csv.reader(chess, delimiter=' ')\n",
    "        writer = csv.writer(out, delimiter=' ')\n",
    "        for row in chess:\n",
    "            if '%' not in row:\n",
    "                line=[]\n",
    "                result = row[2].split('\\t')\n",
    "                if(result[0] == '1'):\n",
    "                    line = [row[0],row[1],1]\n",
    "                elif(result[0] == '-1'):\n",
    "                    line = [row[1],row[0],1]\n",
    "                if line:\n",
    "                    writer.writerow(line)\n",
    "\n",
    "def getChessGraphData(to_format):\n",
    "    source = input_data_dir+'new_chess.data'\n",
    "    destination = input_data_dir+'new_chess.data'\n",
    "    if to_format: formatChessFile(source,destination)\n",
    "    return getGraph(destination)"
   ]
  },
  {
   "cell_type": "code",
   "execution_count": 1038,
   "metadata": {
    "collapsed": false
   },
   "outputs": [],
   "source": [
    "def run(G,alpha,l0,l1):\n",
    "    nodes=list(G.nodes()) #  determines the order of the entries of matrix A\n",
    "    A=nx.to_numpy_matrix(G,nodelist=nodes,weight='weight')\n",
    "    '''\n",
    "    Extracts SpringRank\n",
    "    '''\n",
    "    rank=sr.SpringRank(A,alpha=alpha,l0=l0,l1=l1)\n",
    "    #rank=tl.shift_rank(rank)   # (optional) shifts so that the min is in zero and the others are positive\n",
    "    \n",
    "    unordered_tuples=[(nodes[i],rank[i]) for i in range(G.number_of_nodes())]\n",
    "    #ordered_x= sorted(rank, key=lambda tup: int(tup[0]),reverse=False)\n",
    "    return rank,unordered_tuples\n",
    "\n",
    "def save(sorted_tuples,alpha,l0,l1,G,file):\n",
    "    '''\n",
    "    Prints results\n",
    "    '''\n",
    "    print('SpringRank scores:')\n",
    "    outfile=output_data_dir+'/'+file+'_SpringRank_'+'a'+str(alpha)+'_l0_'+str(l0)+'_l1_'+str(l1)+'.dat'\n",
    "    outf=open(outfile,'w')\n",
    "\n",
    "    for i in range(G.number_of_nodes()):\n",
    "        outf.write(\"{} {}\\n\".format(sorted_tuples[i][0],sorted_tuples[i][1]))\n",
    "        # print nodes[i],rank[i]\n",
    "        #print(X[i][0],X[i][1])\n",
    "    print('Results saved in:', outfile)\n",
    "    outf.close()\n",
    "    \n"
   ]
  },
  {
   "cell_type": "code",
   "execution_count": 1258,
   "metadata": {
    "collapsed": false
   },
   "outputs": [],
   "source": [
    "def getEqn39(rank,A,start,end,step):\n",
    "    x = np.arange(start,end,step)\n",
    "    y=[]\n",
    "    for xi in x:\n",
    "        y.append(tl.eqs39(xi,rank,A))\n",
    "    return x,y\n",
    "\n",
    "def eqn39SimplePlot(rank,A,save):\n",
    "    x,y = getEqn39(rank,A,0.1,20,1)\n",
    "    plt.plot(x,y)\n",
    "    plt.title('Eqn 39 :'+save)\n",
    "    if save:\n",
    "        plt.savefig(output_data_dir+save+'.svg')\n",
    "\n",
    "def prediction(beta,G,_scores):\n",
    "    preds = {}\n",
    "    for i in range(len(_scores)):\n",
    "        for j in range(len(_scores)):\n",
    "            if(i!=j):\n",
    "                if not (G.has_edge(i,j) or G.has_edge(j,i)):\n",
    "                    preds[(i,j)] = 0\n",
    "                else:\n",
    "                    preds[(i,j)] = 1/(1+np.exp(-2*beta*(_scores[i]-_scores[j])))\n",
    "    return preds\n",
    "\n",
    "def getAccuracy(preds,G,Adj,num_edges):\n",
    "    loss=0\n",
    "    total=0\n",
    "    size,_ = Adj.shape\n",
    "    for i in range(size):\n",
    "        for j in range(size):\n",
    "            if(i!=j and G.has_edge(i,j)):\n",
    "                loss+=(Adj[(i,j)]*preds[(i,j)])\n",
    "    for i in range(size):\n",
    "        for j in range(size):\n",
    "            if(i!=j and G.has_edge(i,j)):    \n",
    "                total+=Adj[(i,j)]\n",
    "    total = 1-(0.5*(total-loss)/num_edges)\n",
    "    return total\n",
    "\n",
    "def testsetAccuracy(preds,Adj_orij,Adj_test,num_edges):\n",
    "    loss=0;\n",
    "    size,_ = Adj_orij.shape\n",
    "    for i in range(size):\n",
    "        for j in range(size):\n",
    "            if (i,j) in preds:\n",
    "                loss+=Adj_test[(i,j)]-((Adj_test[(i,j)]+Adj_test[(j,i)])*preds[(i,j)])\n",
    "    loss=1-(loss*1.0/(2.0*num_edges))\n",
    "    return loss\n",
    "\n",
    "def testsetPrediction(beta,ranks,test_set):\n",
    "    preds = {}\n",
    "    for i,j,_ in (test_set):\n",
    "        preds[(i,j)] = 1/(1+np.exp(-2*beta*(ranks[i]-ranks[j])))\n",
    "    return preds\n",
    "\n",
    "def crosssetPrediction(beta,ranks):\n",
    "    preds = {}\n",
    "    for i in range(len(ranks)):\n",
    "        for j in range(len(ranks)):\n",
    "            preds[(i,j)] = 1/(1+np.exp(-2*beta*(ranks[i]-ranks[j])))\n",
    "    return preds\n",
    "\n",
    "def crosssetAccuracy(preds,Adj,num_edges):\n",
    "    loss=0;\n",
    "    size,_ = Adj.shape\n",
    "    for i in range(size):\n",
    "        for j in range(size):\n",
    "            loss+=Adj[(i,j)]-((Adj[(i,j)]+Adj[(j,i)])*preds[(i,j)])\n",
    "    #print(loss)\n",
    "    loss=1-(loss*1.0/(2.0*num_edges))\n",
    "    return loss\n"
   ]
  },
  {
   "cell_type": "code",
   "execution_count": 1304,
   "metadata": {
    "collapsed": false
   },
   "outputs": [],
   "source": [
    "# generative model \n",
    "def getC(beta,scores,n):\n",
    "    c=10*n\n",
    "    den = 0;\n",
    "    for i in range(len(scores)):\n",
    "        for j in range(len(scores)):\n",
    "            den+=np.exp(-beta*0.5*(scores[i]-scores[j]-1)*(scores[i]-scores[j]-1))\n",
    "    c = c/den\n",
    "    return c\n",
    "\n",
    "def eqn(si,sj,beta,c):\n",
    "    return c*np.exp(-beta*0.5*(si-sj-1)*(si-sj-1))\n",
    "\n",
    "def poisson(mean):\n",
    "    return np.random.poisson(mean)\n",
    "\n",
    "def createNetwork(scores,beta,c):\n",
    "    G = nx.DiGraph()\n",
    "    for i in range(len(scores)):\n",
    "        for j in range(len(scores)):\n",
    "            if i!=j:\n",
    "                mean = eqn(scores[i],scores[j],beta,c)\n",
    "                w = poisson(mean)\n",
    "                #print(weight)\n",
    "                #if(G.has_edge(i,j)):\n",
    "                #    w+=G.edges[(i,j)]['weight'][0]\n",
    "                if w>0:\n",
    "                    #print(w)\n",
    "                    G.add_edge(i,j,weight=w)\n",
    "    return G\n",
    "\n",
    "def generateNetwork(beta):\n",
    "    number_of_nodes=100\n",
    "    mu, sigma = 0.5,1 # mean and standard deviation\n",
    "    scores = np.random.normal(mu, sigma, number_of_nodes)\n",
    "    c=getC(beta,scores,number_of_nodes)\n",
    "    \n",
    "    G = createNetwork(scores,beta,c)\n",
    "    A = nx.to_numpy_matrix(G,nodelist=list(G.nodes),weight='weight')\n",
    "    return G,A,scores\n",
    "\n",
    "def getTrainingandTestSet(G):\n",
    "    removed_edges = []\n",
    "    edges_to_remove = list(G.edges)\n",
    "    choice_idx = np.random.choice(len(edges_to_remove), int(len(edges_to_remove)*0.2), replace=False)\n",
    "    print(len(choice_idx))\n",
    "    for i in range(len(choice_idx)):\n",
    "        a,b=edges_to_remove[choice_idx[i]]\n",
    "        w=G.edges[(a,b)]['weight'] \n",
    "        #remove single edges\n",
    "        G.remove_edge(a,b)\n",
    "        #if w>1:\n",
    "        #    G.add_edge(a,b,weight=w-1)\n",
    "        #    removed_edges.append((a,b,w-1))\n",
    "        #else:\n",
    "        removed_edges.append((a,b,w))\n",
    "        G.add_node(a)\n",
    "        G.add_node(b)\n",
    "    return G,removed_edges\n",
    "\n"
   ]
  },
  {
   "cell_type": "code",
   "execution_count": 1305,
   "metadata": {
    "collapsed": false
   },
   "outputs": [],
   "source": [
    "G_1,A_1,scores1 = generateNetwork(beta=1) # Network A\n",
    "G_2,A_2,scores2 = generateNetwork(beta=1) # Network B\n"
   ]
  },
  {
   "cell_type": "code",
   "execution_count": 1306,
   "metadata": {
    "collapsed": false
   },
   "outputs": [
    {
     "name": "stdout",
     "output_type": "stream",
     "text": [
      "no. of nodes= 100, no. of edges= 910\n",
      "no. of nodes= 100, no. of edges= 853\n"
     ]
    }
   ],
   "source": [
    "graphProp(G_1)\n",
    "graphProp(G_2)"
   ]
  },
  {
   "cell_type": "markdown",
   "metadata": {},
   "source": [
    "# Test 1"
   ]
  },
  {
   "cell_type": "code",
   "execution_count": 1307,
   "metadata": {
    "collapsed": false
   },
   "outputs": [
    {
     "name": "stdout",
     "output_type": "stream",
     "text": [
      "182\n"
     ]
    }
   ],
   "source": [
    "G_1_copy = G_1.copy()\n",
    "G_1_train,edges1_test = getTrainingandTestSet(G_1_copy) "
   ]
  },
  {
   "cell_type": "code",
   "execution_count": 1308,
   "metadata": {
    "collapsed": false
   },
   "outputs": [
    {
     "data": {
      "text/plain": [
       "182"
      ]
     },
     "execution_count": 1308,
     "metadata": {},
     "output_type": "execute_result"
    }
   ],
   "source": [
    "len(edges1_test)"
   ]
  },
  {
   "cell_type": "code",
   "execution_count": 1309,
   "metadata": {
    "collapsed": false
   },
   "outputs": [
    {
     "name": "stdout",
     "output_type": "stream",
     "text": [
      "no. of nodes= 100, no. of edges= 910\n",
      "no. of nodes= 100, no. of edges= 728\n"
     ]
    }
   ],
   "source": [
    "graphProp(G_1)\n",
    "graphProp(G_1_train)\n"
   ]
  },
  {
   "cell_type": "code",
   "execution_count": null,
   "metadata": {
    "collapsed": true
   },
   "outputs": [],
   "source": []
  },
  {
   "cell_type": "code",
   "execution_count": 1310,
   "metadata": {
    "collapsed": false
   },
   "outputs": [
    {
     "name": "stdout",
     "output_type": "stream",
     "text": [
      "0.5951843622768868\n"
     ]
    }
   ],
   "source": [
    "alpha=0.\n",
    "l0=0.\n",
    "l1=1.    \n",
    "rank1_train,tuples1_train = run(G_1_train,alpha,l0,l1)\n",
    "A_1_train = nx.to_numpy_matrix(G_1_train,nodelist=list(G_1_train.nodes),weight='weight')\n",
    "temp1_train=tl.get_optimal_temperature(rank1_train,A_1_train)\n",
    "beta1_train = 1/temp1_train\n",
    "print((beta1_train))\n"
   ]
  },
  {
   "cell_type": "code",
   "execution_count": 1311,
   "metadata": {
    "collapsed": false
   },
   "outputs": [],
   "source": [
    "preds1_train = prediction(beta1_train,G_1_train,rank1_train)\n",
    "sigma1_train = getAccuracy(preds1_train,G_1_train,A_1_train,G_1_train.number_of_edges())"
   ]
  },
  {
   "cell_type": "code",
   "execution_count": 1312,
   "metadata": {
    "collapsed": false
   },
   "outputs": [
    {
     "data": {
      "text/plain": [
       "0.80307140463196269"
      ]
     },
     "execution_count": 1312,
     "metadata": {},
     "output_type": "execute_result"
    }
   ],
   "source": [
    "sigma1_train"
   ]
  },
  {
   "cell_type": "code",
   "execution_count": 1313,
   "metadata": {
    "collapsed": false
   },
   "outputs": [],
   "source": [
    "# Create a test graph from removed edges\n",
    "G_1_test = nx.DiGraph()\n",
    "for(a,b,w) in edges1_test:\n",
    "    G_1_test.add_edge(a,b,weight=w)\n",
    "\n",
    "for a in G_1.nodes():\n",
    "    G_1_test.add_node(a)"
   ]
  },
  {
   "cell_type": "code",
   "execution_count": 1314,
   "metadata": {
    "collapsed": false
   },
   "outputs": [
    {
     "name": "stdout",
     "output_type": "stream",
     "text": [
      "no. of nodes= 100, no. of edges= 182\n"
     ]
    }
   ],
   "source": [
    "graphProp(G_1_test)"
   ]
  },
  {
   "cell_type": "code",
   "execution_count": 1315,
   "metadata": {
    "collapsed": false
   },
   "outputs": [],
   "source": [
    "# Predict test set using trained parameters\n",
    "alpha=0.\n",
    "l0=0.\n",
    "l1=1.    \n",
    "A_1_test = nx.to_numpy_matrix(G_1_test,nodelist=list(G_1_test.nodes),weight='weight')\n",
    "preds1_test = prediction(5,G_1_test,rank1_train)\n",
    "sigma1_test = getAccuracy(preds1_test,G_1_test,A_1_test,G_1_test.number_of_edges())"
   ]
  },
  {
   "cell_type": "code",
   "execution_count": 1316,
   "metadata": {
    "collapsed": false
   },
   "outputs": [
    {
     "data": {
      "text/plain": [
       "0.84241801600897881"
      ]
     },
     "execution_count": 1316,
     "metadata": {},
     "output_type": "execute_result"
    }
   ],
   "source": [
    "sigma1_test"
   ]
  },
  {
   "cell_type": "code",
   "execution_count": 1317,
   "metadata": {
    "collapsed": false
   },
   "outputs": [],
   "source": [
    "preds2 = prediction(beta1_train,G_2,rank1_train)\n",
    "sigma2 = getAccuracy(preds1_train,G_2,A_2,G_2.number_of_edges())"
   ]
  },
  {
   "cell_type": "code",
   "execution_count": 1318,
   "metadata": {
    "collapsed": false
   },
   "outputs": [
    {
     "data": {
      "text/plain": [
       "0.50520135366647367"
      ]
     },
     "execution_count": 1318,
     "metadata": {},
     "output_type": "execute_result"
    }
   ],
   "source": [
    "sigma2"
   ]
  },
  {
   "cell_type": "code",
   "execution_count": 1319,
   "metadata": {
    "collapsed": false
   },
   "outputs": [
    {
     "data": {
      "text/plain": [
       "0.80307140463196269"
      ]
     },
     "execution_count": 1319,
     "metadata": {},
     "output_type": "execute_result"
    }
   ],
   "source": [
    "sigma1_train"
   ]
  },
  {
   "cell_type": "code",
   "execution_count": 1320,
   "metadata": {
    "collapsed": true
   },
   "outputs": [],
   "source": [
    "test = G_1.copy()\n"
   ]
  },
  {
   "cell_type": "markdown",
   "metadata": {},
   "source": [
    "# Train 100%"
   ]
  },
  {
   "cell_type": "code",
   "execution_count": 1321,
   "metadata": {
    "collapsed": false
   },
   "outputs": [
    {
     "name": "stdout",
     "output_type": "stream",
     "text": [
      "0.5951843622768868\n"
     ]
    }
   ],
   "source": [
    "alpha=0.\n",
    "l0=0.\n",
    "l1=1.    \n",
    "rank1,tuples1 = run(G_1,alpha,l0,l1)\n",
    "A_1 = nx.to_numpy_matrix(G_1,nodelist=list(G_1.nodes),weight='weight')\n",
    "temp1=tl.get_optimal_temperature(rank1,A_1)\n",
    "beta1 = 1/temp1\n",
    "print((beta1_train))\n"
   ]
  },
  {
   "cell_type": "code",
   "execution_count": 1322,
   "metadata": {
    "collapsed": true
   },
   "outputs": [],
   "source": [
    "preds1 = prediction(beta1,G_1,rank1)\n",
    "sigma1 = getAccuracy(preds1,G_1,A_1,G_1.number_of_edges())"
   ]
  },
  {
   "cell_type": "code",
   "execution_count": 1323,
   "metadata": {
    "collapsed": false
   },
   "outputs": [
    {
     "data": {
      "text/plain": [
       "0.80065484968266432"
      ]
     },
     "execution_count": 1323,
     "metadata": {},
     "output_type": "execute_result"
    }
   ],
   "source": [
    "sigma1"
   ]
  },
  {
   "cell_type": "code",
   "execution_count": null,
   "metadata": {
    "collapsed": true
   },
   "outputs": [],
   "source": []
  },
  {
   "cell_type": "code",
   "execution_count": null,
   "metadata": {
    "collapsed": true
   },
   "outputs": [],
   "source": []
  },
  {
   "cell_type": "code",
   "execution_count": null,
   "metadata": {
    "collapsed": true
   },
   "outputs": [],
   "source": []
  }
 ],
 "metadata": {
  "kernelspec": {
   "display_name": "Python 3",
   "language": "python",
   "name": "python3"
  },
  "language_info": {
   "codemirror_mode": {
    "name": "ipython",
    "version": 3
   },
   "file_extension": ".py",
   "mimetype": "text/x-python",
   "name": "python",
   "nbconvert_exporter": "python",
   "pygments_lexer": "ipython3",
   "version": "3.5.2"
  }
 },
 "nbformat": 4,
 "nbformat_minor": 0
}
