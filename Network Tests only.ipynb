{
 "cells": [
  {
   "cell_type": "code",
   "execution_count": 1,
   "metadata": {
    "collapsed": true
   },
   "outputs": [],
   "source": [
    "import sys\n",
    "import os\n",
    "spr_path = \"/Users/Dixit/Documents/Studies/CU_Boulder/sem3/Independent_study/code/SpringRank/python\"\n",
    "sys.path.append(os.path.abspath(spr_path))\n",
    "import SpringRank_tools as SR\n",
    "import csv\n",
    "import matplotlib.pyplot as plt\n",
    "%matplotlib inline\n",
    "from sklearn import metrics\n",
    "import networkx as nx\n",
    "import numpy as np\n",
    "import SpringRank_tools as sr\n",
    "import tools as tl"
   ]
  },
  {
   "cell_type": "code",
   "execution_count": 2,
   "metadata": {
    "collapsed": true
   },
   "outputs": [],
   "source": [
    "input_data_dir = '/Users/Dixit/Documents/Studies/CU_Boulder/sem3/Independent_study/github/SpringRank/data/input/'\n",
    "output_data_dir = '/Users/Dixit/Documents/Studies/CU_Boulder/sem3/Independent_study/github/SpringRank/data/output/'"
   ]
  },
  {
   "cell_type": "code",
   "execution_count": 19,
   "metadata": {
    "collapsed": true
   },
   "outputs": [],
   "source": [
    "def getC(beta,scores,n):\n",
    "    c=10*n\n",
    "    den = 0;\n",
    "    for i in range(len(scores)):\n",
    "        for j in range(len(scores)):\n",
    "            den+=np.exp(-beta*0.5*(scores[i]-scores[j]-1)*(scores[i]-scores[j]-1))\n",
    "    c = c/den\n",
    "    return c"
   ]
  },
  {
   "cell_type": "code",
   "execution_count": 17,
   "metadata": {
    "collapsed": true
   },
   "outputs": [],
   "source": []
  },
  {
   "cell_type": "markdown",
   "metadata": {},
   "source": [
    "\n",
    "E[Aij ] = c exp(−βHij ) = c exp(−β/2(si − sj − 1)**2)\n"
   ]
  },
  {
   "cell_type": "code",
   "execution_count": 28,
   "metadata": {
    "collapsed": true
   },
   "outputs": [],
   "source": [
    "def eqn(si,sj,beta,c):\n",
    "    return c*np.exp(-beta*0.5*(si-sj-1)*(si-sj-1))\n",
    "def poisson(mean):\n",
    "    return np.random.poisson(lam=mean,size=1)"
   ]
  },
  {
   "cell_type": "code",
   "execution_count": 78,
   "metadata": {
    "collapsed": false
   },
   "outputs": [],
   "source": [
    "def generateNetwork(scores,beta,c):\n",
    "    G = nx.DiGraph()\n",
    "    for i in range(len(scores)):\n",
    "        for j in range(len(scores)):\n",
    "            if i!=j:\n",
    "                weight = poisson(eqn(scores[i],scores[j],beta,c))\n",
    "                #print(weight)\n",
    "                if(G.has_edge(i,j)):\n",
    "                    weight+=G.edges[(i,j)]['weight'][0]\n",
    "                G.add_edge(i,j,weight=weight)\n",
    "    return G\n",
    "                    "
   ]
  },
  {
   "cell_type": "code",
   "execution_count": 79,
   "metadata": {
    "collapsed": false
   },
   "outputs": [],
   "source": [
    "beta1=1\n",
    "number_of_nodes=100\n",
    "mu, sigma = 0.5, 0.1 # mean and standard deviation\n",
    "scores1 = np.random.normal(mu, sigma, number_of_nodes)\n",
    "temp_s1 = scores1\n",
    "c1=getC(beta1,scores1,number_of_nodes)\n",
    "\n",
    "G_1 = generateNetwork(scores1,beta1,c1)"
   ]
  },
  {
   "cell_type": "code",
   "execution_count": 80,
   "metadata": {
    "collapsed": true
   },
   "outputs": [],
   "source": [
    "A_1 = nx.to_numpy_matrix(G_1,nodelist=list(G_1.nodes))"
   ]
  },
  {
   "cell_type": "code",
   "execution_count": 85,
   "metadata": {
    "collapsed": true
   },
   "outputs": [],
   "source": [
    "G=G_1"
   ]
  },
  {
   "cell_type": "code",
   "execution_count": 86,
   "metadata": {
    "collapsed": false
   },
   "outputs": [],
   "source": [
    "edges_to_remove = list(G.edges)"
   ]
  },
  {
   "cell_type": "code",
   "execution_count": 87,
   "metadata": {
    "collapsed": false
   },
   "outputs": [],
   "source": [
    "choice_idx = np.random.choice(len(edges_to_remove), int((G.number_of_edges())*0.2), replace=False)\n"
   ]
  },
  {
   "cell_type": "code",
   "execution_count": 88,
   "metadata": {
    "collapsed": false
   },
   "outputs": [],
   "source": [
    "removed_edges = []\n",
    "for i in range(len(choice_idx)):\n",
    "    a,b=edges_to_remove[choice_idx[i]]\n",
    "    G.remove_edge(a,b)\n",
    "    removed_edges.append((a,b))"
   ]
  },
  {
   "cell_type": "code",
   "execution_count": 91,
   "metadata": {
    "collapsed": false
   },
   "outputs": [
    {
     "data": {
      "text/plain": [
       "7920"
      ]
     },
     "execution_count": 91,
     "metadata": {},
     "output_type": "execute_result"
    }
   ],
   "source": [
    "G_1.number_of_edges()"
   ]
  },
  {
   "cell_type": "code",
   "execution_count": 90,
   "metadata": {
    "collapsed": false
   },
   "outputs": [
    {
     "data": {
      "text/plain": [
       "[(18, 25),\n",
       " (16, 13),\n",
       " (6, 74),\n",
       " (82, 83),\n",
       " (42, 88),\n",
       " (69, 63),\n",
       " (59, 44),\n",
       " (9, 12),\n",
       " (80, 55),\n",
       " (67, 56)]"
      ]
     },
     "execution_count": 90,
     "metadata": {},
     "output_type": "execute_result"
    }
   ],
   "source": [
    "removed_edges[0:10]"
   ]
  },
  {
   "cell_type": "code",
   "execution_count": null,
   "metadata": {
    "collapsed": true
   },
   "outputs": [],
   "source": []
  },
  {
   "cell_type": "code",
   "execution_count": null,
   "metadata": {
    "collapsed": true
   },
   "outputs": [],
   "source": []
  }
 ],
 "metadata": {
  "kernelspec": {
   "display_name": "Python 3",
   "language": "python",
   "name": "python3"
  },
  "language_info": {
   "codemirror_mode": {
    "name": "ipython",
    "version": 3
   },
   "file_extension": ".py",
   "mimetype": "text/x-python",
   "name": "python",
   "nbconvert_exporter": "python",
   "pygments_lexer": "ipython3",
   "version": "3.5.2"
  }
 },
 "nbformat": 4,
 "nbformat_minor": 0
}
