{
 "cells": [
  {
   "cell_type": "code",
   "execution_count": 1,
   "metadata": {
    "collapsed": false
   },
   "outputs": [],
   "source": [
    "import sys\n",
    "import os\n",
    "spr_path = \"/Users/Dixit/Documents/Studies/CU_Boulder/sem3/Independent_study/code/SpringRank/python\"\n",
    "sys.path.append(os.path.abspath(spr_path))\n",
    "import SpringRank_tools as SR\n",
    "import csv\n",
    "import matplotlib.pyplot as plt\n",
    "%matplotlib inline\n",
    "from sklearn import metrics\n"
   ]
  },
  {
   "cell_type": "code",
   "execution_count": 2,
   "metadata": {
    "collapsed": true
   },
   "outputs": [],
   "source": [
    "import networkx as nx\n",
    "import numpy as np\n",
    "import SpringRank_tools as sr\n",
    "import tools as tl"
   ]
  },
  {
   "cell_type": "code",
   "execution_count": 3,
   "metadata": {
    "collapsed": true
   },
   "outputs": [],
   "source": [
    "input_data_dir = '/Users/Dixit/Documents/Studies/CU_Boulder/sem3/Independent_study/github/SpringRank/data/input/'\n",
    "output_data_dir = '/Users/Dixit/Documents/Studies/CU_Boulder/sem3/Independent_study/github/SpringRank/data/output/'"
   ]
  },
  {
   "cell_type": "code",
   "execution_count": 4,
   "metadata": {
    "collapsed": true
   },
   "outputs": [],
   "source": [
    "def getGraph(indj):\n",
    "    G = tl.build_graph_from_adjacency(indj)\n",
    "    return G;\n",
    "\n",
    "def graphProp(G):\n",
    "    n=len(G.nodes)\n",
    "    e=len(G.edges)\n",
    "    print('no. of nodes= {0}, no. of edges= {1}'.format(n,e))"
   ]
  },
  {
   "cell_type": "code",
   "execution_count": 14,
   "metadata": {
    "collapsed": false
   },
   "outputs": [],
   "source": [
    "def formatChessFile(source,destination):\n",
    "    with open(source,'r') as chess, open(destination, 'w') as out:\n",
    "        chess = csv.reader(chess, delimiter=' ')\n",
    "        writer = csv.writer(out, delimiter=' ')\n",
    "        for row in chess:\n",
    "            if '%' not in row:\n",
    "                line=[]\n",
    "                result = row[2].split('\\t')\n",
    "                if(result[0] == '1'):\n",
    "                    line = [row[0],row[1],1]\n",
    "                elif(result[0] == '-1'):\n",
    "                    line = [row[1],row[0],1]\n",
    "                if line:\n",
    "                    writer.writerow(line)\n",
    "\n",
    "def getChessGraphData(to_format):\n",
    "    source = input_data_dir+'new_chess.data'\n",
    "    destination = input_data_dir+'new_chess.data'\n",
    "    if to_format: formatChessFile(source,destination)\n",
    "    return getGraph(destination)"
   ]
  },
  {
   "cell_type": "code",
   "execution_count": 105,
   "metadata": {
    "collapsed": false
   },
   "outputs": [],
   "source": [
    "def run(G,alpha,l0,l1):\n",
    "    nodes=list(G.nodes()) #  determines the order of the entries of matrix A\n",
    "    A=nx.to_numpy_matrix(G,nodelist=nodes,weight='weight')\n",
    "    '''\n",
    "    Extracts SpringRank\n",
    "    '''\n",
    "    rank=sr.SpringRank(A,alpha=alpha,l0=l0,l1=l1)\n",
    "    rank=tl.shift_rank(rank)   # (optional) shifts so that the min is in zero and the others are positive\n",
    "    \n",
    "    unordered_tuples=[(nodes[i],rank[i]) for i in range(G.number_of_nodes())]\n",
    "    #ordered_x= sorted(rank, key=lambda tup: int(tup[0]),reverse=False)\n",
    "    return rank,unordered_tuples\n",
    "\n",
    "def save(sorted_tuples,alpha,l0,l1,G,file):\n",
    "    '''\n",
    "    Prints results\n",
    "    '''\n",
    "    print('SpringRank scores:')\n",
    "    outfile=output_data_dir+'/'+file+'_SpringRank_'+'a'+str(alpha)+'_l0_'+str(l0)+'_l1_'+str(l1)+'.dat'\n",
    "    outf=open(outfile,'w')\n",
    "\n",
    "    for i in range(G.number_of_nodes()):\n",
    "        outf.write(\"{} {}\\n\".format(sorted_tuples[i][0],sorted_tuples[i][1]))\n",
    "        # print nodes[i],rank[i]\n",
    "        #print(X[i][0],X[i][1])\n",
    "    print('Results saved in:', outfile)\n",
    "    outf.close()\n",
    "    \n"
   ]
  },
  {
   "cell_type": "code",
   "execution_count": 690,
   "metadata": {
    "collapsed": false
   },
   "outputs": [],
   "source": [
    "def getEqn39(rank,A,start,end,step):\n",
    "    x = np.arange(start,end,step)\n",
    "    y=[]\n",
    "    for xi in x:\n",
    "        y.append(tl.eqs39(xi,rank,A))\n",
    "    return x,y\n",
    "\n",
    "def eqn39SimplePlot(rank,A,save):\n",
    "    x,y = getEqn39(rank,A,0.1,20,1)\n",
    "    plt.plot(x,y)\n",
    "    plt.title('Eqn 39 :'+save)\n",
    "    if save:\n",
    "        plt.savefig(output_data_dir+save+'.svg')\n",
    "\n",
    "\n",
    "def prediction(beta,G,scores):\n",
    "    preds={}\n",
    "    Adj = nx.to_numpy_matrix(G,nodelist=list(G.nodes))\n",
    "    size,_=Adj.shape\n",
    "    for i in range(0,size):\n",
    "        for j in range(0,size):\n",
    "            if(G.has_edge(i,j)):\n",
    "                preds[(i,j)] = 1/(1+np.exp(-beta*2*(scores[i]-scores[j])))\n",
    "            else: preds[(i,j)] = 0\n",
    "    return preds\n",
    "\n",
    "\n",
    "def getAccuracy(preds,G,Adj,num_edges):\n",
    "    total=0\n",
    "    size,_ = Adj.shape\n",
    "    for i in range(0,size):\n",
    "        for j in range(0,size):\n",
    "            total += Adj[(i,j)]-((Adj[(i,j)]+Adj[(j,i)])*preds[(i,j)])\n",
    "    total = 1-(0.5*(total)/num_edges)\n",
    "    return total\n",
    "\n",
    " \n",
    "#not using this\n",
    "def getAccuracyOld(preds,G,Adj,num_edges):\n",
    "    loss=0\n",
    "    total=0\n",
    "    A = nx.to_numpy_matrix(G,nodelist=list(G.nodes))\n",
    "    for (i,j) in G.edges():\n",
    "        Aij = G.number_of_edges(i,j)#['weight']\n",
    "        #Aji = G.edges[(j,i)]['weight'] if G.has_edge(j,i) else 0\n",
    "        Aji = G.number_of_edges(j,i)#['weight']\n",
    "        loss+= Aij - ((Aij+Aji)*preds[(i,j)])\n",
    "        #loss+= A[(i,j)] - ((A[(i,j)]+A[(j,i)])*preds[(i,j)])\n",
    "    print(loss)\n",
    "    total = 1-(0.5*(loss)/num_edges)\n",
    "    return total\n",
    "#not using this\n",
    "def predictionOld(beta,G,_scores):\n",
    "    preds = {}\n",
    "    for i in range(len(_scores)):\n",
    "        for j in range(len(_scores)):\n",
    "            if(i!=j):\n",
    "                if not (G.has_edge(i,j) or G.has_edge(j,i)):\n",
    "                    preds[(i,j)] = 0\n",
    "                else:\n",
    "                    preds[(i,j)] = 1/(1+np.exp(-2*beta*(_scores[i]-_scores[j])))\n",
    "    return preds\n"
   ]
  },
  {
   "cell_type": "code",
   "execution_count": 691,
   "metadata": {
    "collapsed": false
   },
   "outputs": [],
   "source": [
    "def expectedEqn(beta,c,si,sj):\n",
    "    return c*np.exp(-beta*0.5*(si-sj-1)*(si-sj-1))\n",
    "\n",
    "def getC(beta,num_nodes,scores):\n",
    "    c = 20*num_nodes\n",
    "    total = 0;\n",
    "    for i in range(0,num_nodes):\n",
    "        for j in range(0,num_nodes):\n",
    "            total+=np.exp(-beta*0.5*(scores[i]-scores[j]-1)*(scores[i]-scores[j]-1))\n",
    "    return c*1.0/(total*1.0)\n",
    "\n",
    "def createNetwork(scores,beta,c,num_nodes):\n",
    "    G = nx.MultiDiGraph()\n",
    "    for i in range(0,num_nodes):\n",
    "        for j in range(0,num_nodes):\n",
    "            if(i!=j):\n",
    "                G.add_node(i)\n",
    "                G.add_node(j)\n",
    "                mean = expectedEqn(beta,c,scores[i],scores[j])\n",
    "                weight = np.random.poisson(mean)\n",
    "                if weight>0:\n",
    "                    G.add_edge(i,j,weight=weight)\n",
    "    \n",
    "    return G\n",
    "\n",
    "def generateNetwork(beta):\n",
    "    number_of_nodes=100\n",
    "    mu, sigma = 0.5,1 # mean and standard deviation\n",
    "    scores = np.random.normal(mu, sigma, number_of_nodes+1)\n",
    "    c=getC(beta,number_of_nodes,scores)\n",
    "    G = createNetwork(scores,beta,c,number_of_nodes)\n",
    "    A = nx.to_numpy_matrix(G,nodelist=list(G.nodes),weight='weight')\n",
    "    return G,A,scores\n",
    "\n",
    "    \n",
    "def getTrainingandTestSet(G):\n",
    "    removed_edges = []\n",
    "    edges_to_remove = list(G.edges)\n",
    "    choice_idx = np.random.choice(len(edges_to_remove), int(len(edges_to_remove)*0.2), replace=False)\n",
    "    for i in range(len(choice_idx)):\n",
    "        a,b,_=edges_to_remove[choice_idx[i]]\n",
    "        w = G.number_of_edges((a,b))\n",
    "        #remove interaction, regardless of weight\n",
    "        G.remove_edge(a,b)\n",
    "        removed_edges.append((a,b,w))\n",
    "        G.add_node(a)\n",
    "        G.add_node(b)\n",
    "    return G,removed_edges\n",
    "\n",
    "\n",
    "   "
   ]
  },
  {
   "cell_type": "markdown",
   "metadata": {},
   "source": [
    "# Create two networks 1 & 2 ; get training and test sets for network 1"
   ]
  },
  {
   "cell_type": "code",
   "execution_count": 692,
   "metadata": {
    "collapsed": false
   },
   "outputs": [],
   "source": [
    "G_1,A_1,scores1 = generateNetwork(beta=1) # Network A\n",
    "G_2,A_2,scores2 = generateNetwork(beta=1) # Network B\n"
   ]
  },
  {
   "cell_type": "code",
   "execution_count": 693,
   "metadata": {
    "collapsed": false
   },
   "outputs": [
    {
     "name": "stdout",
     "output_type": "stream",
     "text": [
      "no. of nodes= 100, no. of edges= 1798\n",
      "no. of nodes= 100, no. of edges= 1690\n"
     ]
    }
   ],
   "source": [
    "graphProp(G_1)\n",
    "graphProp(G_2)"
   ]
  },
  {
   "cell_type": "code",
   "execution_count": 694,
   "metadata": {
    "collapsed": false
   },
   "outputs": [],
   "source": [
    "#just saving original\n",
    "G_1_copy = G_1.copy()\n",
    "G_1_train,edges1_test = getTrainingandTestSet(G_1_copy) "
   ]
  },
  {
   "cell_type": "code",
   "execution_count": 695,
   "metadata": {
    "collapsed": false
   },
   "outputs": [
    {
     "data": {
      "text/plain": [
       "359"
      ]
     },
     "execution_count": 695,
     "metadata": {},
     "output_type": "execute_result"
    }
   ],
   "source": [
    "len(edges1_test)"
   ]
  },
  {
   "cell_type": "code",
   "execution_count": 696,
   "metadata": {
    "collapsed": false
   },
   "outputs": [
    {
     "name": "stdout",
     "output_type": "stream",
     "text": [
      "no. of nodes= 100, no. of edges= 1798\n",
      "no. of nodes= 100, no. of edges= 1439\n"
     ]
    }
   ],
   "source": [
    "graphProp(G_1)\n",
    "graphProp(G_1_train)\n"
   ]
  },
  {
   "cell_type": "markdown",
   "metadata": {},
   "source": [
    "# learn the ranks and get optimal beta for training set\n"
   ]
  },
  {
   "cell_type": "code",
   "execution_count": 697,
   "metadata": {
    "collapsed": false
   },
   "outputs": [
    {
     "name": "stdout",
     "output_type": "stream",
     "text": [
      "0.6902809040117139\n"
     ]
    }
   ],
   "source": [
    "alpha,l0,l1=0,0,1\n",
    "rank1_train,tuples1_train = run(G_1_train,alpha,l0,l1)\n",
    "\n",
    "A_1_train = nx.to_numpy_matrix(G_1_train,nodelist=list(G_1_train.nodes),weight='weight')\n",
    "\n",
    "#get opt beta\n",
    "temp1_train=tl.get_optimal_temperature(rank1_train,A_1_train)\n",
    "beta1_train = 1/temp1_train\n",
    "print((beta1_train))\n"
   ]
  },
  {
   "cell_type": "markdown",
   "metadata": {},
   "source": [
    "# get prediction and accuracy for the training set"
   ]
  },
  {
   "cell_type": "code",
   "execution_count": 698,
   "metadata": {
    "collapsed": false
   },
   "outputs": [],
   "source": [
    "preds1_train = prediction(beta1_train,G_1_train,rank1_train)\n",
    "sigma1_train = getAccuracy(preds1_train,G_1_train,A_1_train,G_1_train.number_of_edges())"
   ]
  },
  {
   "cell_type": "code",
   "execution_count": 699,
   "metadata": {
    "collapsed": false
   },
   "outputs": [
    {
     "data": {
      "text/plain": [
       "0.81170933457928796"
      ]
     },
     "execution_count": 699,
     "metadata": {},
     "output_type": "execute_result"
    }
   ],
   "source": [
    "sigma1_train"
   ]
  },
  {
   "cell_type": "code",
   "execution_count": 700,
   "metadata": {
    "collapsed": false
   },
   "outputs": [],
   "source": [
    "# Create a test graph from removed edges\n",
    "G_1_test = nx.MultiDiGraph()\n",
    "for(a,b,w) in edges1_test:\n",
    "    G_1_test.add_edge(a,b,weight=1)\n",
    "    \n",
    "#some nodes might be lost while removing edges\n",
    "for a in G_1.nodes():\n",
    "    G_1_test.add_node(a)"
   ]
  },
  {
   "cell_type": "code",
   "execution_count": 701,
   "metadata": {
    "collapsed": false
   },
   "outputs": [
    {
     "name": "stdout",
     "output_type": "stream",
     "text": [
      "no. of nodes= 100, no. of edges= 359\n"
     ]
    }
   ],
   "source": [
    "graphProp(G_1_test)"
   ]
  },
  {
   "cell_type": "markdown",
   "metadata": {},
   "source": [
    "# Predict test set using trained parameters\n"
   ]
  },
  {
   "cell_type": "code",
   "execution_count": 702,
   "metadata": {
    "collapsed": false
   },
   "outputs": [],
   "source": [
    "alpha=0.\n",
    "l0=0.\n",
    "l1=1.    \n",
    "A_1_test = nx.to_numpy_matrix(G_1_test,nodelist=list(G_1_test.nodes),weight='weight')\n",
    "preds1_test = prediction(beta1_train,G_1_test,rank1_train)\n",
    "sigma1_test = getAccuracy(preds1_test,G_1_test,A_1_test,G_1_test.number_of_edges())"
   ]
  },
  {
   "cell_type": "code",
   "execution_count": 703,
   "metadata": {
    "collapsed": false
   },
   "outputs": [
    {
     "data": {
      "text/plain": [
       "0.80050301171687277"
      ]
     },
     "execution_count": 703,
     "metadata": {},
     "output_type": "execute_result"
    }
   ],
   "source": [
    "sigma1_test"
   ]
  },
  {
   "cell_type": "markdown",
   "metadata": {},
   "source": [
    "# use learned ranks from network 1 to predict network 2 \n"
   ]
  },
  {
   "cell_type": "code",
   "execution_count": 704,
   "metadata": {
    "collapsed": false
   },
   "outputs": [],
   "source": [
    "preds2 = prediction(beta1_train,G_2,rank1_train)\n",
    "sigma2 = getAccuracy(preds2,G_2,A_2,G_2.number_of_edges())"
   ]
  },
  {
   "cell_type": "markdown",
   "metadata": {},
   "source": [
    "# this seems to be very high, why?\n"
   ]
  },
  {
   "cell_type": "code",
   "execution_count": 705,
   "metadata": {
    "collapsed": false
   },
   "outputs": [
    {
     "data": {
      "text/plain": [
       "0.744716941491119"
      ]
     },
     "execution_count": 705,
     "metadata": {},
     "output_type": "execute_result"
    }
   ],
   "source": [
    "sigma2"
   ]
  },
  {
   "cell_type": "code",
   "execution_count": 706,
   "metadata": {
    "collapsed": false
   },
   "outputs": [
    {
     "data": {
      "text/plain": [
       "0.81170933457928796"
      ]
     },
     "execution_count": 706,
     "metadata": {},
     "output_type": "execute_result"
    }
   ],
   "source": [
    "sigma1_train"
   ]
  },
  {
   "cell_type": "markdown",
   "metadata": {},
   "source": [
    "# Train 100%"
   ]
  },
  {
   "cell_type": "code",
   "execution_count": 707,
   "metadata": {
    "collapsed": false
   },
   "outputs": [
    {
     "name": "stdout",
     "output_type": "stream",
     "text": [
      "0.6902809040117139\n"
     ]
    }
   ],
   "source": [
    "alpha=0.\n",
    "l0=0.\n",
    "l1=1.    \n",
    "rank1,tuples1 = run(G_1,alpha,l0,l1)\n",
    "A_1 = nx.to_numpy_matrix(G_1,nodelist=list(G_1.nodes),weight='weight')\n",
    "temp1=tl.get_optimal_temperature(rank1,A_1)\n",
    "beta1 = 1/temp1\n",
    "print((beta1_train))\n"
   ]
  },
  {
   "cell_type": "code",
   "execution_count": 708,
   "metadata": {
    "collapsed": false
   },
   "outputs": [],
   "source": [
    "preds1 = prediction(beta1,G_1,rank1)\n",
    "sigma1 = getAccuracy(preds1,G_1,A_1,G_1.number_of_edges())"
   ]
  },
  {
   "cell_type": "code",
   "execution_count": 709,
   "metadata": {
    "collapsed": false
   },
   "outputs": [
    {
     "data": {
      "text/plain": [
       "0.8182914815541209"
      ]
     },
     "execution_count": 709,
     "metadata": {},
     "output_type": "execute_result"
    }
   ],
   "source": [
    "sigma1"
   ]
  },
  {
   "cell_type": "markdown",
   "metadata": {},
   "source": [
    "# Trying a small graph. Things we discussed during the meeting"
   ]
  },
  {
   "cell_type": "code",
   "execution_count": 710,
   "metadata": {
    "collapsed": false
   },
   "outputs": [
    {
     "data": {
      "text/plain": [
       "0"
      ]
     },
     "execution_count": 710,
     "metadata": {},
     "output_type": "execute_result"
    }
   ],
   "source": [
    "#create  a toy graph\n",
    "G_small = nx.MultiDiGraph()\n",
    "G_small.add_edge(0,1)\n",
    "G_small.add_edge(0,1)\n",
    "G_small.add_edge(1,0)"
   ]
  },
  {
   "cell_type": "code",
   "execution_count": 711,
   "metadata": {
    "collapsed": false
   },
   "outputs": [
    {
     "data": {
      "text/plain": [
       "OutMultiEdgeView([(0, 1, 0), (0, 1, 1), (1, 0, 0)])"
      ]
     },
     "execution_count": 711,
     "metadata": {},
     "output_type": "execute_result"
    }
   ],
   "source": [
    "G_small.edges"
   ]
  },
  {
   "cell_type": "code",
   "execution_count": 712,
   "metadata": {
    "collapsed": false
   },
   "outputs": [
    {
     "name": "stdout",
     "output_type": "stream",
     "text": [
      "1.9235933878519509\n"
     ]
    }
   ],
   "source": [
    "# learn ranks and get optimal temperature\n",
    "alpha=0.\n",
    "l0=0.\n",
    "l1=1.    \n",
    "rank1_small,tuples1_small = run(G_small,alpha,l0,l1)\n",
    "\n",
    "A_1_small = nx.to_numpy_matrix(G_small,nodelist=list(G_small.nodes))\n",
    "temp1_small=tl.get_optimal_temperature(rank1_small,A_1_small)\n",
    "beta1_small = 1/temp1_small\n",
    "print((beta1_small))\n"
   ]
  },
  {
   "cell_type": "code",
   "execution_count": 713,
   "metadata": {
    "collapsed": false
   },
   "outputs": [
    {
     "data": {
      "text/plain": [
       "matrix([[ 0.,  2.],\n",
       "        [ 1.,  0.]])"
      ]
     },
     "execution_count": 713,
     "metadata": {},
     "output_type": "execute_result"
    }
   ],
   "source": [
    "A_1_small"
   ]
  },
  {
   "cell_type": "code",
   "execution_count": 714,
   "metadata": {
    "collapsed": false
   },
   "outputs": [],
   "source": [
    "preds_small = prediction(beta1_small,G_small,rank1_small)\n",
    "sigma_small = getAccuracy(preds_small,G_small,A_1_small,G_small.number_of_edges())"
   ]
  },
  {
   "cell_type": "code",
   "execution_count": 715,
   "metadata": {
    "collapsed": false
   },
   "outputs": [
    {
     "data": {
      "text/plain": [
       "1.0"
      ]
     },
     "execution_count": 715,
     "metadata": {},
     "output_type": "execute_result"
    }
   ],
   "source": [
    "sigma_small"
   ]
  },
  {
   "cell_type": "code",
   "execution_count": 716,
   "metadata": {
    "collapsed": false
   },
   "outputs": [
    {
     "data": {
      "text/plain": [
       "{(0, 0): 0,\n",
       " (0, 1): 0.92856093675019202,\n",
       " (1, 0): 0.071439063249808032,\n",
       " (1, 1): 0}"
      ]
     },
     "execution_count": 716,
     "metadata": {},
     "output_type": "execute_result"
    }
   ],
   "source": [
    "preds_small"
   ]
  },
  {
   "cell_type": "code",
   "execution_count": 685,
   "metadata": {
    "collapsed": true
   },
   "outputs": [],
   "source": [
    "beta_a = np.log(2)*3/4"
   ]
  },
  {
   "cell_type": "code",
   "execution_count": 686,
   "metadata": {
    "collapsed": false
   },
   "outputs": [
    {
     "data": {
      "text/plain": [
       "0.66666666666666663"
      ]
     },
     "execution_count": 686,
     "metadata": {},
     "output_type": "execute_result"
    }
   ],
   "source": [
    "1/(1+np.exp(-4/3*beta_a))"
   ]
  },
  {
   "cell_type": "code",
   "execution_count": 687,
   "metadata": {
    "collapsed": false
   },
   "outputs": [
    {
     "data": {
      "text/plain": [
       "array([ 0.66666667,  0.        ])"
      ]
     },
     "execution_count": 687,
     "metadata": {},
     "output_type": "execute_result"
    }
   ],
   "source": [
    "rank1_small"
   ]
  },
  {
   "cell_type": "code",
   "execution_count": 688,
   "metadata": {
    "collapsed": false
   },
   "outputs": [
    {
     "data": {
      "text/plain": [
       "OutMultiEdgeView([(0, 1, 0), (0, 1, 1), (1, 0, 0)])"
      ]
     },
     "execution_count": 688,
     "metadata": {},
     "output_type": "execute_result"
    }
   ],
   "source": [
    "G_small.edges"
   ]
  },
  {
   "cell_type": "code",
   "execution_count": 689,
   "metadata": {
    "collapsed": false
   },
   "outputs": [
    {
     "data": {
      "text/plain": [
       "0.51986038541995894"
      ]
     },
     "execution_count": 689,
     "metadata": {},
     "output_type": "execute_result"
    }
   ],
   "source": [
    "beta_a"
   ]
  },
  {
   "cell_type": "code",
   "execution_count": null,
   "metadata": {
    "collapsed": true
   },
   "outputs": [],
   "source": []
  }
 ],
 "metadata": {
  "kernelspec": {
   "display_name": "Python 3",
   "language": "python",
   "name": "python3"
  },
  "language_info": {
   "codemirror_mode": {
    "name": "ipython",
    "version": 3
   },
   "file_extension": ".py",
   "mimetype": "text/x-python",
   "name": "python",
   "nbconvert_exporter": "python",
   "pygments_lexer": "ipython3",
   "version": "3.5.2"
  }
 },
 "nbformat": 4,
 "nbformat_minor": 0
}
