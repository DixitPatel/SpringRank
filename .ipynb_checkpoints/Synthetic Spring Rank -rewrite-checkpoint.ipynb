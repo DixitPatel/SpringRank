{
 "cells": [
  {
   "cell_type": "code",
   "execution_count": 73,
   "metadata": {
    "collapsed": false
   },
   "outputs": [],
   "source": [
    "import sys\n",
    "import os\n",
    "spr_path = \"/Users/Dixit/Documents/Studies/CU_Boulder/sem3/Independent_study/code/SpringRank/python\"\n",
    "sys.path.append(os.path.abspath(spr_path))\n",
    "import SpringRank_tools as SR\n",
    "import csv\n",
    "import matplotlib.pyplot as plt\n",
    "%matplotlib inline\n",
    "from sklearn import metrics\n",
    "import time\n",
    "import pandas as pd"
   ]
  },
  {
   "cell_type": "code",
   "execution_count": 2,
   "metadata": {
    "collapsed": true
   },
   "outputs": [],
   "source": [
    "import networkx as nx\n",
    "import numpy as np\n",
    "import SpringRank_tools as sr\n",
    "import tools as tl"
   ]
  },
  {
   "cell_type": "code",
   "execution_count": 3,
   "metadata": {
    "collapsed": true
   },
   "outputs": [],
   "source": [
    "input_data_dir = '/Users/Dixit/Documents/Studies/CU_Boulder/sem3/Independent_study/github/SpringRank/data/input/'\n",
    "output_data_dir = '/Users/Dixit/Documents/Studies/CU_Boulder/sem3/Independent_study/github/SpringRank/data/output/'"
   ]
  },
  {
   "cell_type": "code",
   "execution_count": 481,
   "metadata": {
    "collapsed": true
   },
   "outputs": [],
   "source": [
    "def getGraph(indj):\n",
    "    G = tl.build_graph_from_adjacency(indj)\n",
    "    return G;\n",
    "\n",
    "def getMultiDiGraphFromFile(indj):\n",
    "    G=nx.MultiDiGraph()\n",
    "    with open(indj,'r') as f:\n",
    "        f = csv.reader(f,delimiter=' ')\n",
    "        for row in f:\n",
    "            G.add_edge(int(row[0]),int(row[1]))\n",
    "            \n",
    "    return G;\n",
    "\n",
    "\n",
    "def graphProp(A,description):\n",
    "    n=(A.shape[0])\n",
    "    e=(A.sum())\n",
    "    print(description)\n",
    "    print(' no. of nodes= {0}, no. of edges= {1}'.format(n,e))"
   ]
  },
  {
   "cell_type": "code",
   "execution_count": 5,
   "metadata": {
    "collapsed": false
   },
   "outputs": [],
   "source": [
    "def formatChessFile(source,destination):\n",
    "    with open(source,'r') as chess, open(destination, 'w') as out:\n",
    "        chess = csv.reader(chess, delimiter=' ')\n",
    "        writer = csv.writer(out, delimiter=' ')\n",
    "        for row in chess:\n",
    "            if '%' not in row:\n",
    "                line=[]\n",
    "                result = row[2].split('\\t')\n",
    "                if(result[0] == '1'):\n",
    "                    line = [row[0],row[1],1]\n",
    "                elif(result[0] == '-1'):\n",
    "                    line = [row[1],row[0],1]\n",
    "                if line:\n",
    "                    writer.writerow(line)\n",
    "\n",
    "def getChessGraphData(to_format):\n",
    "    source = input_data_dir+'new_chess.data'\n",
    "    destination = input_data_dir+'new_chess.data'\n",
    "    if to_format: formatChessFile(source,destination)\n",
    "    return getGraph(destination)"
   ]
  },
  {
   "cell_type": "code",
   "execution_count": 471,
   "metadata": {
    "collapsed": false
   },
   "outputs": [],
   "source": [
    "def run(A,alpha,l0,l1):\n",
    "    '''\n",
    "    Extracts SpringRank\n",
    "    '''\n",
    "    rank=sr.SpringRank(A,alpha=alpha,l0=l0,l1=l1)\n",
    "    rank=tl.shift_rank(rank)   # (optional) shifts so that the min is in zero and the others are positive\n",
    "    \n",
    "    unordered_tuples=[(i,rank[i]) for i in range(A.shape[0])]\n",
    "    return rank,unordered_tuples\n",
    "\n",
    "def save(sorted_tuples,alpha,l0,l1,G,file):\n",
    "    '''\n",
    "    Prints results\n",
    "    '''\n",
    "    print('SpringRank scores:')\n",
    "    outfile=output_data_dir+'/'+file+'_SpringRank_'+'a'+str(alpha)+'_l0_'+str(l0)+'_l1_'+str(l1)+'.dat'\n",
    "    outf=open(outfile,'w')\n",
    "\n",
    "    for i in range(G.number_of_nodes()):\n",
    "        outf.write(\"{} {}\\n\".format(sorted_tuples[i][0],sorted_tuples[i][1]))\n",
    "    print('Results saved in:', outfile)\n",
    "    outf.close()\n",
    "    \n"
   ]
  },
  {
   "cell_type": "code",
   "execution_count": 286,
   "metadata": {
    "collapsed": false
   },
   "outputs": [],
   "source": [
    "def getEqn39(rank,A,start,end,step):\n",
    "    x = np.arange(start,end,step)\n",
    "    y=[]\n",
    "    for xi in x:\n",
    "        y.append(tl.eqs39(xi,rank,A))\n",
    "    return x,y\n",
    "\n",
    "def eqn39SimplePlot(rank,A,save):\n",
    "    x,y = getEqn39(rank,A,0.1,20,1)\n",
    "    plt.plot(x,y)\n",
    "    plt.title('Eqn 39 :'+save)\n",
    "    if save:\n",
    "        plt.savefig(output_data_dir+save+'.svg')\n",
    "\n",
    "\n",
    "def prediction(beta,Adj,scores):\n",
    "    preds={}\n",
    "    size=Adj.shape[0]\n",
    "    for i in range(0,size):\n",
    "        for j in range(0,size):\n",
    "            if(Adj[(i,j)]>0 or Adj[(j,i)]>0):\n",
    "                preds[(i,j)] = 1/(1+np.exp(-beta*2*(scores[i]-scores[j])))\n",
    "            else: preds[(i,j)] = 0\n",
    "    return preds\n",
    "\n",
    "# TODO discuss about this part again\n",
    "def getAccuracy(preds,Adj,num_edges):\n",
    "    total=0\n",
    "    size = Adj.shape[0]\n",
    "    for i in range(0,size):\n",
    "        for j in range(0,size):\n",
    "            if(i!=j and (Adj[(i,j)]>0 or Adj[(j,i)]>0)):\n",
    "                total += abs(Adj[(i,j)]-((Adj[(i,j)]+Adj[j,i])*preds[(i,j)]))\n",
    "    #not dividing by two as its a directed network (?)\n",
    "    total = 1-((total)/(2*num_edges))\n",
    "    return total\n",
    "\n",
    " \n"
   ]
  },
  {
   "cell_type": "code",
   "execution_count": 208,
   "metadata": {
    "collapsed": false
   },
   "outputs": [],
   "source": [
    "def expectedEqn(beta,c,si,sj):\n",
    "    return c*np.exp(-beta*0.5*(si-sj-1)*(si-sj-1))\n",
    "\n",
    "def getC(beta,num_nodes,scores):\n",
    "    c = 20*num_nodes\n",
    "    total = 0;\n",
    "    for i in range(0,num_nodes):\n",
    "        for j in range(0,num_nodes):\n",
    "            total+=np.exp(-beta*0.5*(scores[i]-scores[j]-1)*(scores[i]-scores[j]-1))\n",
    "    return c*1.0/(total)\n",
    "\n",
    "def createNetwork(scores,beta,c,num_nodes):\n",
    "    A = np.zeros((num_nodes,num_nodes),dtype=np.int)\n",
    "    for i in range(0,num_nodes):\n",
    "        for j in range(0,num_nodes):\n",
    "            if(i!=j):\n",
    "                mean = expectedEqn(beta,c,scores[i],scores[j])\n",
    "                weight = np.random.poisson(mean)\n",
    "                A[i,j] = weight\n",
    "    return A\n",
    "\n",
    "def generateNetwork(beta):\n",
    "    number_of_nodes=100\n",
    "    mu, sigma = 0.5,1 # mean and standard deviation\n",
    "    #np.random.seed(int(time.time()))\n",
    "    scores = np.random.normal(mu, sigma, number_of_nodes+1)\n",
    "    c=getC(beta,number_of_nodes,scores)\n",
    "    A = createNetwork(scores,beta,c,number_of_nodes)\n",
    "    A = np.matrix(A,copy=False)\n",
    "    return A,scores\n",
    "\n",
    "def getEdgeList(A):\n",
    "    edge_list = []\n",
    "    shape,_=A.shape\n",
    "    for i in range(0,shape):\n",
    "        for j in range(0,shape):\n",
    "            edge_list.append((i,j))\n",
    "    return edge_list\n",
    "        \n",
    "    \n",
    "# remove interaction, regardless of weight\n",
    "def getTrainingandTestSet(A_orig):\n",
    "    A_train = A_orig.copy()\n",
    "    A_test  = np.zeros((A_orig.shape),dtype=np.int)\n",
    "    edge_list = getEdgeList(A_orig)\n",
    "    np.random.shuffle(edge_list)\n",
    "    choice_idx = np.random.choice(len(edge_list), int(len(edge_list)*0.2), replace=False)\n",
    "    for i in choice_idx:\n",
    "        (k,l) = edge_list[i]\n",
    "        A_test[(k,l)] = A_orig[(k,l)]\n",
    "        A_train[(k,l)] = 0\n",
    "    A_train = np.matrix(A_train,copy=False)\n",
    "    A_test = np.matrix(A_test,copy=False)    \n",
    "    return A_train,A_test\n",
    "\n",
    "def trainBetaAndRanks(A,alpha,l0,l1):\n",
    "    ranks,tuples = run(A,alpha,l0,l1)\n",
    "    temp=tl.get_optimal_temperature(ranks,A)\n",
    "    beta = 1/temp\n",
    "    print(\"Optimal Beta: \"+str(beta))\n",
    "    return beta,ranks\n",
    "\n",
    "def getPredictionsAndAccuracy(beta,A,ranks):\n",
    "    preds = prediction(beta,A,ranks)\n",
    "    acc = getAccuracy(preds,A,A.sum())\n",
    "    print(\"Accuracy : \"+str(acc))\n",
    "    return preds,acc\n",
    "\n",
    "\n",
    "    "
   ]
  },
  {
   "cell_type": "markdown",
   "metadata": {},
   "source": [
    "# Create networks 1,2,3 ; Create training and test sets"
   ]
  },
  {
   "cell_type": "code",
   "execution_count": 230,
   "metadata": {
    "collapsed": true
   },
   "outputs": [],
   "source": [
    "def experimentBeta(beta):\n",
    "    A1,scores1 = generateNetwork(beta=beta) # Adjacency Network A\n",
    "    A2,scores2 = generateNetwork(beta=beta) # Adjacency Network B\n",
    "    A3,scores3 = generateNetwork(beta=beta) # Adjacency Network C\n",
    "    A1_train,A1_test = getTrainingandTestSet(A1)\n",
    "    A3_train,A3_test = getTrainingandTestSet(A3)\n",
    "    A13 = np.add(A1,A3)\n",
    "    A13_train,A13_test = getTrainingandTestSet(A13)\n",
    "    graphProp(A1,\"Network A\")\n",
    "    graphProp(A1_train,\"NetworkA Training\")\n",
    "    graphProp(A1_test,\"NetworkA Test\")\n",
    "    graphProp(A2,\"Network B\")\n",
    "    graphProp(A3,\"NetworkC\")\n",
    "    graphProp(A13,\"Network A+C\")\n",
    "    \n",
    "    # =================== Experiment 1  (A --> B) ===================\n",
    "    A1_beta_train,A1_ranks_train,A1_preds_train,A1_acc_train = trainingExperiment(A1_train,0,0,1)\n",
    "    A1_preds_test,A1_acc_test = getPredictionsAndAccuracy(A1_beta_train,A1_test,A1_ranks_train)\n",
    "    A12_preds,A12_acc = getPredictionsAndAccuracy(A1_beta_train,A2,A1_ranks_train)\n",
    "    \n",
    "    # =================== Experiment 2 (C --> B) ===================\n",
    "    A3_beta_train,A3_ranks_train,A3_preds_train,A3_acc_train = trainingExperiment(A3_train,0,0,1)\n",
    "    A3_preds_test,A3_acc_test = getPredictionsAndAccuracy(A3_beta_train,A3_test,A3_ranks_train)\n",
    "    A32_preds,A32_acc = getPredictionsAndAccuracy(A3_beta_train,A2,A3_ranks_train)\n",
    "\n",
    "    # =================== Experiment 3 (A+C --> B) ===================\n",
    "    A13_beta_train,A13_ranks_train,A13_preds_train,A13_acc_train = trainingExperiment(A13_train,0,0,1)\n",
    "    A13_preds_test,A13_acc_test = getPredictionsAndAccuracy(A13_beta_train,A13_test,A13_ranks_train)\n",
    "    A132_preds,A132_acc = getPredictionsAndAccuracy(A13_beta_train,A2,A13_ranks_train)\n",
    "\n",
    "    experiment_names = [\"Experiment 1 (A-->B)\",\"Experiment 2 (C-->B)\",\"Experiment 3 (A+C-->B)\"]\n",
    "    experiments = [[A1_acc_train,A1_acc_test,A12_acc],[A3_acc_train,A3_acc_test,A32_acc],[A13_acc_train,A13_acc_test,A132_acc]]\n",
    "    data = np.array([\n",
    "        ['','Training data (80%)','Test data (20%)','Network B (100%)'],\n",
    "        [experiment_names[0],A1_acc_train,A1_acc_test,A12_acc],\n",
    "        [experiment_names[1],A3_acc_train,A3_acc_test,A32_acc],\n",
    "        [experiment_names[2],A13_acc_train,A13_acc_test,A132_acc]])\n",
    "    dataframe  = pd.DataFrame(data=data[1:,1:],\n",
    "                         index=data[1:,0],\n",
    "                         columns=data[0,1:])\n",
    "    return dataframe\n"
   ]
  },
  {
   "cell_type": "code",
   "execution_count": 241,
   "metadata": {
    "collapsed": false
   },
   "outputs": [
    {
     "data": {
      "text/html": [
       "<div>\n",
       "<style>\n",
       "    .dataframe thead tr:only-child th {\n",
       "        text-align: right;\n",
       "    }\n",
       "\n",
       "    .dataframe thead th {\n",
       "        text-align: left;\n",
       "    }\n",
       "\n",
       "    .dataframe tbody tr th {\n",
       "        vertical-align: top;\n",
       "    }\n",
       "</style>\n",
       "<table border=\"1\" class=\"dataframe\">\n",
       "  <thead>\n",
       "    <tr style=\"text-align: right;\">\n",
       "      <th></th>\n",
       "      <th></th>\n",
       "      <th>Training data (80%)</th>\n",
       "      <th>Test data (20%)</th>\n",
       "      <th>Network B (100%)</th>\n",
       "    </tr>\n",
       "  </thead>\n",
       "  <tbody>\n",
       "    <tr>\n",
       "      <th rowspan=\"3\" valign=\"top\">beta=0.5</th>\n",
       "      <th>Experiment 1 (A--&gt;B)</th>\n",
       "      <td>0.619572709406</td>\n",
       "      <td>0.561186382232</td>\n",
       "      <td>0.509306692194</td>\n",
       "    </tr>\n",
       "    <tr>\n",
       "      <th>Experiment 2 (C--&gt;B)</th>\n",
       "      <td>0.627319042419</td>\n",
       "      <td>0.562736216926</td>\n",
       "      <td>0.510058986469</td>\n",
       "    </tr>\n",
       "    <tr>\n",
       "      <th>Experiment 3 (A+C--&gt;B)</th>\n",
       "      <td>0.60658844133</td>\n",
       "      <td>0.550319922606</td>\n",
       "      <td>0.51994887969</td>\n",
       "    </tr>\n",
       "    <tr>\n",
       "      <th rowspan=\"3\" valign=\"top\">beta=1</th>\n",
       "      <th>Experiment 1 (A--&gt;B)</th>\n",
       "      <td>0.648261487327</td>\n",
       "      <td>0.6113420291</td>\n",
       "      <td>0.498731518271</td>\n",
       "    </tr>\n",
       "    <tr>\n",
       "      <th>Experiment 2 (C--&gt;B)</th>\n",
       "      <td>0.650509688738</td>\n",
       "      <td>0.620589153257</td>\n",
       "      <td>0.519473440145</td>\n",
       "    </tr>\n",
       "    <tr>\n",
       "      <th>Experiment 3 (A+C--&gt;B)</th>\n",
       "      <td>0.636235777718</td>\n",
       "      <td>0.593632354839</td>\n",
       "      <td>0.515945244624</td>\n",
       "    </tr>\n",
       "    <tr>\n",
       "      <th rowspan=\"3\" valign=\"top\">beta=1.5</th>\n",
       "      <th>Experiment 1 (A--&gt;B)</th>\n",
       "      <td>0.645819293918</td>\n",
       "      <td>0.622961123849</td>\n",
       "      <td>0.506464645197</td>\n",
       "    </tr>\n",
       "    <tr>\n",
       "      <th>Experiment 2 (C--&gt;B)</th>\n",
       "      <td>0.647398756451</td>\n",
       "      <td>0.626477766232</td>\n",
       "      <td>0.525046636834</td>\n",
       "    </tr>\n",
       "    <tr>\n",
       "      <th>Experiment 3 (A+C--&gt;B)</th>\n",
       "      <td>0.630528822319</td>\n",
       "      <td>0.58299278813</td>\n",
       "      <td>0.516075513562</td>\n",
       "    </tr>\n",
       "    <tr>\n",
       "      <th rowspan=\"3\" valign=\"top\">beta=2</th>\n",
       "      <th>Experiment 1 (A--&gt;B)</th>\n",
       "      <td>0.641965760676</td>\n",
       "      <td>0.632345599375</td>\n",
       "      <td>0.530074206843</td>\n",
       "    </tr>\n",
       "    <tr>\n",
       "      <th>Experiment 2 (C--&gt;B)</th>\n",
       "      <td>0.652653620096</td>\n",
       "      <td>0.615800479908</td>\n",
       "      <td>0.512631932403</td>\n",
       "    </tr>\n",
       "    <tr>\n",
       "      <th>Experiment 3 (A+C--&gt;B)</th>\n",
       "      <td>0.636199845809</td>\n",
       "      <td>0.600200298348</td>\n",
       "      <td>0.517547417862</td>\n",
       "    </tr>\n",
       "    <tr>\n",
       "      <th rowspan=\"3\" valign=\"top\">beta=2.5</th>\n",
       "      <th>Experiment 1 (A--&gt;B)</th>\n",
       "      <td>0.616571202889</td>\n",
       "      <td>0.600034850647</td>\n",
       "      <td>0.519081522839</td>\n",
       "    </tr>\n",
       "    <tr>\n",
       "      <th>Experiment 2 (C--&gt;B)</th>\n",
       "      <td>0.616807725176</td>\n",
       "      <td>0.607924039524</td>\n",
       "      <td>0.503847707304</td>\n",
       "    </tr>\n",
       "    <tr>\n",
       "      <th>Experiment 3 (A+C--&gt;B)</th>\n",
       "      <td>0.613860498038</td>\n",
       "      <td>0.561078604119</td>\n",
       "      <td>0.508496738301</td>\n",
       "    </tr>\n",
       "  </tbody>\n",
       "</table>\n",
       "</div>"
      ],
      "text/plain": [
       "                                Training data (80%) Test data (20%)  \\\n",
       "beta=0.5 Experiment 1 (A-->B)        0.619572709406  0.561186382232   \n",
       "         Experiment 2 (C-->B)        0.627319042419  0.562736216926   \n",
       "         Experiment 3 (A+C-->B)       0.60658844133  0.550319922606   \n",
       "beta=1   Experiment 1 (A-->B)        0.648261487327    0.6113420291   \n",
       "         Experiment 2 (C-->B)        0.650509688738  0.620589153257   \n",
       "         Experiment 3 (A+C-->B)      0.636235777718  0.593632354839   \n",
       "beta=1.5 Experiment 1 (A-->B)        0.645819293918  0.622961123849   \n",
       "         Experiment 2 (C-->B)        0.647398756451  0.626477766232   \n",
       "         Experiment 3 (A+C-->B)      0.630528822319   0.58299278813   \n",
       "beta=2   Experiment 1 (A-->B)        0.641965760676  0.632345599375   \n",
       "         Experiment 2 (C-->B)        0.652653620096  0.615800479908   \n",
       "         Experiment 3 (A+C-->B)      0.636199845809  0.600200298348   \n",
       "beta=2.5 Experiment 1 (A-->B)        0.616571202889  0.600034850647   \n",
       "         Experiment 2 (C-->B)        0.616807725176  0.607924039524   \n",
       "         Experiment 3 (A+C-->B)      0.613860498038  0.561078604119   \n",
       "\n",
       "                                Network B (100%)  \n",
       "beta=0.5 Experiment 1 (A-->B)     0.509306692194  \n",
       "         Experiment 2 (C-->B)     0.510058986469  \n",
       "         Experiment 3 (A+C-->B)    0.51994887969  \n",
       "beta=1   Experiment 1 (A-->B)     0.498731518271  \n",
       "         Experiment 2 (C-->B)     0.519473440145  \n",
       "         Experiment 3 (A+C-->B)   0.515945244624  \n",
       "beta=1.5 Experiment 1 (A-->B)     0.506464645197  \n",
       "         Experiment 2 (C-->B)     0.525046636834  \n",
       "         Experiment 3 (A+C-->B)   0.516075513562  \n",
       "beta=2   Experiment 1 (A-->B)     0.530074206843  \n",
       "         Experiment 2 (C-->B)     0.512631932403  \n",
       "         Experiment 3 (A+C-->B)   0.517547417862  \n",
       "beta=2.5 Experiment 1 (A-->B)     0.519081522839  \n",
       "         Experiment 2 (C-->B)     0.503847707304  \n",
       "         Experiment 3 (A+C-->B)   0.508496738301  "
      ]
     },
     "execution_count": 241,
     "metadata": {},
     "output_type": "execute_result"
    }
   ],
   "source": [
    "pd.concat(df)"
   ]
  },
  {
   "cell_type": "code",
   "execution_count": 237,
   "metadata": {
    "collapsed": false
   },
   "outputs": [
    {
     "name": "stdout",
     "output_type": "stream",
     "text": [
      "Network A\n",
      " no. of nodes= 100, no. of edges= 2007\n",
      "NetworkA Training\n",
      " no. of nodes= 100, no. of edges= 1612\n",
      "NetworkA Test\n",
      " no. of nodes= 100, no. of edges= 395\n",
      "Network B\n",
      " no. of nodes= 100, no. of edges= 1987\n",
      "NetworkC\n",
      " no. of nodes= 100, no. of edges= 1978\n",
      "Network A+C\n",
      " no. of nodes= 100, no. of edges= 3985\n",
      "Optimal Beta: 0.866707148328163\n",
      "Accuracy : 0.619572709406\n",
      "Accuracy : 0.561186382232\n",
      "Accuracy : 0.509306692194\n",
      "Optimal Beta: 0.8388936392200721\n",
      "Accuracy : 0.627319042419\n",
      "Accuracy : 0.562736216926\n",
      "Accuracy : 0.510058986469\n",
      "Optimal Beta: 1.0507163405013917\n",
      "Accuracy : 0.60658844133\n",
      "Accuracy : 0.550319922606\n",
      "Accuracy : 0.51994887969\n",
      "Network A\n",
      " no. of nodes= 100, no. of edges= 1962\n",
      "NetworkA Training\n",
      " no. of nodes= 100, no. of edges= 1560\n",
      "NetworkA Test\n",
      " no. of nodes= 100, no. of edges= 402\n",
      "Network B\n",
      " no. of nodes= 100, no. of edges= 2028\n",
      "NetworkC\n",
      " no. of nodes= 100, no. of edges= 2125\n",
      "Network A+C\n",
      " no. of nodes= 100, no. of edges= 4087\n",
      "Optimal Beta: 0.6026123583275417\n",
      "Accuracy : 0.648261487327\n",
      "Accuracy : 0.6113420291\n",
      "Accuracy : 0.498731518271\n",
      "Optimal Beta: 0.6123072674231522\n",
      "Accuracy : 0.650509688738\n",
      "Accuracy : 0.620589153257\n",
      "Accuracy : 0.519473440145\n",
      "Optimal Beta: 0.8928891107747738\n",
      "Accuracy : 0.636235777718\n",
      "Accuracy : 0.593632354839\n",
      "Accuracy : 0.515945244624\n",
      "Network A\n",
      " no. of nodes= 100, no. of edges= 1966\n",
      "NetworkA Training\n",
      " no. of nodes= 100, no. of edges= 1561\n",
      "NetworkA Test\n",
      " no. of nodes= 100, no. of edges= 405\n",
      "Network B\n",
      " no. of nodes= 100, no. of edges= 2018\n",
      "NetworkC\n",
      " no. of nodes= 100, no. of edges= 1938\n",
      "Network A+C\n",
      " no. of nodes= 100, no. of edges= 3904\n",
      "Optimal Beta: 0.4891766785775191\n",
      "Accuracy : 0.645819293918\n",
      "Accuracy : 0.622961123849\n",
      "Accuracy : 0.506464645197\n",
      "Optimal Beta: 0.4488134496436207\n",
      "Accuracy : 0.647398756451\n",
      "Accuracy : 0.626477766232\n",
      "Accuracy : 0.525046636834\n",
      "Optimal Beta: 0.8866739900506027\n",
      "Accuracy : 0.630528822319\n",
      "Accuracy : 0.58299278813\n",
      "Accuracy : 0.516075513562\n",
      "Network A\n",
      " no. of nodes= 100, no. of edges= 2020\n",
      "NetworkA Training\n",
      " no. of nodes= 100, no. of edges= 1607\n",
      "NetworkA Test\n",
      " no. of nodes= 100, no. of edges= 413\n",
      "Network B\n",
      " no. of nodes= 100, no. of edges= 2035\n",
      "NetworkC\n",
      " no. of nodes= 100, no. of edges= 2024\n",
      "Network A+C\n",
      " no. of nodes= 100, no. of edges= 4044\n",
      "Optimal Beta: 0.39923780811354265\n",
      "Accuracy : 0.641965760676\n",
      "Accuracy : 0.632345599375\n",
      "Accuracy : 0.530074206843\n",
      "Optimal Beta: 0.4392653814483092\n",
      "Accuracy : 0.652653620096\n",
      "Accuracy : 0.615800479908\n",
      "Accuracy : 0.512631932403\n",
      "Optimal Beta: 0.8640039026857173\n",
      "Accuracy : 0.636199845809\n",
      "Accuracy : 0.600200298348\n",
      "Accuracy : 0.517547417862\n",
      "Network A\n",
      " no. of nodes= 100, no. of edges= 1970\n",
      "NetworkA Training\n",
      " no. of nodes= 100, no. of edges= 1586\n",
      "NetworkA Test\n",
      " no. of nodes= 100, no. of edges= 384\n",
      "Network B\n",
      " no. of nodes= 100, no. of edges= 1898\n",
      "NetworkC\n",
      " no. of nodes= 100, no. of edges= 1991\n",
      "Network A+C\n",
      " no. of nodes= 100, no. of edges= 3961\n",
      "Optimal Beta: 0.3042515607433198\n",
      "Accuracy : 0.616571202889\n",
      "Accuracy : 0.600034850647\n",
      "Accuracy : 0.519081522839\n",
      "Optimal Beta: 0.32110868716458363\n",
      "Accuracy : 0.616807725176\n",
      "Accuracy : 0.607924039524\n",
      "Accuracy : 0.503847707304\n",
      "Optimal Beta: 0.8736729854422278\n",
      "Accuracy : 0.613860498038\n",
      "Accuracy : 0.561078604119\n",
      "Accuracy : 0.508496738301\n"
     ]
    }
   ],
   "source": [
    "beta_exp = [0.5,1,1.5,2,2.5]\n",
    "df = {}\n",
    "for i in beta_exp:\n",
    "    df[\"beta=\"+str(i)] = experimentBeta(i)"
   ]
  },
  {
   "cell_type": "code",
   "execution_count": null,
   "metadata": {
    "collapsed": false,
    "scrolled": true
   },
   "outputs": [],
   "source": []
  },
  {
   "cell_type": "code",
   "execution_count": 243,
   "metadata": {
    "collapsed": false
   },
   "outputs": [],
   "source": [
    "A1,scores1 = generateNetwork(beta=1) # Adjacency Network A\n"
   ]
  },
  {
   "cell_type": "code",
   "execution_count": 244,
   "metadata": {
    "collapsed": false
   },
   "outputs": [],
   "source": [
    "A2,scores2 = generateNetwork(beta=1) # Adjacency Network B\n"
   ]
  },
  {
   "cell_type": "code",
   "execution_count": 245,
   "metadata": {
    "collapsed": true
   },
   "outputs": [],
   "source": [
    "A3,scores3 = generateNetwork(beta=1) # Adjacency Network C"
   ]
  },
  {
   "cell_type": "code",
   "execution_count": 246,
   "metadata": {
    "collapsed": false
   },
   "outputs": [],
   "source": [
    "A1_train,A1_test = getTrainingandTestSet(A1)"
   ]
  },
  {
   "cell_type": "code",
   "execution_count": 247,
   "metadata": {
    "collapsed": false
   },
   "outputs": [],
   "source": [
    "A3_train,A3_test = getTrainingandTestSet(A3)"
   ]
  },
  {
   "cell_type": "code",
   "execution_count": 248,
   "metadata": {
    "collapsed": true
   },
   "outputs": [],
   "source": [
    "A13 = np.add(A1,A3)\n",
    "A13_train,A13_test = getTrainingandTestSet(A13)"
   ]
  },
  {
   "cell_type": "code",
   "execution_count": 249,
   "metadata": {
    "collapsed": false
   },
   "outputs": [
    {
     "name": "stdout",
     "output_type": "stream",
     "text": [
      "Network A\n",
      " no. of nodes= 100, no. of edges= 1978\n",
      "NetworkA Training\n",
      " no. of nodes= 100, no. of edges= 1582\n",
      "NetworkA Test\n",
      " no. of nodes= 100, no. of edges= 396\n",
      "Network B\n",
      " no. of nodes= 100, no. of edges= 1939\n",
      "NetworkC\n",
      " no. of nodes= 100, no. of edges= 1959\n",
      "Network A+C\n",
      " no. of nodes= 100, no. of edges= 3937\n"
     ]
    }
   ],
   "source": [
    "graphProp(A1,\"Network A\")\n",
    "graphProp(A1_train,\"NetworkA Training\")\n",
    "graphProp(A1_test,\"NetworkA Test\")\n",
    "graphProp(A2,\"Network B\")\n",
    "graphProp(A3,\"NetworkC\")\n",
    "graphProp(A13,\"Network A+C\")\n",
    "\n",
    "\n"
   ]
  },
  {
   "cell_type": "code",
   "execution_count": 261,
   "metadata": {
    "collapsed": true
   },
   "outputs": [],
   "source": [
    "def trainingExperiment(A,alpha,l0,l1):\n",
    "    beta,ranks = trainBetaAndRanks(A,alpha,l0,l1)\n",
    "    preds,acc =  getPredictionsAndAccuracy(beta,A,ranks)\n",
    "    return beta,ranks,preds,acc\n"
   ]
  },
  {
   "cell_type": "markdown",
   "metadata": {},
   "source": [
    "# =================== Experiment 1  (A --> B) ===================\n"
   ]
  },
  {
   "cell_type": "markdown",
   "metadata": {},
   "source": [
    "## Learn A_80%"
   ]
  },
  {
   "cell_type": "code",
   "execution_count": 287,
   "metadata": {
    "collapsed": false
   },
   "outputs": [
    {
     "name": "stdout",
     "output_type": "stream",
     "text": [
      "Optimal Beta: 0.6172135468885139\n",
      "Accuracy : 0.665131898504\n"
     ]
    }
   ],
   "source": [
    "A1_beta_train,A1_ranks_train,A1_preds_train,A1_acc_train = trainingExperiment(A1_train,0,0,1)"
   ]
  },
  {
   "cell_type": "markdown",
   "metadata": {},
   "source": [
    "## Predict A_20% using A_80% parameters\n"
   ]
  },
  {
   "cell_type": "code",
   "execution_count": 288,
   "metadata": {
    "collapsed": false
   },
   "outputs": [
    {
     "name": "stdout",
     "output_type": "stream",
     "text": [
      "Accuracy : 0.61949475333\n"
     ]
    }
   ],
   "source": [
    "A1_preds_test,A1_acc_test = getPredictionsAndAccuracy(A1_beta_train,A1_test,A1_ranks_train)\n"
   ]
  },
  {
   "cell_type": "markdown",
   "metadata": {},
   "source": [
    "## Predict B_100% using A_80%"
   ]
  },
  {
   "cell_type": "code",
   "execution_count": 289,
   "metadata": {
    "collapsed": false
   },
   "outputs": [
    {
     "name": "stdout",
     "output_type": "stream",
     "text": [
      "Accuracy : 0.526545241197\n"
     ]
    }
   ],
   "source": [
    "A12_preds,A12_acc = getPredictionsAndAccuracy(A1_beta_train,A2,A1_ranks_train)\n"
   ]
  },
  {
   "cell_type": "markdown",
   "metadata": {},
   "source": [
    "# =================== Experiment 2 (C --> B) ==================="
   ]
  },
  {
   "cell_type": "markdown",
   "metadata": {},
   "source": [
    "## Learn C_80%"
   ]
  },
  {
   "cell_type": "code",
   "execution_count": 269,
   "metadata": {
    "collapsed": false,
    "scrolled": true
   },
   "outputs": [
    {
     "name": "stdout",
     "output_type": "stream",
     "text": [
      "Optimal Beta: 0.6165092052255828\n",
      "Accuracy : 0.659602602139\n"
     ]
    }
   ],
   "source": [
    "A3_beta_train,A3_ranks_train,A3_preds_train,A3_acc_train = trainingExperiment(A3_train,0,0,1)"
   ]
  },
  {
   "cell_type": "markdown",
   "metadata": {},
   "source": [
    "## Predict C_20% using C_80% parameters\n"
   ]
  },
  {
   "cell_type": "code",
   "execution_count": 270,
   "metadata": {
    "collapsed": false
   },
   "outputs": [
    {
     "name": "stdout",
     "output_type": "stream",
     "text": [
      "Accuracy : 0.612442368759\n"
     ]
    }
   ],
   "source": [
    "A3_preds_test,A3_acc_test = getPredictionsAndAccuracy(A3_beta_train,A3_test,A3_ranks_train)\n"
   ]
  },
  {
   "cell_type": "markdown",
   "metadata": {},
   "source": [
    "## Predict B_100% using C_80%"
   ]
  },
  {
   "cell_type": "code",
   "execution_count": 271,
   "metadata": {
    "collapsed": false
   },
   "outputs": [
    {
     "name": "stdout",
     "output_type": "stream",
     "text": [
      "Accuracy : 0.500275628171\n"
     ]
    }
   ],
   "source": [
    "A32_preds,A32_acc = getPredictionsAndAccuracy(A3_beta_train,A2,A3_ranks_train)\n"
   ]
  },
  {
   "cell_type": "markdown",
   "metadata": {},
   "source": [
    "# =================== Experiment 3 (A+C --> B) ==================="
   ]
  },
  {
   "cell_type": "markdown",
   "metadata": {},
   "source": [
    "## Learn A_C_80%"
   ]
  },
  {
   "cell_type": "code",
   "execution_count": 272,
   "metadata": {
    "collapsed": false,
    "scrolled": true
   },
   "outputs": [
    {
     "name": "stdout",
     "output_type": "stream",
     "text": [
      "Optimal Beta: 1.0048446412569256\n",
      "Accuracy : 0.610476014078\n"
     ]
    }
   ],
   "source": [
    "A13_beta_train,A13_ranks_train,A13_preds_train,A13_acc_train = trainingExperiment(A13_train,0,0,1)"
   ]
  },
  {
   "cell_type": "markdown",
   "metadata": {},
   "source": [
    "## Predict A_C_20% using A_C_80% parameters\n"
   ]
  },
  {
   "cell_type": "code",
   "execution_count": 273,
   "metadata": {
    "collapsed": false
   },
   "outputs": [
    {
     "name": "stdout",
     "output_type": "stream",
     "text": [
      "\n",
      " no. of nodes= 100, no. of edges= 3937\n"
     ]
    }
   ],
   "source": [
    "graphProp(A13,\"\")"
   ]
  },
  {
   "cell_type": "code",
   "execution_count": 274,
   "metadata": {
    "collapsed": false
   },
   "outputs": [
    {
     "name": "stdout",
     "output_type": "stream",
     "text": [
      "Accuracy : 0.548814450619\n"
     ]
    }
   ],
   "source": [
    "A13_preds_test,A13_acc_test = getPredictionsAndAccuracy(A13_beta_train,A13_test,A13_ranks_train)\n"
   ]
  },
  {
   "cell_type": "markdown",
   "metadata": {},
   "source": [
    "## Predict B_100% using A_C_80%"
   ]
  },
  {
   "cell_type": "code",
   "execution_count": 275,
   "metadata": {
    "collapsed": false
   },
   "outputs": [
    {
     "name": "stdout",
     "output_type": "stream",
     "text": [
      "Accuracy : 0.505911385029\n"
     ]
    }
   ],
   "source": [
    "A132_preds,A132_acc = getPredictionsAndAccuracy(A13_beta_train,A2,A13_ranks_train)\n"
   ]
  },
  {
   "cell_type": "code",
   "execution_count": 276,
   "metadata": {
    "collapsed": false
   },
   "outputs": [],
   "source": [
    "experiment_names = [\"Experiment 1 (A-->B)\",\"Experiment 2 (C-->B)\",\"Experiment 3 (A+C-->B)\"]\n",
    "experiments = [[A1_acc_train,A1_acc_test,A12_acc],[A3_acc_train,A3_acc_test,A32_acc],[A13_acc_train,A13_acc_test,A132_acc]]"
   ]
  },
  {
   "cell_type": "code",
   "execution_count": 277,
   "metadata": {
    "collapsed": false
   },
   "outputs": [
    {
     "name": "stdout",
     "output_type": "stream",
     "text": [
      "                       Training data (80%) Test data (20%) Network B (100%)\n",
      "Experiment 1 (A-->B)        0.654668461396   0.61308097098     0.5062469062\n",
      "Experiment 2 (C-->B)        0.659602602139  0.612442368759   0.500275628171\n",
      "Experiment 3 (A+C-->B)      0.610476014078  0.548814450619   0.505911385029\n"
     ]
    }
   ],
   "source": [
    "data = np.array([\n",
    "        ['','Training data (80%)','Test data (20%)','Network B (100%)'],\n",
    "        [experiment_names[0],A1_acc_train,A1_acc_test,A12_acc],\n",
    "        [experiment_names[1],A3_acc_train,A3_acc_test,A32_acc],\n",
    "        [experiment_names[2],A13_acc_train,A13_acc_test,A132_acc]])\n",
    "dataframe  = pd.DataFrame(data=data[1:,1:],\n",
    "                         index=data[1:,0],\n",
    "                         columns=data[0,1:])\n",
    "print(dataframe)"
   ]
  },
  {
   "cell_type": "code",
   "execution_count": null,
   "metadata": {
    "collapsed": true
   },
   "outputs": [],
   "source": []
  },
  {
   "cell_type": "markdown",
   "metadata": {},
   "source": [
    "# Train 100%"
   ]
  },
  {
   "cell_type": "markdown",
   "metadata": {},
   "source": [
    "# Trying a small graph. Things we discussed during the meeting"
   ]
  },
  {
   "cell_type": "code",
   "execution_count": 195,
   "metadata": {
    "collapsed": false
   },
   "outputs": [
    {
     "data": {
      "text/plain": [
       "0"
      ]
     },
     "execution_count": 195,
     "metadata": {},
     "output_type": "execute_result"
    }
   ],
   "source": [
    "#create  a toy graph\n",
    "G_small = nx.MultiDiGraph()\n",
    "G_small.add_edge(0,1)\n",
    "G_small.add_edge(0,1)\n",
    "G_small.add_edge(1,0)"
   ]
  },
  {
   "cell_type": "code",
   "execution_count": 196,
   "metadata": {
    "collapsed": false
   },
   "outputs": [
    {
     "data": {
      "text/plain": [
       "OutMultiEdgeView([(0, 1, 0), (0, 1, 1), (1, 0, 0)])"
      ]
     },
     "execution_count": 196,
     "metadata": {},
     "output_type": "execute_result"
    }
   ],
   "source": [
    "G_small.edges"
   ]
  },
  {
   "cell_type": "code",
   "execution_count": 197,
   "metadata": {
    "collapsed": false
   },
   "outputs": [
    {
     "name": "stdout",
     "output_type": "stream",
     "text": [
      "Optimal Beta: 1.9235933878519509\n",
      "Accuracy : 0.476211459833\n"
     ]
    }
   ],
   "source": [
    "# learn ranks and get optimal temperature \n",
    "A1_small = nx.to_numpy_matrix(G_small,nodelist=list(G_small.nodes))\n",
    "A1_beta_small,A1_ranks_small = trainBetaAndRanks(A1_small,0,0,1)\n",
    "A1_preds_small,A1_acc_small = getPredictionsAndAccuracy(A1_beta_small,A1_small,A1_ranks_small)"
   ]
  },
  {
   "cell_type": "code",
   "execution_count": 199,
   "metadata": {
    "collapsed": false
   },
   "outputs": [
    {
     "data": {
      "text/plain": [
       "6.0"
      ]
     },
     "execution_count": 199,
     "metadata": {},
     "output_type": "execute_result"
    }
   ],
   "source": [
    "(A1_small+A1_small).sum()"
   ]
  },
  {
   "cell_type": "code",
   "execution_count": 552,
   "metadata": {
    "collapsed": false
   },
   "outputs": [
    {
     "data": {
      "text/plain": [
       "{(0, 0): 0,\n",
       " (0, 1): 0.92856093675019202,\n",
       " (1, 0): 0.071439063249808032,\n",
       " (1, 1): 0}"
      ]
     },
     "execution_count": 552,
     "metadata": {},
     "output_type": "execute_result"
    }
   ],
   "source": [
    "A1_preds_small"
   ]
  },
  {
   "cell_type": "code",
   "execution_count": 553,
   "metadata": {
    "collapsed": true
   },
   "outputs": [],
   "source": [
    "beta_a = np.log(2)*3/4"
   ]
  },
  {
   "cell_type": "code",
   "execution_count": 554,
   "metadata": {
    "collapsed": false
   },
   "outputs": [
    {
     "data": {
      "text/plain": [
       "0.66666666666666663"
      ]
     },
     "execution_count": 554,
     "metadata": {},
     "output_type": "execute_result"
    }
   ],
   "source": [
    "1/(1+np.exp(-4/3*beta_a))"
   ]
  },
  {
   "cell_type": "code",
   "execution_count": 555,
   "metadata": {
    "collapsed": false
   },
   "outputs": [
    {
     "data": {
      "text/plain": [
       "array([ 0.66666667,  0.        ])"
      ]
     },
     "execution_count": 555,
     "metadata": {},
     "output_type": "execute_result"
    }
   ],
   "source": [
    "rank1_small"
   ]
  },
  {
   "cell_type": "code",
   "execution_count": 265,
   "metadata": {
    "collapsed": false
   },
   "outputs": [
    {
     "data": {
      "text/plain": [
       "OutMultiEdgeView([(0, 1, 0), (0, 1, 1), (1, 0, 0)])"
      ]
     },
     "execution_count": 265,
     "metadata": {},
     "output_type": "execute_result"
    }
   ],
   "source": [
    "G_small.edges"
   ]
  },
  {
   "cell_type": "code",
   "execution_count": 266,
   "metadata": {
    "collapsed": false
   },
   "outputs": [
    {
     "data": {
      "text/plain": [
       "0.51986038541995894"
      ]
     },
     "execution_count": 266,
     "metadata": {},
     "output_type": "execute_result"
    }
   ],
   "source": [
    "beta_a"
   ]
  },
  {
   "cell_type": "markdown",
   "metadata": {},
   "source": [
    "#  Chess matches. TODO beyond this point\n"
   ]
  },
  {
   "cell_type": "code",
   "execution_count": 79,
   "metadata": {
    "collapsed": false
   },
   "outputs": [],
   "source": [
    "G_chess = getMultiDiGraphFromFile(input_data_dir+\"formatted_chess_edgelist.data\")\n",
    "\n"
   ]
  },
  {
   "cell_type": "code",
   "execution_count": 27,
   "metadata": {
    "collapsed": false
   },
   "outputs": [],
   "source": [
    "G_chess_train,G_chess_test = getTrainingandTestSet(G_chess)\n",
    "A_chess_test = nx.to_numpy_matrix(G_chess_test,nodelist=list(G_chess_test.nodes),weight='weight')"
   ]
  },
  {
   "cell_type": "code",
   "execution_count": 785,
   "metadata": {
    "collapsed": false
   },
   "outputs": [
    {
     "name": "stdout",
     "output_type": "stream",
     "text": [
      "no. of nodes= 6832, no. of edges= 36387\n",
      "no. of nodes= 6832, no. of edges= 29110\n"
     ]
    }
   ],
   "source": [
    "graphProp(G_chess)\n",
    "graphProp(G_chess_train)"
   ]
  },
  {
   "cell_type": "code",
   "execution_count": 786,
   "metadata": {
    "collapsed": false
   },
   "outputs": [
    {
     "name": "stdout",
     "output_type": "stream",
     "text": [
      "0.6180489072195094\n"
     ]
    }
   ],
   "source": [
    "alpha,l0,l1=0,0,1\n",
    "rank_chess_train,tuples_chess = run(G_chess_train,alpha,l0,l1)\n",
    "\n",
    "A_chess_train = nx.to_numpy_matrix(G_chess_train,nodelist=list(G_chess_train.nodes),weight='weight')\n",
    "\n",
    "#get opt beta\n",
    "#temp_chess_train=tl.get_optimal_temperature(rank_chess_train,A_chess_train)\n",
    "#beta_chess_train = 1/temp_chess_train\n",
    "print((beta_chess_train))\n"
   ]
  },
  {
   "cell_type": "code",
   "execution_count": 80,
   "metadata": {
    "collapsed": false
   },
   "outputs": [],
   "source": [
    "A_chess = nx.to_numpy_matrix(G_chess)\n"
   ]
  },
  {
   "cell_type": "code",
   "execution_count": 81,
   "metadata": {
    "collapsed": false
   },
   "outputs": [
    {
     "data": {
      "text/plain": [
       "5"
      ]
     },
     "execution_count": 81,
     "metadata": {},
     "output_type": "execute_result"
    }
   ],
   "source": [
    "G_chess.number_of_edges(3106,2307)"
   ]
  },
  {
   "cell_type": "code",
   "execution_count": null,
   "metadata": {
    "collapsed": true
   },
   "outputs": [],
   "source": [
    "A_chess"
   ]
  },
  {
   "cell_type": "code",
   "execution_count": null,
   "metadata": {
    "collapsed": true
   },
   "outputs": [],
   "source": []
  },
  {
   "cell_type": "code",
   "execution_count": null,
   "metadata": {
    "collapsed": true
   },
   "outputs": [],
   "source": []
  },
  {
   "cell_type": "code",
   "execution_count": null,
   "metadata": {
    "collapsed": true
   },
   "outputs": [],
   "source": []
  },
  {
   "cell_type": "code",
   "execution_count": null,
   "metadata": {
    "collapsed": true
   },
   "outputs": [],
   "source": []
  }
 ],
 "metadata": {
  "kernelspec": {
   "display_name": "Python 3",
   "language": "python",
   "name": "python3"
  },
  "language_info": {
   "codemirror_mode": {
    "name": "ipython",
    "version": 3
   },
   "file_extension": ".py",
   "mimetype": "text/x-python",
   "name": "python",
   "nbconvert_exporter": "python",
   "pygments_lexer": "ipython3",
   "version": "3.5.2"
  }
 },
 "nbformat": 4,
 "nbformat_minor": 0
}
