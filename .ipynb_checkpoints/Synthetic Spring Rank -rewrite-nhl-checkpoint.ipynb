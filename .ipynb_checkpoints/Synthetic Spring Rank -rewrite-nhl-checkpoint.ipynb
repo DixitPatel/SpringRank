{
 "cells": [
  {
   "cell_type": "code",
   "execution_count": 2,
   "metadata": {
    "collapsed": false
   },
   "outputs": [],
   "source": [
    "import sys\n",
    "import os\n",
    "spr_path = \"/Users/Dixit/Documents/Studies/CU_Boulder/sem3/Independent_study/code/SpringRank/python\"\n",
    "sys.path.append(os.path.abspath(spr_path))\n",
    "import SpringRank_tools as SR\n",
    "import csv\n",
    "import matplotlib.pyplot as plt\n",
    "%matplotlib inline\n",
    "from sklearn import metrics\n",
    "import time\n",
    "import pandas as pd\n",
    "import math"
   ]
  },
  {
   "cell_type": "code",
   "execution_count": 3,
   "metadata": {
    "collapsed": true
   },
   "outputs": [],
   "source": [
    "import networkx as nx\n",
    "import numpy as np\n",
    "import SpringRank_tools as sr\n",
    "import tools as tl"
   ]
  },
  {
   "cell_type": "code",
   "execution_count": 4,
   "metadata": {
    "collapsed": true
   },
   "outputs": [],
   "source": [
    "input_data_dir = '/Users/Dixit/Documents/Studies/CU_Boulder/sem3/Independent_study/github/SpringRank/data/input/'\n",
    "output_data_dir = '/Users/Dixit/Documents/Studies/CU_Boulder/sem3/Independent_study/github/SpringRank/data/output/'"
   ]
  },
  {
   "cell_type": "code",
   "execution_count": 5,
   "metadata": {
    "collapsed": true
   },
   "outputs": [],
   "source": [
    "teamIdMap = {}\n",
    "nextIdx = 0;"
   ]
  },
  {
   "cell_type": "code",
   "execution_count": 6,
   "metadata": {
    "collapsed": true
   },
   "outputs": [],
   "source": [
    "def getAdjByYear(year,nextIdx,teamIdMap):\n",
    "    Adj = np.zeros((50,50),dtype=np.int)\n",
    "    with open(input_data_dir+\"NHL/\"+str(year)+\"_NHL\",'r') as nhl:\n",
    "        nhl = csv.reader(nhl,delimiter=',')\n",
    "        for row in nhl:\n",
    "            if row[1] not in teamIdMap:\n",
    "                teamIdMap[row[1]] = nextIdx\n",
    "                nextIdx+=1\n",
    "            if row[2] not in teamIdMap:\n",
    "                teamIdMap[row[2]] = nextIdx\n",
    "                nextIdx+=1\n",
    "            i = teamIdMap[row[1]]\n",
    "            j = teamIdMap[row[2]]\n",
    "            if Adj[(i,j)] == 0:\n",
    "                Adj[(i,j)] = row[3]\n",
    "            else:\n",
    "                print(\"Duplicate? \"+str(i)+\" \"+str(j)+\" \"+row[1]+\" \"+row[2])\n",
    "    Adj = np.matrix(Adj,copy=False)\n",
    "    return Adj,nextIdx,teamIdMap"
   ]
  },
  {
   "cell_type": "code",
   "execution_count": 7,
   "metadata": {
    "collapsed": false
   },
   "outputs": [],
   "source": [
    "Adj_2000,nextIdx,teamIdMap = getAdjByYear(2000,nextIdx,teamIdMap)\n",
    "Adj_2001,nextIdx,teamIdMap = getAdjByYear(2001,nextIdx,teamIdMap)\n",
    "Adj_2002,nextIdx,teamIdMap = getAdjByYear(2002,nextIdx,teamIdMap)\n",
    "Adj_2003,nextIdx,teamIdMap = getAdjByYear(2003,nextIdx,teamIdMap)\n",
    "Adj_2004,nextIdx,teamIdMap = getAdjByYear(2004,nextIdx,teamIdMap)\n",
    "Adj_2005,nextIdx,teamIdMap = getAdjByYear(2005,nextIdx,teamIdMap)\n",
    "Adj_2006,nextIdx,teamIdMap = getAdjByYear(2006,nextIdx,teamIdMap)\n",
    "Adj_2007,nextIdx,teamIdMap = getAdjByYear(2007,nextIdx,teamIdMap)\n",
    "Adj_2008,nextIdx,teamIdMap = getAdjByYear(2008,nextIdx,teamIdMap)\n",
    "Adj_2009,nextIdx,teamIdMap = getAdjByYear(2009,nextIdx,teamIdMap)\n",
    "Adj_2010,nextIdx,teamIdMap = getAdjByYear(2010,nextIdx,teamIdMap)\n",
    "Adj_2011,nextIdx,teamIdMap = getAdjByYear(2011,nextIdx,teamIdMap)\n",
    "\n"
   ]
  },
  {
   "cell_type": "code",
   "execution_count": 8,
   "metadata": {
    "collapsed": false
   },
   "outputs": [
    {
     "data": {
      "text/plain": [
       "32"
      ]
     },
     "execution_count": 8,
     "metadata": {},
     "output_type": "execute_result"
    }
   ],
   "source": [
    "len(teamIdMap)"
   ]
  },
  {
   "cell_type": "code",
   "execution_count": 9,
   "metadata": {
    "collapsed": false
   },
   "outputs": [
    {
     "data": {
      "text/plain": [
       "{'ANA': 0,\n",
       " 'AND': 30,\n",
       " 'ATL': 1,\n",
       " 'BOS': 2,\n",
       " 'BUF': 3,\n",
       " 'CAL': 4,\n",
       " 'CAR': 5,\n",
       " 'CBS': 6,\n",
       " 'CHI': 7,\n",
       " 'COL': 8,\n",
       " 'DAL': 9,\n",
       " 'DET': 10,\n",
       " 'EDM': 11,\n",
       " 'FLO': 12,\n",
       " 'LAK': 13,\n",
       " 'MIN': 14,\n",
       " 'MTL': 15,\n",
       " 'NAS': 16,\n",
       " 'NJD': 17,\n",
       " 'NYI': 18,\n",
       " 'NYR': 19,\n",
       " 'OTT': 20,\n",
       " 'PHI': 21,\n",
       " 'PHO': 22,\n",
       " 'PIT': 23,\n",
       " 'SJS': 24,\n",
       " 'STL': 25,\n",
       " 'TBL': 26,\n",
       " 'TOR': 27,\n",
       " 'VAN': 28,\n",
       " 'WAS': 29,\n",
       " 'WPG': 31}"
      ]
     },
     "execution_count": 9,
     "metadata": {},
     "output_type": "execute_result"
    }
   ],
   "source": [
    "teamIdMap"
   ]
  },
  {
   "cell_type": "code",
   "execution_count": 10,
   "metadata": {
    "collapsed": false
   },
   "outputs": [],
   "source": [
    "def run(A,alpha,l0,l1):\n",
    "    '''\n",
    "    Extracts SpringRank\n",
    "    '''\n",
    "    rank=sr.SpringRank(A,alpha=alpha,l0=l0,l1=l1)\n",
    "    rank=tl.shift_rank(rank)   # (optional) shifts so that the min is in zero and the others are positive\n",
    "    \n",
    "    unordered_tuples=[(i,rank[i]) for i in range(A.shape[0])]\n",
    "    return rank,unordered_tuples\n",
    "\n",
    "def save(sorted_tuples,alpha,l0,l1,G,file):\n",
    "    '''\n",
    "    Prints results\n",
    "    '''\n",
    "    print('SpringRank scores:')\n",
    "    outfile=output_data_dir+'/'+file+'_SpringRank_'+'a'+str(alpha)+'_l0_'+str(l0)+'_l1_'+str(l1)+'.dat'\n",
    "    outf=open(outfile,'w')\n",
    "\n",
    "    for i in range(G.number_of_nodes()):\n",
    "        outf.write(\"{} {}\\n\".format(sorted_tuples[i][0],sorted_tuples[i][1]))\n",
    "    print('Results saved in:', outfile)\n",
    "    outf.close()\n",
    "    \n"
   ]
  },
  {
   "cell_type": "code",
   "execution_count": 11,
   "metadata": {
    "collapsed": false
   },
   "outputs": [],
   "source": [
    "def getEqn39(rank,A,start,end,step):\n",
    "    x = np.arange(start,end,step)\n",
    "    y=[]\n",
    "    for xi in x:\n",
    "        y.append(tl.eqs39(xi,rank,A))\n",
    "    return x,y\n",
    "\n",
    "def eqn39SimplePlot(rank,A,save):\n",
    "    x,y = getEqn39(rank,A,0.1,20,1)\n",
    "    plt.plot(x,y)\n",
    "    plt.title('Eqn 39 :'+save)\n",
    "    if save:\n",
    "        plt.savefig(output_data_dir+save+'.svg')\n",
    "\n",
    "#prediction score for every pair or only for ones we \n",
    "def prediction(beta,Adj,scores):\n",
    "    preds={}\n",
    "    size=Adj.shape[0]\n",
    "    for i in range(0,size):\n",
    "        for j in range(0,size):\n",
    "            if(Adj[(i,j)]>0 or Adj[(j,i)]>0):\n",
    "                preds[(i,j)] = 1/(1+np.exp(-beta*2*(scores[i]-scores[j])))\n",
    "            else: preds[(i,j)] = 0\n",
    "    return preds\n",
    "\n",
    "def getAccuracy(preds,Adj,num_edges):\n",
    "    total=0\n",
    "    size = Adj.shape[0]\n",
    "    for i in range(0,size):\n",
    "        for j in range(0,size):\n",
    "            if(i!=j and (Adj[(i,j)]>0 or Adj[(j,i)]>0)):\n",
    "                total += abs(Adj[(i,j)]-((Adj[(i,j)]+Adj[j,i])*preds[(i,j)]))\n",
    "    total = 1-((total)/(2*num_edges))\n",
    "    return total\n",
    "\n",
    " \n"
   ]
  },
  {
   "cell_type": "code",
   "execution_count": 12,
   "metadata": {
    "collapsed": false
   },
   "outputs": [],
   "source": [
    "def expectedEqn(beta,c,si,sj):\n",
    "    return c*np.exp(-beta*0.5*(si-sj-1)*(si-sj-1))\n",
    "\n",
    "def getC(beta,num_nodes,scores):\n",
    "    c = 20*num_nodes\n",
    "    total = 0;\n",
    "    for i in range(0,num_nodes):\n",
    "        for j in range(0,num_nodes):\n",
    "            total+=np.exp(-beta*0.5*(scores[i]-scores[j]-1)*(scores[i]-scores[j]-1))\n",
    "    return c*1.0/(total)\n",
    "\n",
    "def createNetwork(scores,beta,c,num_nodes):\n",
    "    A = np.zeros((num_nodes,num_nodes),dtype=np.int)\n",
    "    for i in range(0,num_nodes):\n",
    "        for j in range(0,num_nodes):\n",
    "            if(i!=j):\n",
    "                mean = expectedEqn(beta,c,scores[i],scores[j])\n",
    "                weight = np.random.poisson(mean)\n",
    "                A[i,j] = weight\n",
    "    return A\n",
    "\n",
    "def generateNetwork(beta):\n",
    "    number_of_nodes=100\n",
    "    mu, sigma = 0.5,1 # mean and standard deviation\n",
    "    #np.random.seed(int(time.time()))\n",
    "    scores = np.random.normal(mu, sigma, number_of_nodes+1)\n",
    "    c=getC(beta,number_of_nodes,scores)\n",
    "    A = createNetwork(scores,beta,c,number_of_nodes)\n",
    "    A = np.matrix(A,copy=False)\n",
    "    return A,scores\n",
    "\n",
    "def getEdgeList(A):\n",
    "    edge_list = []\n",
    "    shape,_=A.shape\n",
    "    for i in range(0,shape):\n",
    "        for j in range(0,shape):\n",
    "            edge_list.append((i,j))\n",
    "    return edge_list\n",
    "        \n",
    "    \n",
    "# remove interaction, regardless of weight\n",
    "def getTrainingandTestSet(A_orig):\n",
    "    A_train = A_orig.copy()\n",
    "    A_test  = np.zeros((A_orig.shape),dtype=np.int)\n",
    "    edge_list = getEdgeList(A_orig)\n",
    "    np.random.shuffle(edge_list)\n",
    "    choice_idx = np.random.choice(len(edge_list), int(len(edge_list)*0.2), replace=False)\n",
    "    for i in choice_idx:\n",
    "        (k,l) = edge_list[i]\n",
    "        A_test[(k,l)] = A_orig[(k,l)]\n",
    "        A_train[(k,l)] = 0\n",
    "    A_train = np.matrix(A_train,copy=False)\n",
    "    A_test = np.matrix(A_test,copy=False)    \n",
    "    return A_train,A_test\n",
    "\n",
    "def trainBetaAndRanks(A,alpha,l0,l1):\n",
    "    ranks,tuples = run(A,alpha,l0,l1)\n",
    "    temp=tl.get_optimal_temperature(ranks,A)\n",
    "    beta = 1/temp\n",
    "    print(\"Optimal Beta: \"+str(beta))\n",
    "    return beta,ranks\n",
    "\n",
    "def getPredictionsAndAccuracy(beta,A,ranks):\n",
    "    preds = prediction(beta,A,ranks)\n",
    "    acc = getAccuracy(preds,A,A.sum())\n",
    "    print(\"Accuracy : \"+str(acc))\n",
    "    return preds,acc\n",
    "\n",
    "\n",
    "    "
   ]
  },
  {
   "cell_type": "code",
   "execution_count": 13,
   "metadata": {
    "collapsed": false
   },
   "outputs": [],
   "source": [
    "Adj_All = [Adj_2000,Adj_2001,Adj_2002,Adj_2003,Adj_2004,Adj_2005,Adj_2006,Adj_2007,Adj_2008,Adj_2009,Adj_2010,Adj_2011]\n",
    "Adj_years = ['2000','2001','2002','2003','2004','2005','2006','2007','2008','2009','2010','2011']"
   ]
  },
  {
   "cell_type": "code",
   "execution_count": null,
   "metadata": {
    "collapsed": true
   },
   "outputs": [],
   "source": []
  },
  {
   "cell_type": "code",
   "execution_count": 207,
   "metadata": {
    "collapsed": true
   },
   "outputs": [],
   "source": [
    "def trainForward(Adj_All,Adj_years):\n",
    "    accu_map = {}\n",
    "    accu_list = []\n",
    "    for i in range(0,len(Adj_All)-1):\n",
    "        print(Adj_years[i]+\" \"+Adj_years[i+1])\n",
    "        A1 = Adj_All[i]\n",
    "        A2 = Adj_All[i+1]\n",
    "        A1_beta,A1_ranks,A1_preds,A1_acc = trainingExperiment(A1,0,0,1)\n",
    "        A12_preds,A12_acc = getPredictionsAndAccuracy(A1_beta,A2,A1_ranks)\n",
    "        accu_map[Adj_years[i]] = (A1_acc,A12_acc)\n",
    "        accu_list.append(A12_acc)\n",
    "    return accu_map,accu_list\n",
    "\n",
    "        \n",
    "        "
   ]
  },
  {
   "cell_type": "code",
   "execution_count": null,
   "metadata": {
    "collapsed": true
   },
   "outputs": [],
   "source": [
    "def trainOneToMany(indexToTrain,Adj_All,Adj_years):\n",
    "    accu_map = {}\n",
    "    accu_list = []\n",
    "    for i in range(0,len(Adj_All)-1):\n",
    "        print(Adj_years[i]+\" \"+Adj_years[i+1])\n",
    "        A1 = Adj_All[i]\n",
    "        A2 = Adj_All[i+1]\n",
    "        A1_beta,A1_ranks,A1_preds,A1_acc = trainingExperiment(A1,0,0,1)\n",
    "        A12_preds,A12_acc = getPredictionsAndAccuracy(A1_beta,A2,A1_ranks)\n",
    "        accu_map[Adj_years[i]] = (A1_acc,A12_acc)\n",
    "        accu_list.append(A12_acc)\n",
    "    return accu_map,accu_list\n",
    "\n",
    "        \n",
    "        "
   ]
  },
  {
   "cell_type": "code",
   "execution_count": 208,
   "metadata": {
    "collapsed": false
   },
   "outputs": [
    {
     "name": "stdout",
     "output_type": "stream",
     "text": [
      "2000 2001\n",
      "Optimal Beta: 1.1260979122490353\n",
      "Accuracy : 0.774850546988\n",
      "Accuracy : 0.744592012006\n",
      "2001 2002\n",
      "Optimal Beta: 1.1762913609744081\n",
      "Accuracy : 0.771437047888\n",
      "Accuracy : 0.731678262885\n",
      "2002 2003\n",
      "Optimal Beta: 1.128530104071782\n",
      "Accuracy : 0.768853152412\n",
      "Accuracy : 0.746891801255\n",
      "2003 2004\n",
      "Optimal Beta: 1.0623365168732528\n",
      "Accuracy : 0.782065048215\n",
      "Accuracy : nan\n",
      "2004 2005\n",
      "Optimal Beta: 100.0\n"
     ]
    },
    {
     "name": "stderr",
     "output_type": "stream",
     "text": [
      "/Library/Frameworks/Python.framework/Versions/3.5/lib/python3.5/site-packages/ipykernel/__main__.py:35: RuntimeWarning: invalid value encountered in long_scalars\n"
     ]
    },
    {
     "name": "stdout",
     "output_type": "stream",
     "text": [
      "Accuracy : nan\n",
      "Accuracy : 0.760162601626\n",
      "2005 2006\n",
      "Optimal Beta: 1.0485941123868026\n",
      "Accuracy : 0.795448644283\n",
      "Accuracy : 0.767638689513\n",
      "2006 2007\n",
      "Optimal Beta: 1.0321139618432638\n",
      "Accuracy : 0.804175679747\n",
      "Accuracy : 0.77603037857\n",
      "2007 2008\n",
      "Optimal Beta: 1.151481211308581\n",
      "Accuracy : 0.798568390179\n",
      "Accuracy : 0.755143288\n",
      "2008 2009\n",
      "Optimal Beta: 1.1601591219543912\n",
      "Accuracy : 0.768419019834\n",
      "Accuracy : 0.752266832084\n",
      "2009 2010\n",
      "Optimal Beta: 1.092889308445037\n",
      "Accuracy : 0.777724296592\n",
      "Accuracy : 0.753502069544\n",
      "2010 2011\n",
      "Optimal Beta: 1.101169337972811\n",
      "Accuracy : 0.771614325459\n",
      "Accuracy : 0.76102445785\n"
     ]
    }
   ],
   "source": [
    "accu_map,accu_list = trainForward(Adj_All,Adj_years)"
   ]
  },
  {
   "cell_type": "code",
   "execution_count": 177,
   "metadata": {
    "collapsed": false
   },
   "outputs": [
    {
     "data": {
      "text/plain": [
       "{'2000': (0.77485054698781686, 0.74459201200562086),\n",
       " '2001': (0.77143704788758283, 0.73167826288540083),\n",
       " '2002': (0.76885315241163277, 0.7468918012552197),\n",
       " '2003': (0.78206504821478373, nan),\n",
       " '2004': (nan, 0.76016260162601623),\n",
       " '2005': (0.79544864428260253, 0.76763868951261227),\n",
       " '2006': (0.80417567974705384, 0.77603037857041002),\n",
       " '2007': (0.79856839017886849, 0.75514328800020469),\n",
       " '2008': (0.76841901983406324, 0.75226683208387746),\n",
       " '2009': (0.77772429659168751, 0.75350206954432808),\n",
       " '2010': (0.77161432545884812, 0.76102445784976713)}"
      ]
     },
     "execution_count": 177,
     "metadata": {},
     "output_type": "execute_result"
    }
   ],
   "source": [
    "(accu_map)"
   ]
  },
  {
   "cell_type": "code",
   "execution_count": 178,
   "metadata": {
    "collapsed": false
   },
   "outputs": [
    {
     "data": {
      "text/plain": [
       "[0.74459201200562086,\n",
       " 0.73167826288540083,\n",
       " 0.7468918012552197,\n",
       " nan,\n",
       " 0.76016260162601623,\n",
       " 0.76763868951261227,\n",
       " 0.77603037857041002,\n",
       " 0.75514328800020469,\n",
       " 0.75226683208387746,\n",
       " 0.75350206954432808,\n",
       " 0.76102445784976713]"
      ]
     },
     "execution_count": 178,
     "metadata": {},
     "output_type": "execute_result"
    }
   ],
   "source": [
    "accu_list"
   ]
  },
  {
   "cell_type": "code",
   "execution_count": 199,
   "metadata": {
    "collapsed": true
   },
   "outputs": [],
   "source": [
    "? plt.subplot"
   ]
  },
  {
   "cell_type": "code",
   "execution_count": 209,
   "metadata": {
    "collapsed": false
   },
   "outputs": [],
   "source": [
    "def plotYOYAccuracy(Adj_years,accu_map):\n",
    "    training_acc = []\n",
    "    predic_acc = []\n",
    "    x_axis = []\n",
    "    for i in range(0,len(Adj_years)-1):\n",
    "        (t,p) = accu_map[Adj_years[i]]\n",
    "        training_acc.append(t)\n",
    "        predic_acc.append(p)\n",
    "        x_axis.append(Adj_years[i])\n",
    "    \n",
    "    plt.xlabel('Years')\n",
    "    plt.ylabel('Accuracy')\n",
    "    plt.ylim([0,1])\n",
    "    \n",
    "\n",
    "    plt.plot(x_axis,training_acc,'b--',label='training accuracy')\n",
    "    plt.plot(x_axis,predic_acc,'r--',label='prediction accuracy')\n",
    "    plt.legend(loc='best')\n",
    "    plt.show()"
   ]
  },
  {
   "cell_type": "code",
   "execution_count": 201,
   "metadata": {
    "collapsed": false
   },
   "outputs": [
    {
     "data": {
      "text/plain": [
       "['2000',\n",
       " '2001',\n",
       " '2002',\n",
       " '2003',\n",
       " '2004',\n",
       " '2005',\n",
       " '2006',\n",
       " '2007',\n",
       " '2008',\n",
       " '2009',\n",
       " '2010',\n",
       " '2011']"
      ]
     },
     "execution_count": 201,
     "metadata": {},
     "output_type": "execute_result"
    }
   ],
   "source": [
    "Adj_years"
   ]
  },
  {
   "cell_type": "code",
   "execution_count": 210,
   "metadata": {
    "collapsed": false
   },
   "outputs": [
    {
     "data": {
      "image/png": "[encoded data removed]",
      "text/plain": [
       "<matplotlib.figure.Figure at 0x112c78be0>"
      ]
     },
     "metadata": {},
     "output_type": "display_data"
    }
   ],
   "source": [
    "plotYOYAccuracy(Adj_years,accu_map)"
   ]
  },
  {
   "cell_type": "markdown",
   "metadata": {},
   "source": [
    "# Create networks 1,2,3 ; Create training and test sets"
   ]
  },
  {
   "cell_type": "code",
   "execution_count": 203,
   "metadata": {
    "collapsed": true
   },
   "outputs": [],
   "source": [
    "def experimentBeta(beta):\n",
    "    A1,scores1 = generateNetwork(beta=beta) # Adjacency Network A\n",
    "    A2,scores2 = generateNetwork(beta=beta) # Adjacency Network B\n",
    "    A3,scores3 = generateNetwork(beta=beta) # Adjacency Network C\n",
    "    A1_train,A1_test = getTrainingandTestSet(A1)\n",
    "    A3_train,A3_test = getTrainingandTestSet(A3)\n",
    "    A13 = np.add(A1,A3)\n",
    "    A13_train,A13_test = getTrainingandTestSet(A13)\n",
    "    graphProp(A1,\"Network A\")\n",
    "    graphProp(A1_train,\"NetworkA Training\")\n",
    "    graphProp(A1_test,\"NetworkA Test\")\n",
    "    graphProp(A2,\"Network B\")\n",
    "    graphProp(A3,\"NetworkC\")\n",
    "    graphProp(A13,\"Network A+C\")\n",
    "    \n",
    "    # =================== Experiment 1  (A --> B) ===================\n",
    "    A1_beta_train,A1_ranks_train,A1_preds_train,A1_acc_train = trainingExperiment(A1_train,0,0,1)\n",
    "    A1_preds_test,A1_acc_test = getPredictionsAndAccuracy(A1_beta_train,A1_test,A1_ranks_train)\n",
    "    A12_preds,A12_acc = getPredictionsAndAccuracy(A1_beta_train,A2,A1_ranks_train)\n",
    "    \n",
    "    # =================== Experiment 2 (C --> B) ===================\n",
    "    A3_beta_train,A3_ranks_train,A3_preds_train,A3_acc_train = trainingExperiment(A3_train,0,0,1)\n",
    "    A3_preds_test,A3_acc_test = getPredictionsAndAccuracy(A3_beta_train,A3_test,A3_ranks_train)\n",
    "    A32_preds,A32_acc = getPredictionsAndAccuracy(A3_beta_train,A2,A3_ranks_train)\n",
    "\n",
    "    # =================== Experiment 3 (A+C --> B) ===================\n",
    "    A13_beta_train,A13_ranks_train,A13_preds_train,A13_acc_train = trainingExperiment(A13_train,0,0,1)\n",
    "    A13_preds_test,A13_acc_test = getPredictionsAndAccuracy(A13_beta_train,A13_test,A13_ranks_train)\n",
    "    A132_preds,A132_acc = getPredictionsAndAccuracy(A13_beta_train,A2,A13_ranks_train)\n",
    "\n",
    "    experiment_names = [\"Experiment 1 (A-->B)\",\"Experiment 2 (C-->B)\",\"Experiment 3 (A+C-->B)\"]\n",
    "    experiments = [[A1_acc_train,A1_acc_test,A12_acc],[A3_acc_train,A3_acc_test,A32_acc],[A13_acc_train,A13_acc_test,A132_acc]]\n",
    "    data = np.array([\n",
    "        ['','Training data (80%)','Test data (20%)','Network B (100%)'],\n",
    "        [experiment_names[0],A1_acc_train,A1_acc_test,A12_acc],\n",
    "        [experiment_names[1],A3_acc_train,A3_acc_test,A32_acc],\n",
    "        [experiment_names[2],A13_acc_train,A13_acc_test,A132_acc]])\n",
    "    dataframe  = pd.DataFrame(data=data[1:,1:],\n",
    "                         index=data[1:,0],\n",
    "                         columns=data[0,1:])\n",
    "    return dataframe\n"
   ]
  },
  {
   "cell_type": "code",
   "execution_count": 204,
   "metadata": {
    "collapsed": false
   },
   "outputs": [
    {
     "ename": "NameError",
     "evalue": "name 'df' is not defined",
     "output_type": "error",
     "traceback": [
      "\u001b[0;31m---------------------------------------------------------------------------\u001b[0m",
      "\u001b[0;31mNameError\u001b[0m                                 Traceback (most recent call last)",
      "\u001b[0;32m<ipython-input-204-f79c71be8d27>\u001b[0m in \u001b[0;36m<module>\u001b[0;34m()\u001b[0m\n\u001b[0;32m----> 1\u001b[0;31m \u001b[0mpd\u001b[0m\u001b[0;34m.\u001b[0m\u001b[0mconcat\u001b[0m\u001b[0;34m(\u001b[0m\u001b[0mdf\u001b[0m\u001b[0;34m)\u001b[0m\u001b[0;34m\u001b[0m\u001b[0m\n\u001b[0m",
      "\u001b[0;31mNameError\u001b[0m: name 'df' is not defined"
     ]
    }
   ],
   "source": [
    "pd.concat(df)"
   ]
  },
  {
   "cell_type": "code",
   "execution_count": null,
   "metadata": {
    "collapsed": false,
    "scrolled": true
   },
   "outputs": [],
   "source": []
  },
  {
   "cell_type": "code",
   "execution_count": 38,
   "metadata": {
    "collapsed": true
   },
   "outputs": [],
   "source": [
    "def trainingExperiment(A,alpha,l0,l1):\n",
    "    beta,ranks = trainBetaAndRanks(A,alpha,l0,l1)\n",
    "    preds,acc =  getPredictionsAndAccuracy(beta,A,ranks)\n",
    "    return beta,ranks,preds,acc\n"
   ]
  },
  {
   "cell_type": "markdown",
   "metadata": {},
   "source": [
    "# =================== Experiment 2000 --> 2001  ===================\n"
   ]
  },
  {
   "cell_type": "markdown",
   "metadata": {},
   "source": [
    "## Learn Adj_2000"
   ]
  },
  {
   "cell_type": "code",
   "execution_count": 39,
   "metadata": {
    "collapsed": false
   },
   "outputs": [
    {
     "name": "stdout",
     "output_type": "stream",
     "text": [
      "Optimal Beta: 1.1260979122490353\n",
      "Accuracy : 0.676575439511\n"
     ]
    }
   ],
   "source": [
    "Adj_2000_beta_train,Adj_2000_ranks_train,Adj_2000_preds_train,Adj_2000_acc_train = trainingExperiment(Adj_2000,0,0,1)"
   ]
  },
  {
   "cell_type": "markdown",
   "metadata": {},
   "source": [
    "## Predict Adj_2001 using Adj_2000"
   ]
  },
  {
   "cell_type": "code",
   "execution_count": 43,
   "metadata": {
    "collapsed": false
   },
   "outputs": [
    {
     "name": "stdout",
     "output_type": "stream",
     "text": [
      "Accuracy : 0.629341403263\n"
     ]
    }
   ],
   "source": [
    "Adj_0001_preds,Adj_0001_acc = getPredictionsAndAccuracy(Adj_2000_beta_train,Adj_2001,Adj_2000_ranks_train)\n"
   ]
  },
  {
   "cell_type": "markdown",
   "metadata": {},
   "source": [
    "# =================== Experiment 2 (C --> B) ==================="
   ]
  },
  {
   "cell_type": "markdown",
   "metadata": {},
   "source": [
    "## Learn Adj_2002"
   ]
  },
  {
   "cell_type": "code",
   "execution_count": 42,
   "metadata": {
    "collapsed": false,
    "scrolled": true
   },
   "outputs": [
    {
     "name": "stdout",
     "output_type": "stream",
     "text": [
      "Optimal Beta: 1.128530104071782\n",
      "Accuracy : 0.674028850997\n"
     ]
    }
   ],
   "source": [
    "Adj_2002_beta_train,Adj_2002_ranks_train,Adj_2002_preds_train,Adj_2002_acc_train = trainingExperiment(Adj_2002,0,0,1)"
   ]
  },
  {
   "cell_type": "markdown",
   "metadata": {},
   "source": [
    "## Predict Adj_2001 using Adj_2002"
   ]
  },
  {
   "cell_type": "code",
   "execution_count": 44,
   "metadata": {
    "collapsed": false
   },
   "outputs": [
    {
     "name": "stdout",
     "output_type": "stream",
     "text": [
      "Accuracy : 0.61627773899\n"
     ]
    }
   ],
   "source": [
    "Adj_0201_preds,Adj_0201_acc = getPredictionsAndAccuracy(Adj_2002_beta_train,Adj_2001,Adj_2002_ranks_train)\n"
   ]
  },
  {
   "cell_type": "markdown",
   "metadata": {},
   "source": [
    "# =================== Experiment 3 (A+C --> B) ==================="
   ]
  },
  {
   "cell_type": "markdown",
   "metadata": {},
   "source": [
    "## Learn A_C_80%"
   ]
  },
  {
   "cell_type": "code",
   "execution_count": 223,
   "metadata": {
    "collapsed": false,
    "scrolled": true
   },
   "outputs": [
    {
     "name": "stdout",
     "output_type": "stream",
     "text": [
      "Optimal Beta: 0.9526270452662132\n",
      "Accuracy : 0.62393456557\n"
     ]
    }
   ],
   "source": [
    "A13_beta_train,A13_ranks_train,A13_preds_train,A13_acc_train = trainingExperiment(A13_train,0,0,1)"
   ]
  },
  {
   "cell_type": "markdown",
   "metadata": {},
   "source": [
    "## Predict A_C_20% using A_C_80% parameters\n"
   ]
  },
  {
   "cell_type": "code",
   "execution_count": 224,
   "metadata": {
    "collapsed": false
   },
   "outputs": [
    {
     "name": "stdout",
     "output_type": "stream",
     "text": [
      "\n",
      " no. of nodes= 100, no. of edges= 3984\n"
     ]
    }
   ],
   "source": [
    "graphProp(A13,\"\")"
   ]
  },
  {
   "cell_type": "code",
   "execution_count": 225,
   "metadata": {
    "collapsed": false
   },
   "outputs": [
    {
     "name": "stdout",
     "output_type": "stream",
     "text": [
      "Accuracy : 0.55586105379\n"
     ]
    }
   ],
   "source": [
    "A13_preds_test,A13_acc_test = getPredictionsAndAccuracy(A13_beta_train,A13_test,A13_ranks_train)\n"
   ]
  },
  {
   "cell_type": "markdown",
   "metadata": {},
   "source": [
    "## Predict B_100% using A_C_80%"
   ]
  },
  {
   "cell_type": "code",
   "execution_count": 226,
   "metadata": {
    "collapsed": false
   },
   "outputs": [
    {
     "name": "stdout",
     "output_type": "stream",
     "text": [
      "Accuracy : 0.536280737703\n"
     ]
    }
   ],
   "source": [
    "A132_preds,A132_acc = getPredictionsAndAccuracy(A13_beta_train,A2,A13_ranks_train)\n"
   ]
  },
  {
   "cell_type": "code",
   "execution_count": 227,
   "metadata": {
    "collapsed": false
   },
   "outputs": [],
   "source": [
    "experiment_names = [\"Experiment 1 (A-->B)\",\"Experiment 2 (C-->B)\",\"Experiment 3 (A+C-->B)\"]\n",
    "experiments = [[A1_acc_train,A1_acc_test,A12_acc],[A3_acc_train,A3_acc_test,A32_acc],[A13_acc_train,A13_acc_test,A132_acc]]"
   ]
  },
  {
   "cell_type": "code",
   "execution_count": 228,
   "metadata": {
    "collapsed": false
   },
   "outputs": [
    {
     "name": "stdout",
     "output_type": "stream",
     "text": [
      "                       Training data (80%) Test data (20%) Network B (100%)\n",
      "Experiment 1 (A-->B)        0.645085594569  0.627621256663   0.538836368368\n",
      "Experiment 2 (C-->B)        0.646895028609  0.623727437717   0.500678374398\n",
      "Experiment 3 (A+C-->B)       0.62393456557   0.55586105379   0.536280737703\n"
     ]
    }
   ],
   "source": [
    "data = np.array([\n",
    "        ['','Training data (80%)','Test data (20%)','Network B (100%)'],\n",
    "        [experiment_names[0],A1_acc_train,A1_acc_test,A12_acc],\n",
    "        [experiment_names[1],A3_acc_train,A3_acc_test,A32_acc],\n",
    "        [experiment_names[2],A13_acc_train,A13_acc_test,A132_acc]])\n",
    "dataframe  = pd.DataFrame(data=data[1:,1:],\n",
    "                         index=data[1:,0],\n",
    "                         columns=data[0,1:])\n",
    "print(dataframe)"
   ]
  },
  {
   "cell_type": "code",
   "execution_count": null,
   "metadata": {
    "collapsed": true
   },
   "outputs": [],
   "source": []
  },
  {
   "cell_type": "markdown",
   "metadata": {},
   "source": [
    "# Train 100%"
   ]
  },
  {
   "cell_type": "markdown",
   "metadata": {},
   "source": [
    "# Trying a small graph. Things we discussed during the meeting"
   ]
  },
  {
   "cell_type": "code",
   "execution_count": 195,
   "metadata": {
    "collapsed": false
   },
   "outputs": [
    {
     "data": {
      "text/plain": [
       "0"
      ]
     },
     "execution_count": 195,
     "metadata": {},
     "output_type": "execute_result"
    }
   ],
   "source": [
    "#create  a toy graph\n",
    "G_small = nx.MultiDiGraph()\n",
    "G_small.add_edge(0,1)\n",
    "G_small.add_edge(0,1)\n",
    "G_small.add_edge(1,0)"
   ]
  },
  {
   "cell_type": "code",
   "execution_count": 196,
   "metadata": {
    "collapsed": false
   },
   "outputs": [
    {
     "data": {
      "text/plain": [
       "OutMultiEdgeView([(0, 1, 0), (0, 1, 1), (1, 0, 0)])"
      ]
     },
     "execution_count": 196,
     "metadata": {},
     "output_type": "execute_result"
    }
   ],
   "source": [
    "G_small.edges"
   ]
  },
  {
   "cell_type": "code",
   "execution_count": 197,
   "metadata": {
    "collapsed": false
   },
   "outputs": [
    {
     "name": "stdout",
     "output_type": "stream",
     "text": [
      "Optimal Beta: 1.9235933878519509\n",
      "Accuracy : 0.476211459833\n"
     ]
    }
   ],
   "source": [
    "# learn ranks and get optimal temperature \n",
    "A1_small = nx.to_numpy_matrix(G_small,nodelist=list(G_small.nodes))\n",
    "A1_beta_small,A1_ranks_small = trainBetaAndRanks(A1_small,0,0,1)\n",
    "A1_preds_small,A1_acc_small = getPredictionsAndAccuracy(A1_beta_small,A1_small,A1_ranks_small)"
   ]
  },
  {
   "cell_type": "code",
   "execution_count": 199,
   "metadata": {
    "collapsed": false
   },
   "outputs": [
    {
     "data": {
      "text/plain": [
       "6.0"
      ]
     },
     "execution_count": 199,
     "metadata": {},
     "output_type": "execute_result"
    }
   ],
   "source": [
    "(A1_small+A1_small).sum()"
   ]
  },
  {
   "cell_type": "code",
   "execution_count": 552,
   "metadata": {
    "collapsed": false
   },
   "outputs": [
    {
     "data": {
      "text/plain": [
       "{(0, 0): 0,\n",
       " (0, 1): 0.92856093675019202,\n",
       " (1, 0): 0.071439063249808032,\n",
       " (1, 1): 0}"
      ]
     },
     "execution_count": 552,
     "metadata": {},
     "output_type": "execute_result"
    }
   ],
   "source": [
    "A1_preds_small"
   ]
  },
  {
   "cell_type": "code",
   "execution_count": 553,
   "metadata": {
    "collapsed": true
   },
   "outputs": [],
   "source": [
    "beta_a = np.log(2)*3/4"
   ]
  },
  {
   "cell_type": "code",
   "execution_count": 554,
   "metadata": {
    "collapsed": false
   },
   "outputs": [
    {
     "data": {
      "text/plain": [
       "0.66666666666666663"
      ]
     },
     "execution_count": 554,
     "metadata": {},
     "output_type": "execute_result"
    }
   ],
   "source": [
    "1/(1+np.exp(-4/3*beta_a))"
   ]
  },
  {
   "cell_type": "code",
   "execution_count": 555,
   "metadata": {
    "collapsed": false
   },
   "outputs": [
    {
     "data": {
      "text/plain": [
       "array([ 0.66666667,  0.        ])"
      ]
     },
     "execution_count": 555,
     "metadata": {},
     "output_type": "execute_result"
    }
   ],
   "source": [
    "rank1_small"
   ]
  },
  {
   "cell_type": "code",
   "execution_count": 265,
   "metadata": {
    "collapsed": false
   },
   "outputs": [
    {
     "data": {
      "text/plain": [
       "OutMultiEdgeView([(0, 1, 0), (0, 1, 1), (1, 0, 0)])"
      ]
     },
     "execution_count": 265,
     "metadata": {},
     "output_type": "execute_result"
    }
   ],
   "source": [
    "G_small.edges"
   ]
  },
  {
   "cell_type": "code",
   "execution_count": 266,
   "metadata": {
    "collapsed": false
   },
   "outputs": [
    {
     "data": {
      "text/plain": [
       "0.51986038541995894"
      ]
     },
     "execution_count": 266,
     "metadata": {},
     "output_type": "execute_result"
    }
   ],
   "source": [
    "beta_a"
   ]
  },
  {
   "cell_type": "markdown",
   "metadata": {},
   "source": [
    "#  Chess matches. TODO beyond this point\n"
   ]
  },
  {
   "cell_type": "code",
   "execution_count": 79,
   "metadata": {
    "collapsed": false
   },
   "outputs": [],
   "source": [
    "G_chess = getMultiDiGraphFromFile(input_data_dir+\"formatted_chess_edgelist.data\")\n",
    "\n"
   ]
  },
  {
   "cell_type": "code",
   "execution_count": 27,
   "metadata": {
    "collapsed": false
   },
   "outputs": [],
   "source": [
    "G_chess_train,G_chess_test = getTrainingandTestSet(G_chess)\n",
    "A_chess_test = nx.to_numpy_matrix(G_chess_test,nodelist=list(G_chess_test.nodes),weight='weight')"
   ]
  },
  {
   "cell_type": "code",
   "execution_count": 785,
   "metadata": {
    "collapsed": false
   },
   "outputs": [
    {
     "name": "stdout",
     "output_type": "stream",
     "text": [
      "no. of nodes= 6832, no. of edges= 36387\n",
      "no. of nodes= 6832, no. of edges= 29110\n"
     ]
    }
   ],
   "source": [
    "graphProp(G_chess)\n",
    "graphProp(G_chess_train)"
   ]
  },
  {
   "cell_type": "code",
   "execution_count": 786,
   "metadata": {
    "collapsed": false
   },
   "outputs": [
    {
     "name": "stdout",
     "output_type": "stream",
     "text": [
      "0.6180489072195094\n"
     ]
    }
   ],
   "source": [
    "alpha,l0,l1=0,0,1\n",
    "rank_chess_train,tuples_chess = run(G_chess_train,alpha,l0,l1)\n",
    "\n",
    "A_chess_train = nx.to_numpy_matrix(G_chess_train,nodelist=list(G_chess_train.nodes),weight='weight')\n",
    "\n",
    "#get opt beta\n",
    "#temp_chess_train=tl.get_optimal_temperature(rank_chess_train,A_chess_train)\n",
    "#beta_chess_train = 1/temp_chess_train\n",
    "print((beta_chess_train))\n"
   ]
  },
  {
   "cell_type": "code",
   "execution_count": 80,
   "metadata": {
    "collapsed": false
   },
   "outputs": [],
   "source": [
    "A_chess = nx.to_numpy_matrix(G_chess)\n"
   ]
  },
  {
   "cell_type": "code",
   "execution_count": 81,
   "metadata": {
    "collapsed": false
   },
   "outputs": [
    {
     "data": {
      "text/plain": [
       "5"
      ]
     },
     "execution_count": 81,
     "metadata": {},
     "output_type": "execute_result"
    }
   ],
   "source": [
    "G_chess.number_of_edges(3106,2307)"
   ]
  },
  {
   "cell_type": "code",
   "execution_count": null,
   "metadata": {
    "collapsed": true
   },
   "outputs": [],
   "source": [
    "A_chess"
   ]
  },
  {
   "cell_type": "code",
   "execution_count": null,
   "metadata": {
    "collapsed": true
   },
   "outputs": [],
   "source": [
    "1."
   ]
  },
  {
   "cell_type": "code",
   "execution_count": null,
   "metadata": {
    "collapsed": true
   },
   "outputs": [],
   "source": []
  },
  {
   "cell_type": "code",
   "execution_count": null,
   "metadata": {
    "collapsed": true
   },
   "outputs": [],
   "source": []
  },
  {
   "cell_type": "code",
   "execution_count": null,
   "metadata": {
    "collapsed": true
   },
   "outputs": [],
   "source": []
  }
 ],
 "metadata": {
  "kernelspec": {
   "display_name": "Python 3",
   "language": "python",
   "name": "python3"
  },
  "language_info": {
   "codemirror_mode": {
    "name": "ipython",
    "version": 3
   },
   "file_extension": ".py",
   "mimetype": "text/x-python",
   "name": "python",
   "nbconvert_exporter": "python",
   "pygments_lexer": "ipython3",
   "version": "3.5.2"
  }
 },
 "nbformat": 4,
 "nbformat_minor": 0
}
