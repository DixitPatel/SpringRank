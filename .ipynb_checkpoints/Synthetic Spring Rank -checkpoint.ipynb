{
 "cells": [
  {
   "cell_type": "code",
   "execution_count": 28,
   "metadata": {
    "collapsed": false
   },
   "outputs": [],
   "source": [
    "import sys\n",
    "import os\n",
    "spr_path = \"/Users/Dixit/Documents/Studies/CU_Boulder/sem3/Independent_study/code/SpringRank/python\"\n",
    "sys.path.append(os.path.abspath(spr_path))\n",
    "import SpringRank_tools as SR\n",
    "import csv\n",
    "import matplotlib.pyplot as plt\n",
    "%matplotlib inline\n",
    "from sklearn import metrics\n"
   ]
  },
  {
   "cell_type": "code",
   "execution_count": 29,
   "metadata": {
    "collapsed": true
   },
   "outputs": [],
   "source": [
    "import networkx as nx\n",
    "import numpy as np\n",
    "import SpringRank_tools as sr\n",
    "import tools as tl"
   ]
  },
  {
   "cell_type": "code",
   "execution_count": 30,
   "metadata": {
    "collapsed": true
   },
   "outputs": [],
   "source": [
    "input_data_dir = '/Users/Dixit/Documents/Studies/CU_Boulder/sem3/Independent_study/github/SpringRank/data/input/'\n",
    "output_data_dir = '/Users/Dixit/Documents/Studies/CU_Boulder/sem3/Independent_study/github/SpringRank/data/output/'"
   ]
  },
  {
   "cell_type": "code",
   "execution_count": 31,
   "metadata": {
    "collapsed": true
   },
   "outputs": [],
   "source": [
    "def getGraph(indj):\n",
    "    G = tl.build_graph_from_adjacency(indj)\n",
    "    return G;\n",
    "\n",
    "def graphProp(G):\n",
    "    n=len(G.nodes)\n",
    "    e=len(G.edges)\n",
    "    print('no. of nodes= {0}, no. of edges= {1}'.format(n,e))"
   ]
  },
  {
   "cell_type": "code",
   "execution_count": 22,
   "metadata": {
    "collapsed": false
   },
   "outputs": [],
   "source": [
    "def formatChessFile(source,destination):\n",
    "    with open(source,'r') as chess, open(destination, 'w') as out:\n",
    "        chess = csv.reader(chess, delimiter=' ')\n",
    "        writer = csv.writer(out, delimiter=' ')\n",
    "        for row in chess:\n",
    "            if '%' not in row:\n",
    "                line=[]\n",
    "                result = row[2].split('\\t')\n",
    "                if(result[0] == '1'):\n",
    "                    line = [row[0],row[1],1]\n",
    "                elif(result[0] == '-1'):\n",
    "                    line = [row[1],row[0],1]\n",
    "                if line:\n",
    "                    writer.writerow(line)\n",
    "                    \n",
    "def getChessGraphData(to_format):\n",
    "    source = input_data_dir+'new_chess.data'\n",
    "    destination = input_data_dir+'new_chess.data'\n",
    "    if to_format: formatChessFile(source,destination)\n",
    "    return getGraph(destination)\n",
    "    \n"
   ]
  },
  {
   "cell_type": "code",
   "execution_count": 32,
   "metadata": {
    "collapsed": false
   },
   "outputs": [],
   "source": [
    "def run(G,alpha,l0,l1):\n",
    "    nodes=list(G.nodes())\t\t\t#  determines the order of the entries of matrix A\n",
    "    A=nx.to_numpy_matrix(G,nodelist=nodes)\n",
    "    '''\n",
    "    Extracts SpringRank\n",
    "    '''\n",
    "    rank=sr.SpringRank(A,alpha=alpha,l0=l0,l1=l1)\n",
    "    rank=tl.shift_rank(rank)   # (optional) shifts so that the min is in zero and the others are positive\n",
    "    '''\n",
    "    Order results so that the first node is the highest-ranked one\n",
    "    '''\n",
    "    sorted_tuples=[(nodes[i],rank[i]) for i in range(G.number_of_nodes())]\n",
    "    #ordered_x= sorted(rank, key=lambda tup: int(tup[0]),reverse=False)\n",
    "    return rank,sorted_tuples\n",
    "\n",
    "def save(sorted_tuples,alpha,l0,l1,G,file):\n",
    "    '''\n",
    "    Prints results\n",
    "    '''\n",
    "    print('SpringRank scores:')\n",
    "    outfile=output_data_dir+'/'+file+'_SpringRank_'+'a'+str(alpha)+'_l0_'+str(l0)+'_l1_'+str(l1)+'.dat'\n",
    "    outf=open(outfile,'w')\n",
    "\n",
    "    for i in range(G.number_of_nodes()):\n",
    "        outf.write(\"{} {}\\n\".format(sorted_tuples[i][0],sorted_tuples[i][1]))\n",
    "        # print nodes[i],rank[i]\n",
    "        #print(X[i][0],X[i][1])\n",
    "    print('Results saved in:', outfile)\n",
    "    outf.close()\n",
    "    \n"
   ]
  },
  {
   "cell_type": "code",
   "execution_count": 63,
   "metadata": {
    "collapsed": false
   },
   "outputs": [],
   "source": [
    "def getEqn39(rank,A,start,end,step):\n",
    "    x = np.arange(start,end,step)\n",
    "    y=[]\n",
    "    for xi in x:\n",
    "        y.append(tl.eqs39(xi,rank,A))\n",
    "    return x,y\n",
    "\n",
    "def eqn39SimplePlot(rank,A,save):\n",
    "    x,y = getEqn39(rank,A,0.1,20,0.1);\n",
    "    plt.plot(x,y)\n",
    "    plt.title('Eqn 39 :'+save)\n",
    "    if save:\n",
    "        plt.savefig(output_data_dir+save+'.svg')\n",
    "\n",
    "def prediction(beta,_scores):\n",
    "    preds = {}\n",
    "    for i in range(len(_scores)):\n",
    "        for j in range(len(_scores)):\n",
    "            preds[(i,j)] = 1/(1+np.exp(-2*beta*(_scores[i]-_scores[j])))\n",
    "    return preds\n",
    "\n",
    "def getAccuracy(preds,Adj,num_edges):\n",
    "    loss=0;\n",
    "    size,_ = Adj.shape\n",
    "    for i in range(size):\n",
    "        for j in range(size):\n",
    "            loss+=Adj[(i,j)]-((Adj[(i,j)]+Adj[(j,i)])*preds[(i,j)])\n",
    "    print(loss)\n",
    "    loss=1-(loss*1.0/(2.0*num_edges))\n",
    "    return loss"
   ]
  },
  {
   "cell_type": "code",
   "execution_count": null,
   "metadata": {
    "collapsed": true
   },
   "outputs": [],
   "source": [
    "c=10*"
   ]
  },
  {
   "cell_type": "code",
   "execution_count": null,
   "metadata": {
    "collapsed": true
   },
   "outputs": [],
   "source": [
    "def genNetwork(scores,beta,p_constant):\n",
    "    \n",
    "    for i in range(1,n+1):\n",
    "        for j in range(1,n+1):\n",
    "            if(i!=j):\n",
    "                "
   ]
  },
  {
   "cell_type": "code",
   "execution_count": 35,
   "metadata": {
    "collapsed": false
   },
   "outputs": [],
   "source": [
    "def getGroundTruth(preds,G):\n",
    "    y_true = []\n",
    "    y_target = []\n",
    "    for i in range(len(G.nodes)):\n",
    "        for j in range(len(G.nodes)):\n",
    "            if(G.has_edge(str(i),str(j)) or G.has_edge(i,j)):\n",
    "                y_true.append(1)\n",
    "            else: y_true.append(0)\n",
    "            y_target.append(preds[(i,j)])\n",
    "    return y_true,y_target\n",
    "                    \n",
    "def plotROC(fpr,tpr,roc_auc,title):\n",
    "    plt.figure()\n",
    "    lw = 2\n",
    "    plt.plot(fpr, tpr, color='darkorange',\n",
    "             lw=lw, label='ROC curve (area = %0.2f)' % roc_auc)\n",
    "    plt.plot([0, 1], [0, 1], color='navy', lw=lw, linestyle='--')\n",
    "    plt.xlim([0.0, 1.0])\n",
    "    plt.ylim([0.0, 1.05])\n",
    "    plt.xlabel('False Positive Rate')\n",
    "    plt.ylabel('True Positive Rate')\n",
    "    plt.title('Receiver operating characteristic : '+title)\n",
    "    plt.legend(loc=\"lower right\")\n",
    "    plt.show()"
   ]
  },
  {
   "cell_type": "code",
   "execution_count": null,
   "metadata": {
    "collapsed": true
   },
   "outputs": [],
   "source": [
    "# generative model \n",
    "def getC(beta,scores,n):\n",
    "    c=10*n\n",
    "    den = 0;\n",
    "    for i in range(len(scores)):\n",
    "        for j in range(len(scores)):\n",
    "            den+=np.exp(-beta*0.5*(scores[i]-scores[j]-1)*(scores[i]-scores[j]-1))\n",
    "    c = c/den\n",
    "    return c\n",
    "\n",
    "def eqn(si,sj,beta,c):\n",
    "    return c*np.exp(-beta*0.5*(si-sj-1)*(si-sj-1))\n",
    "\n",
    "def poisson(mean):\n",
    "    return np.random.poisson(lam=mean,size=1)\n",
    "\n",
    "def createNetwork(scores,beta,c):\n",
    "    G = nx.DiGraph()\n",
    "    for i in range(len(scores)):\n",
    "        for j in range(len(scores)):\n",
    "            if i!=j:\n",
    "                mean = eqn(scores[i],scores[j],beta,c)\n",
    "                w = poisson(mean)\n",
    "                #print(weight)\n",
    "                G.add_edge(i,j,weight=w)\n",
    "    return G\n",
    "\n",
    "def generateNetwork():\n",
    "    beta=1\n",
    "    number_of_nodes=100\n",
    "    mu, sigma = 0.5, 0.1 # mean and standard deviation\n",
    "    scores = np.random.normal(mu, sigma, number_of_nodes)\n",
    "    c=getC(beta,scores,number_of_nodes)\n",
    "\n",
    "    G = generateNetwork(scores,beta,c)\n",
    "    A = nx.to_numpy_matrix(G,nodelist=list(G.nodes))\n",
    "    return G,A,scores\n",
    "\n",
    "\n"
   ]
  },
  {
   "cell_type": "code",
   "execution_count": null,
   "metadata": {
    "collapsed": true
   },
   "outputs": [],
   "source": [
    "G_1,A_1,scores1 = generateNetwork()\n",
    "G_2,A_2,scores2 = generateNetwork()\n"
   ]
  },
  {
   "cell_type": "markdown",
   "metadata": {},
   "source": [
    "# US CS Faculty Data"
   ]
  },
  {
   "cell_type": "code",
   "execution_count": 45,
   "metadata": {
    "collapsed": false
   },
   "outputs": [],
   "source": [
    "G_US = getGraph(input_data_dir+'US_CS_adjacency.dat');\n",
    "alpha=0.\n",
    "l0=0.\n",
    "l1=1.    \n",
    "us_rank,us_tuples = run(G_US,alpha,l0,l1)\n",
    "#save(us_tuples,G_US,'US_CS')"
   ]
  },
  {
   "cell_type": "code",
   "execution_count": 46,
   "metadata": {
    "collapsed": false
   },
   "outputs": [],
   "source": [
    "A_US = nx.to_numpy_matrix(G_US,nodelist=list(G_US.nodes))\n",
    "#eqn39SimplePlot(us_rank,A_US,save='US_CS_Faculty_Eqn39')\n"
   ]
  },
  {
   "cell_type": "code",
   "execution_count": 48,
   "metadata": {
    "collapsed": false
   },
   "outputs": [
    {
     "data": {
      "text/plain": [
       "(205, 205)"
      ]
     },
     "execution_count": 48,
     "metadata": {},
     "output_type": "execute_result"
    }
   ],
   "source": []
  },
  {
   "cell_type": "code",
   "execution_count": 47,
   "metadata": {
    "collapsed": false
   },
   "outputs": [
    {
     "name": "stdout",
     "output_type": "stream",
     "text": [
      "Beta value for US CS Faculty data 1.9207990257462992\n"
     ]
    }
   ],
   "source": [
    "us_beta=tl.get_optimal_temperature(us_rank,A_US)\n",
    "print('Beta value for US CS Faculty data {0}'.format(us_beta))"
   ]
  },
  {
   "cell_type": "code",
   "execution_count": 64,
   "metadata": {
    "collapsed": false
   },
   "outputs": [
    {
     "name": "stdout",
     "output_type": "stream",
     "text": [
      "4.14113188185e-14\n"
     ]
    }
   ],
   "source": [
    "us_preds = prediction(us_beta,us_rank)\n",
    "sigma_us = getAccuracy(us_preds,A_US,G_US.number_of_edges())\n",
    "#us_y_true,us_y_target = getGroundTruth(us_preds,G_US)\n",
    "#us_fpr, us_tpr, us_thresholds = metrics.roc_curve(us_y_true, us_y_target)\n",
    "#us_roc_auc = metrics.auc(us_fpr,us_tpr)\n",
    "#plotROC(us_fpr,us_tpr,us_roc_auc,'US CS Faculty data')"
   ]
  },
  {
   "cell_type": "code",
   "execution_count": 65,
   "metadata": {
    "collapsed": false
   },
   "outputs": [
    {
     "data": {
      "text/plain": [
       "1.0"
      ]
     },
     "execution_count": 65,
     "metadata": {},
     "output_type": "execute_result"
    }
   ],
   "source": [
    "sigma_us"
   ]
  },
  {
   "cell_type": "markdown",
   "metadata": {
    "collapsed": false
   },
   "source": [
    "# Chess Data (takes too long)"
   ]
  },
  {
   "cell_type": "code",
   "execution_count": 21,
   "metadata": {
    "collapsed": false
   },
   "outputs": [
    {
     "name": "stdout",
     "output_type": "stream",
     "text": [
      "no. of nodes= 6832, no. of edges= 34562\n"
     ]
    }
   ],
   "source": [
    "G_chess = getChessGraphData(False)\n",
    "graphProp(G_chess)"
   ]
  },
  {
   "cell_type": "code",
   "execution_count": 89,
   "metadata": {
    "collapsed": false
   },
   "outputs": [
    {
     "name": "stdout",
     "output_type": "stream",
     "text": [
      "SpringRank scores:\n",
      "Results saved in: /Users/Dixit/Documents/Studies/CU_Boulder/sem3/Independent_study/github/SpringRank/data/output//Chess_matches_SpringRank_a0.0_l0_0.0_l1_1.0.dat\n"
     ]
    }
   ],
   "source": [
    "chess_rank,chess_tuples = run(G_chess,0,0,1)\n",
    "save(chess_tuples,G_chess,'Chess_matches')"
   ]
  },
  {
   "cell_type": "code",
   "execution_count": null,
   "metadata": {
    "collapsed": false
   },
   "outputs": [],
   "source": [
    "#A_chess = nx.to_numpy_matrix(G_chess,nodelist=list(G_chess.nodes))\n",
    "#eqn39SimplePlot(chess_rank,A_chess,save='Chess_matches_Eqn39')\n"
   ]
  },
  {
   "cell_type": "code",
   "execution_count": 90,
   "metadata": {
    "collapsed": false
   },
   "outputs": [
    {
     "name": "stdout",
     "output_type": "stream",
     "text": [
      "Beta value for Chess matches data 1.5529082038611126\n"
     ]
    }
   ],
   "source": [
    "chess_beta=tl.get_optimal_temperature(chess_rank,A_chess)\n",
    "print('Beta value for Chess matches data {0}'.format(chess_beta))"
   ]
  },
  {
   "cell_type": "code",
   "execution_count": 92,
   "metadata": {
    "collapsed": false
   },
   "outputs": [],
   "source": [
    "chess_preds = []"
   ]
  },
  {
   "cell_type": "code",
   "execution_count": null,
   "metadata": {
    "collapsed": true
   },
   "outputs": [],
   "source": [
    "chess_preds = prediction(chess_beta,chess_rank)\n",
    "chess_y_true,chess_y_target = getGroundTruth(chess_preds,G_chess)\n",
    "chess_fpr, chess_tpr, chess_thresholds = metrics.roc_curve(chess_y_true, chess_y_target)\n",
    "chess_roc_auc = metrics.auc(chess_fpr,chess_tpr)\n",
    "plotROC(chess_fpr,chess_tpr,chess_roc_auc,'Erdos Random graph 100 nodes')"
   ]
  },
  {
   "cell_type": "markdown",
   "metadata": {},
   "source": [
    "# New chess"
   ]
  },
  {
   "cell_type": "code",
   "execution_count": 23,
   "metadata": {
    "collapsed": false
   },
   "outputs": [
    {
     "name": "stdout",
     "output_type": "stream",
     "text": [
      "no. of nodes= 325, no. of edges= 399\n"
     ]
    }
   ],
   "source": [
    "G_chess = getChessGraphData(False)\n",
    "graphProp(G_chess)\n"
   ]
  },
  {
   "cell_type": "code",
   "execution_count": 24,
   "metadata": {
    "collapsed": true
   },
   "outputs": [],
   "source": [
    "chess_rank,chess_tuples = run(G_chess,0,0,1)\n",
    "#save(chess_tuples,G_chess,'Chess_matches')"
   ]
  },
  {
   "cell_type": "code",
   "execution_count": 26,
   "metadata": {
    "collapsed": false
   },
   "outputs": [
    {
     "name": "stdout",
     "output_type": "stream",
     "text": [
      "Beta value for New Chess matches data 3.2094933012840112\n"
     ]
    }
   ],
   "source": [
    "A_chess = nx.to_numpy_matrix(G_chess,nodelist=list(G_chess.nodes))\n",
    "\n",
    "chess_beta=tl.get_optimal_temperature(chess_rank,A_chess)\n",
    "print('Beta value for New Chess matches data {0}'.format(chess_beta))"
   ]
  },
  {
   "cell_type": "code",
   "execution_count": null,
   "metadata": {
    "collapsed": true
   },
   "outputs": [],
   "source": [
    "chess_preds = "
   ]
  },
  {
   "cell_type": "markdown",
   "metadata": {},
   "source": [
    "# Erdos Renyi Random graph"
   ]
  },
  {
   "cell_type": "code",
   "execution_count": 35,
   "metadata": {
    "collapsed": false
   },
   "outputs": [
    {
     "name": "stdout",
     "output_type": "stream",
     "text": [
      "no. of nodes= 100, no. of edges= 5955\n"
     ]
    }
   ],
   "source": [
    "G_erdos_low = nx.gnp_random_graph(100,0.6,1,directed=True)\n",
    "graphProp(G_erdos)"
   ]
  },
  {
   "cell_type": "code",
   "execution_count": 36,
   "metadata": {
    "collapsed": false
   },
   "outputs": [
    {
     "name": "stdout",
     "output_type": "stream",
     "text": [
      "SpringRank scores:\n",
      "Results saved in: /Users/Dixit/Documents/Studies/CU_Boulder/sem3/Independent_study/github/SpringRank/data/output//Erdos_low_SpringRank_a0.0_l0_0.0_l1_1.0.dat\n"
     ]
    }
   ],
   "source": [
    "erdos_low_rank,erdos_low_tuples = run(G_erdos_low,0,0,1)\n",
    "save(erdos_low_tuples,G_erdos_low,'Erdos_low')"
   ]
  },
  {
   "cell_type": "code",
   "execution_count": 37,
   "metadata": {
    "collapsed": false
   },
   "outputs": [
    {
     "data": {
      "image/png": "[encoded data removed]",
      "text/plain": [
       "<matplotlib.figure.Figure at 0x1082a9fd0>"
      ]
     },
     "metadata": {},
     "output_type": "display_data"
    }
   ],
   "source": [
    "A_erdos_low = nx.to_numpy_matrix(G_erdos_low,nodelist=list(G_erdos_low.nodes))\n",
    "eqn39SimplePlot(erdos_low_rank,A_erdos_low,save='Erdos_low_Eqn39')\n"
   ]
  },
  {
   "cell_type": "code",
   "execution_count": 82,
   "metadata": {
    "collapsed": false
   },
   "outputs": [
    {
     "name": "stdout",
     "output_type": "stream",
     "text": [
      "Beta value for Erdos renyi random graph data 0.6387379216729828\n"
     ]
    }
   ],
   "source": [
    "erdos_low_beta=tl.get_optimal_temperature(erdos_low_rank,A_erdos_low)\n",
    "print('Beta value for Erdos renyi random graph data {0}'.format(erdos_low_beta))"
   ]
  },
  {
   "cell_type": "code",
   "execution_count": 87,
   "metadata": {
    "collapsed": false
   },
   "outputs": [
    {
     "data": {
      "image/png": "[encoded data removed]",
      "text/plain": [
       "<matplotlib.figure.Figure at 0x124460fd0>"
      ]
     },
     "metadata": {},
     "output_type": "display_data"
    }
   ],
   "source": [
    "erdos_low_preds = prediction(erdos_low_beta,erdos_low_rank)\n",
    "erdos_low_y_true,erdos_low_y_target = getGroundTruth(erdos_low_preds,G_erdos_low)\n",
    "erdos_low_fpr, erdos_low_tpr, erdos_low_thresholds = metrics.roc_curve(erdos_low_y_true, erdos_low_y_target)\n",
    "erdos_low_roc_auc = metrics.auc(erdos_low_fpr,erdos_low_tpr)\n",
    "plotROC(erdos_low_fpr,erdos_low_tpr,erdos_low_roc_auc,'Erdos Random graph 100 nodes')"
   ]
  },
  {
   "cell_type": "markdown",
   "metadata": {},
   "source": [
    "# Planted partition "
   ]
  },
  {
   "cell_type": "code",
   "execution_count": 9,
   "metadata": {
    "collapsed": false
   },
   "outputs": [
    {
     "name": "stdout",
     "output_type": "stream",
     "text": [
      "no. of nodes= 120, no. of edges= 4294\n"
     ]
    }
   ],
   "source": [
    "G_pp = nx.planted_partition_graph(4, 30, 0.9, 0.1,seed=42,directed=True)\n",
    "graphProp(G_pp)"
   ]
  },
  {
   "cell_type": "code",
   "execution_count": 15,
   "metadata": {
    "collapsed": false
   },
   "outputs": [
    {
     "name": "stdout",
     "output_type": "stream",
     "text": [
      "SpringRank scores:\n",
      "Results saved in: /Users/Dixit/Documents/Studies/CU_Boulder/sem3/Independent_study/github/SpringRank/data/output//Planted_partition_SpringRank_a0_l0_0_l1_1.dat\n"
     ]
    }
   ],
   "source": [
    "pp_rank,pp_tuples = run(G_pp,0,0,1)\n",
    "save(pp_tuples,0,0,1,G_pp,'Planted_partition')"
   ]
  },
  {
   "cell_type": "code",
   "execution_count": 16,
   "metadata": {
    "collapsed": false
   },
   "outputs": [
    {
     "data": {
      "image/png": "[encoded data removed]",
      "text/plain": [
       "<matplotlib.figure.Figure at 0x108580ef0>"
      ]
     },
     "metadata": {},
     "output_type": "display_data"
    }
   ],
   "source": [
    "A_pp = nx.to_numpy_matrix(G_pp,nodelist=list(G_pp.nodes))\n",
    "eqn39SimplePlot(pp_rank,A_pp,save='Planted_partition_Eqn39')\n"
   ]
  },
  {
   "cell_type": "code",
   "execution_count": 17,
   "metadata": {
    "collapsed": false
   },
   "outputs": [
    {
     "name": "stdout",
     "output_type": "stream",
     "text": [
      "Beta value for Planted partition data 0.6244535190530607\n"
     ]
    }
   ],
   "source": [
    "pp_beta=tl.get_optimal_temperature(pp_rank,A_pp)\n",
    "print('Beta value for Planted partition data {0}'.format(pp_beta))"
   ]
  },
  {
   "cell_type": "code",
   "execution_count": 18,
   "metadata": {
    "collapsed": false
   },
   "outputs": [
    {
     "data": {
      "image/png": "[encoded data removed]",
      "text/plain": [
       "<matplotlib.figure.Figure at 0x108a3cc18>"
      ]
     },
     "metadata": {},
     "output_type": "display_data"
    }
   ],
   "source": [
    "pp_preds = prediction(pp_beta,pp_rank)\n",
    "pp_y_true,pp_y_target = getGroundTruth(pp_preds,G_pp)\n",
    "pp_fpr, pp_tpr, pp_thresholds = metrics.roc_curve(pp_y_true, pp_y_target)\n",
    "pp_roc_auc = metrics.auc(pp_fpr,pp_tpr)\n",
    "plotROC(pp_fpr,pp_tpr,pp_roc_auc,'Planted Partition')"
   ]
  },
  {
   "cell_type": "code",
   "execution_count": null,
   "metadata": {
    "collapsed": true
   },
   "outputs": [],
   "source": []
  }
 ],
 "metadata": {
  "kernelspec": {
   "display_name": "Python 3",
   "language": "python",
   "name": "python3"
  },
  "language_info": {
   "codemirror_mode": {
    "name": "ipython",
    "version": 3
   },
   "file_extension": ".py",
   "mimetype": "text/x-python",
   "name": "python",
   "nbconvert_exporter": "python",
   "pygments_lexer": "ipython3",
   "version": "3.5.2"
  }
 },
 "nbformat": 4,
 "nbformat_minor": 0
}
